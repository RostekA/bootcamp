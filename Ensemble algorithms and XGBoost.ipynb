{
 "cells": [
  {
   "cell_type": "code",
   "execution_count": 1,
   "metadata": {},
   "outputs": [],
   "source": [
    "#! pip install xgboost==0.90"
   ]
  },
  {
   "cell_type": "code",
   "execution_count": 2,
   "metadata": {},
   "outputs": [],
   "source": [
    "#! pip install --upgrade scikit-learn"
   ]
  },
  {
   "cell_type": "code",
   "execution_count": 3,
   "metadata": {},
   "outputs": [],
   "source": [
    "#! pip install --upgrade pandas"
   ]
  },
  {
   "cell_type": "code",
   "execution_count": 4,
   "metadata": {},
   "outputs": [],
   "source": [
    "import xgboost"
   ]
  },
  {
   "cell_type": "code",
   "execution_count": 5,
   "metadata": {},
   "outputs": [],
   "source": [
    "import numpy as np\n",
    "import pandas as pd\n",
    "import matplotlib.pyplot as plt\n",
    "\n",
    "# pre-processing\n",
    "from sklearn.model_selection import train_test_split\n",
    "from sklearn.preprocessing import StandardScaler\n",
    "from sklearn.pipeline import make_pipeline\n",
    "\n",
    "# algorithms\n",
    "from sklearn.linear_model import LogisticRegression \n",
    "from sklearn.tree import DecisionTreeClassifier\n",
    "from sklearn.svm import SVC\n",
    "from sklearn.discriminant_analysis import LinearDiscriminantAnalysis, QuadraticDiscriminantAnalysis\n",
    "from sklearn.neighbors import KNeighborsClassifier\n",
    "\n",
    "# ensemble learning\n",
    "from sklearn.ensemble import VotingClassifier\n",
    "from sklearn.ensemble import StackingClassifier\n",
    "from sklearn.ensemble import RandomForestClassifier\n",
    "from sklearn.ensemble import AdaBoostClassifier\n",
    "from xgboost.sklearn import XGBClassifier\n",
    "\n",
    "# metrics\n",
    "from sklearn.metrics import roc_auc_score, accuracy_score\n",
    "from sklearn.model_selection import GridSearchCV\n",
    "from sklearn.model_selection import RandomizedSearchCV\n",
    "import scipy.stats as ss\n",
    "\n",
    "# suppress anoying warnings\n",
    "import warnings\n",
    "warnings.filterwarnings(\"ignore\")"
   ]
  },
  {
   "cell_type": "markdown",
   "metadata": {},
   "source": [
    "## Raw data"
   ]
  },
  {
   "cell_type": "code",
   "execution_count": 6,
   "metadata": {},
   "outputs": [
    {
     "data": {
      "text/html": [
       "<div>\n",
       "<style scoped>\n",
       "    .dataframe tbody tr th:only-of-type {\n",
       "        vertical-align: middle;\n",
       "    }\n",
       "\n",
       "    .dataframe tbody tr th {\n",
       "        vertical-align: top;\n",
       "    }\n",
       "\n",
       "    .dataframe thead th {\n",
       "        text-align: right;\n",
       "    }\n",
       "</style>\n",
       "<table border=\"1\" class=\"dataframe\">\n",
       "  <thead>\n",
       "    <tr style=\"text-align: right;\">\n",
       "      <th></th>\n",
       "      <th>0</th>\n",
       "      <th>1</th>\n",
       "      <th>2</th>\n",
       "      <th>3</th>\n",
       "      <th>4</th>\n",
       "      <th>5</th>\n",
       "      <th>6</th>\n",
       "      <th>7</th>\n",
       "      <th>8</th>\n",
       "    </tr>\n",
       "  </thead>\n",
       "  <tbody>\n",
       "    <tr>\n",
       "      <th>0</th>\n",
       "      <td>6</td>\n",
       "      <td>148</td>\n",
       "      <td>72</td>\n",
       "      <td>35</td>\n",
       "      <td>0</td>\n",
       "      <td>33.6</td>\n",
       "      <td>0.627</td>\n",
       "      <td>50</td>\n",
       "      <td>1</td>\n",
       "    </tr>\n",
       "    <tr>\n",
       "      <th>1</th>\n",
       "      <td>1</td>\n",
       "      <td>85</td>\n",
       "      <td>66</td>\n",
       "      <td>29</td>\n",
       "      <td>0</td>\n",
       "      <td>26.6</td>\n",
       "      <td>0.351</td>\n",
       "      <td>31</td>\n",
       "      <td>0</td>\n",
       "    </tr>\n",
       "    <tr>\n",
       "      <th>2</th>\n",
       "      <td>8</td>\n",
       "      <td>183</td>\n",
       "      <td>64</td>\n",
       "      <td>0</td>\n",
       "      <td>0</td>\n",
       "      <td>23.3</td>\n",
       "      <td>0.672</td>\n",
       "      <td>32</td>\n",
       "      <td>1</td>\n",
       "    </tr>\n",
       "    <tr>\n",
       "      <th>3</th>\n",
       "      <td>1</td>\n",
       "      <td>89</td>\n",
       "      <td>66</td>\n",
       "      <td>23</td>\n",
       "      <td>94</td>\n",
       "      <td>28.1</td>\n",
       "      <td>0.167</td>\n",
       "      <td>21</td>\n",
       "      <td>0</td>\n",
       "    </tr>\n",
       "    <tr>\n",
       "      <th>4</th>\n",
       "      <td>0</td>\n",
       "      <td>137</td>\n",
       "      <td>40</td>\n",
       "      <td>35</td>\n",
       "      <td>168</td>\n",
       "      <td>43.1</td>\n",
       "      <td>2.288</td>\n",
       "      <td>33</td>\n",
       "      <td>1</td>\n",
       "    </tr>\n",
       "  </tbody>\n",
       "</table>\n",
       "</div>"
      ],
      "text/plain": [
       "   0    1   2   3    4     5      6   7  8\n",
       "0  6  148  72  35    0  33.6  0.627  50  1\n",
       "1  1   85  66  29    0  26.6  0.351  31  0\n",
       "2  8  183  64   0    0  23.3  0.672  32  1\n",
       "3  1   89  66  23   94  28.1  0.167  21  0\n",
       "4  0  137  40  35  168  43.1  2.288  33  1"
      ]
     },
     "execution_count": 6,
     "metadata": {},
     "output_type": "execute_result"
    }
   ],
   "source": [
    "df = pd.read_csv('Dane/pima-indians-diabetes.csv', header=None)\n",
    "df.head()"
   ]
  },
  {
   "cell_type": "code",
   "execution_count": 7,
   "metadata": {},
   "outputs": [],
   "source": [
    "X = df.iloc[:, :8]\n",
    "y = df.iloc[:,8]"
   ]
  },
  {
   "cell_type": "code",
   "execution_count": 8,
   "metadata": {},
   "outputs": [
    {
     "name": "stdout",
     "output_type": "stream",
     "text": [
      "(768, 8)\n",
      "0.3489583333333333\n"
     ]
    }
   ],
   "source": [
    "print(X.shape)\n",
    "print(np.mean(y))"
   ]
  },
  {
   "cell_type": "code",
   "execution_count": 9,
   "metadata": {},
   "outputs": [],
   "source": [
    "seed = 7\n",
    "test_size = 0.33\n",
    "X_train, X_test, y_train, y_test = train_test_split(X, y, test_size=test_size, random_state=seed)"
   ]
  },
  {
   "cell_type": "markdown",
   "metadata": {},
   "source": [
    "## Trying different models"
   ]
  },
  {
   "cell_type": "code",
   "execution_count": 10,
   "metadata": {},
   "outputs": [],
   "source": [
    "def get_roc_auc(model, X, y):\n",
    "    y_score = model.predict_proba(X)[:, 1] # take the probability of the label 1\n",
    "    return roc_auc_score(y_true=y.values, y_score=y_score)  \n",
    "\n",
    "def get_accuracy(model, X, y):\n",
    "    y_pred = model.predict(X)\n",
    "    return accuracy_score(y_true=y, y_pred=y_pred)\n",
    "\n",
    "def get_performance(model, X, y):\n",
    "    return f\"Accuracy: {get_accuracy(model, X, y): .2f}, AUC: {get_roc_auc(model, X, y): .3f} \""
   ]
  },
  {
   "cell_type": "code",
   "execution_count": 11,
   "metadata": {},
   "outputs": [],
   "source": [
    "models = [LogisticRegression(),\n",
    "          DecisionTreeClassifier(),\n",
    "          SVC(probability=True), \n",
    "          LinearDiscriminantAnalysis(), \n",
    "          RandomForestClassifier(),\n",
    "          KNeighborsClassifier()]\n",
    "\n",
    "names = ['LR', 'DT', 'SVC', 'LDA', 'RF', 'KNN']\n",
    "\n",
    "basic_acc = {}\n",
    "\n",
    "for model, name in zip(models, names):\n",
    "    model.fit(X_train, y_train)\n",
    "    \n",
    "    performance = get_performance(model, X_test, y_test)\n",
    "    basic_acc[name] = performance\n",
    "    "
   ]
  },
  {
   "cell_type": "code",
   "execution_count": 12,
   "metadata": {},
   "outputs": [
    {
     "data": {
      "text/plain": [
       "{'LR': 'Accuracy:  0.79, AUC:  0.831 ',\n",
       " 'DT': 'Accuracy:  0.70, AUC:  0.677 ',\n",
       " 'SVC': 'Accuracy:  0.75, AUC:  0.812 ',\n",
       " 'LDA': 'Accuracy:  0.77, AUC:  0.831 ',\n",
       " 'RF': 'Accuracy:  0.76, AUC:  0.815 ',\n",
       " 'KNN': 'Accuracy:  0.69, AUC:  0.738 '}"
      ]
     },
     "execution_count": 12,
     "metadata": {},
     "output_type": "execute_result"
    }
   ],
   "source": [
    "basic_acc"
   ]
  },
  {
   "cell_type": "markdown",
   "metadata": {},
   "source": [
    "## Combinig Classifiers"
   ]
  },
  {
   "cell_type": "code",
   "execution_count": 13,
   "metadata": {},
   "outputs": [],
   "source": [
    "VotingClassifier?"
   ]
  },
  {
   "cell_type": "code",
   "execution_count": 14,
   "metadata": {},
   "outputs": [],
   "source": [
    "models = [LogisticRegression(),\n",
    "          DecisionTreeClassifier(),\n",
    "          SVC(probability=True), \n",
    "          LinearDiscriminantAnalysis(), \n",
    "          RandomForestClassifier(),\n",
    "          KNeighborsClassifier()]\n",
    "\n",
    "names = ['LR', \n",
    "         'DT', \n",
    "         'SVC', \n",
    "         'LDA', \n",
    "         'RF', \n",
    "         'KNN']"
   ]
  },
  {
   "cell_type": "markdown",
   "metadata": {},
   "source": [
    "### Voting hard"
   ]
  },
  {
   "cell_type": "code",
   "execution_count": 15,
   "metadata": {},
   "outputs": [
    {
     "data": {
      "text/plain": [
       "0.7677165354330708"
      ]
     },
     "execution_count": 15,
     "metadata": {},
     "output_type": "execute_result"
    }
   ],
   "source": [
    "model_hard = VotingClassifier(estimators=list(zip(names, models)), voting=\"hard\")\n",
    "model_hard.fit(X_train, y_train)\n",
    "\n",
    "# no probability here so no ROC AUC\n",
    "model_hard.score(X_test, y_test)"
   ]
  },
  {
   "cell_type": "markdown",
   "metadata": {},
   "source": [
    "### Voting soft "
   ]
  },
  {
   "cell_type": "code",
   "execution_count": 16,
   "metadata": {},
   "outputs": [
    {
     "data": {
      "text/plain": [
       "'Accuracy:  0.76, AUC:  0.825 '"
      ]
     },
     "execution_count": 16,
     "metadata": {},
     "output_type": "execute_result"
    }
   ],
   "source": [
    "model_soft = VotingClassifier(estimators=list(zip(names, models)), voting=\"soft\")\n",
    "model_soft.fit(X_train, y_train)\n",
    "\n",
    "get_performance(model_soft, X_test, y_test)"
   ]
  },
  {
   "cell_type": "markdown",
   "metadata": {},
   "source": [
    "## Bagging\n",
    "* Random Forest"
   ]
  },
  {
   "cell_type": "code",
   "execution_count": 17,
   "metadata": {},
   "outputs": [],
   "source": [
    "RandomForestClassifier?"
   ]
  },
  {
   "cell_type": "code",
   "execution_count": 18,
   "metadata": {},
   "outputs": [
    {
     "data": {
      "text/plain": [
       "'Accuracy:  0.78, AUC:  0.831 '"
      ]
     },
     "execution_count": 18,
     "metadata": {},
     "output_type": "execute_result"
    }
   ],
   "source": [
    "rf = RandomForestClassifier(n_estimators=1000)\n",
    "rf.fit(X_train, y_train)\n",
    "\n",
    "get_performance(rf, X_test, y_test)"
   ]
  },
  {
   "cell_type": "markdown",
   "metadata": {},
   "source": [
    "## Stacking"
   ]
  },
  {
   "cell_type": "code",
   "execution_count": 19,
   "metadata": {},
   "outputs": [
    {
     "data": {
      "text/html": [
       "<style>#sk-container-id-1 {color: black;background-color: white;}#sk-container-id-1 pre{padding: 0;}#sk-container-id-1 div.sk-toggleable {background-color: white;}#sk-container-id-1 label.sk-toggleable__label {cursor: pointer;display: block;width: 100%;margin-bottom: 0;padding: 0.3em;box-sizing: border-box;text-align: center;}#sk-container-id-1 label.sk-toggleable__label-arrow:before {content: \"▸\";float: left;margin-right: 0.25em;color: #696969;}#sk-container-id-1 label.sk-toggleable__label-arrow:hover:before {color: black;}#sk-container-id-1 div.sk-estimator:hover label.sk-toggleable__label-arrow:before {color: black;}#sk-container-id-1 div.sk-toggleable__content {max-height: 0;max-width: 0;overflow: hidden;text-align: left;background-color: #f0f8ff;}#sk-container-id-1 div.sk-toggleable__content pre {margin: 0.2em;color: black;border-radius: 0.25em;background-color: #f0f8ff;}#sk-container-id-1 input.sk-toggleable__control:checked~div.sk-toggleable__content {max-height: 200px;max-width: 100%;overflow: auto;}#sk-container-id-1 input.sk-toggleable__control:checked~label.sk-toggleable__label-arrow:before {content: \"▾\";}#sk-container-id-1 div.sk-estimator input.sk-toggleable__control:checked~label.sk-toggleable__label {background-color: #d4ebff;}#sk-container-id-1 div.sk-label input.sk-toggleable__control:checked~label.sk-toggleable__label {background-color: #d4ebff;}#sk-container-id-1 input.sk-hidden--visually {border: 0;clip: rect(1px 1px 1px 1px);clip: rect(1px, 1px, 1px, 1px);height: 1px;margin: -1px;overflow: hidden;padding: 0;position: absolute;width: 1px;}#sk-container-id-1 div.sk-estimator {font-family: monospace;background-color: #f0f8ff;border: 1px dotted black;border-radius: 0.25em;box-sizing: border-box;margin-bottom: 0.5em;}#sk-container-id-1 div.sk-estimator:hover {background-color: #d4ebff;}#sk-container-id-1 div.sk-parallel-item::after {content: \"\";width: 100%;border-bottom: 1px solid gray;flex-grow: 1;}#sk-container-id-1 div.sk-label:hover label.sk-toggleable__label {background-color: #d4ebff;}#sk-container-id-1 div.sk-serial::before {content: \"\";position: absolute;border-left: 1px solid gray;box-sizing: border-box;top: 0;bottom: 0;left: 50%;z-index: 0;}#sk-container-id-1 div.sk-serial {display: flex;flex-direction: column;align-items: center;background-color: white;padding-right: 0.2em;padding-left: 0.2em;position: relative;}#sk-container-id-1 div.sk-item {position: relative;z-index: 1;}#sk-container-id-1 div.sk-parallel {display: flex;align-items: stretch;justify-content: center;background-color: white;position: relative;}#sk-container-id-1 div.sk-item::before, #sk-container-id-1 div.sk-parallel-item::before {content: \"\";position: absolute;border-left: 1px solid gray;box-sizing: border-box;top: 0;bottom: 0;left: 50%;z-index: -1;}#sk-container-id-1 div.sk-parallel-item {display: flex;flex-direction: column;z-index: 1;position: relative;background-color: white;}#sk-container-id-1 div.sk-parallel-item:first-child::after {align-self: flex-end;width: 50%;}#sk-container-id-1 div.sk-parallel-item:last-child::after {align-self: flex-start;width: 50%;}#sk-container-id-1 div.sk-parallel-item:only-child::after {width: 0;}#sk-container-id-1 div.sk-dashed-wrapped {border: 1px dashed gray;margin: 0 0.4em 0.5em 0.4em;box-sizing: border-box;padding-bottom: 0.4em;background-color: white;}#sk-container-id-1 div.sk-label label {font-family: monospace;font-weight: bold;display: inline-block;line-height: 1.2em;}#sk-container-id-1 div.sk-label-container {text-align: center;}#sk-container-id-1 div.sk-container {/* jupyter's `normalize.less` sets `[hidden] { display: none; }` but bootstrap.min.css set `[hidden] { display: none !important; }` so we also need the `!important` here to be able to override the default hidden behavior on the sphinx rendered scikit-learn.org. See: https://github.com/scikit-learn/scikit-learn/issues/21755 */display: inline-block !important;position: relative;}#sk-container-id-1 div.sk-text-repr-fallback {display: none;}</style><div id=\"sk-container-id-1\" class=\"sk-top-container\"><div class=\"sk-text-repr-fallback\"><pre>StackingClassifier(estimators=[(&#x27;rf&#x27;,\n",
       "                                RandomForestClassifier(n_estimators=10,\n",
       "                                                       random_state=42)),\n",
       "                               (&#x27;svr&#x27;,\n",
       "                                Pipeline(steps=[(&#x27;standardscaler&#x27;,\n",
       "                                                 StandardScaler()),\n",
       "                                                (&#x27;svc&#x27;,\n",
       "                                                 SVC(random_state=42))]))],\n",
       "                   final_estimator=LogisticRegression())</pre><b>In a Jupyter environment, please rerun this cell to show the HTML representation or trust the notebook. <br />On GitHub, the HTML representation is unable to render, please try loading this page with nbviewer.org.</b></div><div class=\"sk-container\" hidden><div class=\"sk-item sk-dashed-wrapped\"><div class=\"sk-label-container\"><div class=\"sk-label sk-toggleable\"><input class=\"sk-toggleable__control sk-hidden--visually\" id=\"sk-estimator-id-1\" type=\"checkbox\" ><label for=\"sk-estimator-id-1\" class=\"sk-toggleable__label sk-toggleable__label-arrow\">StackingClassifier</label><div class=\"sk-toggleable__content\"><pre>StackingClassifier(estimators=[(&#x27;rf&#x27;,\n",
       "                                RandomForestClassifier(n_estimators=10,\n",
       "                                                       random_state=42)),\n",
       "                               (&#x27;svr&#x27;,\n",
       "                                Pipeline(steps=[(&#x27;standardscaler&#x27;,\n",
       "                                                 StandardScaler()),\n",
       "                                                (&#x27;svc&#x27;,\n",
       "                                                 SVC(random_state=42))]))],\n",
       "                   final_estimator=LogisticRegression())</pre></div></div></div><div class=\"sk-serial\"><div class=\"sk-item\"><div class=\"sk-parallel\"><div class=\"sk-parallel-item\"><div class=\"sk-item\"><div class=\"sk-label-container\"><div class=\"sk-label sk-toggleable\"><label>rf</label></div></div><div class=\"sk-serial\"><div class=\"sk-item\"><div class=\"sk-estimator sk-toggleable\"><input class=\"sk-toggleable__control sk-hidden--visually\" id=\"sk-estimator-id-2\" type=\"checkbox\" ><label for=\"sk-estimator-id-2\" class=\"sk-toggleable__label sk-toggleable__label-arrow\">RandomForestClassifier</label><div class=\"sk-toggleable__content\"><pre>RandomForestClassifier(n_estimators=10, random_state=42)</pre></div></div></div></div></div></div><div class=\"sk-parallel-item\"><div class=\"sk-item\"><div class=\"sk-label-container\"><div class=\"sk-label sk-toggleable\"><label>svr</label></div></div><div class=\"sk-serial\"><div class=\"sk-item\"><div class=\"sk-serial\"><div class=\"sk-item\"><div class=\"sk-estimator sk-toggleable\"><input class=\"sk-toggleable__control sk-hidden--visually\" id=\"sk-estimator-id-3\" type=\"checkbox\" ><label for=\"sk-estimator-id-3\" class=\"sk-toggleable__label sk-toggleable__label-arrow\">StandardScaler</label><div class=\"sk-toggleable__content\"><pre>StandardScaler()</pre></div></div></div><div class=\"sk-item\"><div class=\"sk-estimator sk-toggleable\"><input class=\"sk-toggleable__control sk-hidden--visually\" id=\"sk-estimator-id-4\" type=\"checkbox\" ><label for=\"sk-estimator-id-4\" class=\"sk-toggleable__label sk-toggleable__label-arrow\">SVC</label><div class=\"sk-toggleable__content\"><pre>SVC(random_state=42)</pre></div></div></div></div></div></div></div></div></div></div><div class=\"sk-item\"><div class=\"sk-parallel\"><div class=\"sk-parallel-item\"><div class=\"sk-item\"><div class=\"sk-label-container\"><div class=\"sk-label sk-toggleable\"><label>final_estimator</label></div></div><div class=\"sk-serial\"><div class=\"sk-item\"><div class=\"sk-estimator sk-toggleable\"><input class=\"sk-toggleable__control sk-hidden--visually\" id=\"sk-estimator-id-5\" type=\"checkbox\" ><label for=\"sk-estimator-id-5\" class=\"sk-toggleable__label sk-toggleable__label-arrow\">LogisticRegression</label><div class=\"sk-toggleable__content\"><pre>LogisticRegression()</pre></div></div></div></div></div></div></div></div></div></div></div></div>"
      ],
      "text/plain": [
       "StackingClassifier(estimators=[('rf',\n",
       "                                RandomForestClassifier(n_estimators=10,\n",
       "                                                       random_state=42)),\n",
       "                               ('svr',\n",
       "                                Pipeline(steps=[('standardscaler',\n",
       "                                                 StandardScaler()),\n",
       "                                                ('svc',\n",
       "                                                 SVC(random_state=42))]))],\n",
       "                   final_estimator=LogisticRegression())"
      ]
     },
     "execution_count": 19,
     "metadata": {},
     "output_type": "execute_result"
    }
   ],
   "source": [
    "estimators = [\n",
    "    ('rf', RandomForestClassifier(n_estimators=10, random_state=42)),\n",
    "    ('svr', make_pipeline(StandardScaler(),\n",
    "                          SVC(random_state=42)))\n",
    "]\n",
    "clf = StackingClassifier(\n",
    "    estimators=estimators, final_estimator=LogisticRegression()\n",
    ")\n",
    "\n",
    "\n",
    "clf.fit(X_train, y_train)"
   ]
  },
  {
   "cell_type": "code",
   "execution_count": 20,
   "metadata": {},
   "outputs": [
    {
     "data": {
      "text/plain": [
       "'Accuracy:  0.75, AUC:  0.837 '"
      ]
     },
     "execution_count": 20,
     "metadata": {},
     "output_type": "execute_result"
    }
   ],
   "source": [
    "get_performance(clf, X_test, y_test)"
   ]
  },
  {
   "cell_type": "markdown",
   "metadata": {},
   "source": [
    "## Zadanie \n",
    "1. zbudować model RF, zmieniając głębokość drzew - 3 opcje. Czy to wpływa na dokładnośc modelu?\n",
    "2. zbudować model metodą Stacking\n",
    "    * estimators - DT, RF, LR\n",
    "    * final_estimator => SVC"
   ]
  },
  {
   "cell_type": "markdown",
   "metadata": {},
   "source": [
    "## Boosting\n"
   ]
  },
  {
   "cell_type": "code",
   "execution_count": 21,
   "metadata": {},
   "outputs": [],
   "source": [
    "?XGBClassifier"
   ]
  },
  {
   "cell_type": "code",
   "execution_count": 22,
   "metadata": {},
   "outputs": [
    {
     "data": {
      "text/plain": [
       "'Accuracy:  0.78, AUC:  0.821 '"
      ]
     },
     "execution_count": 22,
     "metadata": {},
     "output_type": "execute_result"
    }
   ],
   "source": [
    "model = XGBClassifier()\n",
    "model.fit(X_train, y_train)\n",
    "\n",
    "get_performance(model, X_test, y_test)"
   ]
  },
  {
   "cell_type": "markdown",
   "metadata": {},
   "source": [
    "## XGBoost Hyper-parameters tuning\n",
    "* many parameters and hard to tune;\n",
    "* there are best practices - look how others do that :-)\n",
    "* grid search is not an optimal solution because it will take a very long time (there are a lot of parameters to tune)"
   ]
  },
  {
   "cell_type": "code",
   "execution_count": 23,
   "metadata": {},
   "outputs": [
    {
     "data": {
      "text/html": [
       "<style>#sk-container-id-2 {color: black;background-color: white;}#sk-container-id-2 pre{padding: 0;}#sk-container-id-2 div.sk-toggleable {background-color: white;}#sk-container-id-2 label.sk-toggleable__label {cursor: pointer;display: block;width: 100%;margin-bottom: 0;padding: 0.3em;box-sizing: border-box;text-align: center;}#sk-container-id-2 label.sk-toggleable__label-arrow:before {content: \"▸\";float: left;margin-right: 0.25em;color: #696969;}#sk-container-id-2 label.sk-toggleable__label-arrow:hover:before {color: black;}#sk-container-id-2 div.sk-estimator:hover label.sk-toggleable__label-arrow:before {color: black;}#sk-container-id-2 div.sk-toggleable__content {max-height: 0;max-width: 0;overflow: hidden;text-align: left;background-color: #f0f8ff;}#sk-container-id-2 div.sk-toggleable__content pre {margin: 0.2em;color: black;border-radius: 0.25em;background-color: #f0f8ff;}#sk-container-id-2 input.sk-toggleable__control:checked~div.sk-toggleable__content {max-height: 200px;max-width: 100%;overflow: auto;}#sk-container-id-2 input.sk-toggleable__control:checked~label.sk-toggleable__label-arrow:before {content: \"▾\";}#sk-container-id-2 div.sk-estimator input.sk-toggleable__control:checked~label.sk-toggleable__label {background-color: #d4ebff;}#sk-container-id-2 div.sk-label input.sk-toggleable__control:checked~label.sk-toggleable__label {background-color: #d4ebff;}#sk-container-id-2 input.sk-hidden--visually {border: 0;clip: rect(1px 1px 1px 1px);clip: rect(1px, 1px, 1px, 1px);height: 1px;margin: -1px;overflow: hidden;padding: 0;position: absolute;width: 1px;}#sk-container-id-2 div.sk-estimator {font-family: monospace;background-color: #f0f8ff;border: 1px dotted black;border-radius: 0.25em;box-sizing: border-box;margin-bottom: 0.5em;}#sk-container-id-2 div.sk-estimator:hover {background-color: #d4ebff;}#sk-container-id-2 div.sk-parallel-item::after {content: \"\";width: 100%;border-bottom: 1px solid gray;flex-grow: 1;}#sk-container-id-2 div.sk-label:hover label.sk-toggleable__label {background-color: #d4ebff;}#sk-container-id-2 div.sk-serial::before {content: \"\";position: absolute;border-left: 1px solid gray;box-sizing: border-box;top: 0;bottom: 0;left: 50%;z-index: 0;}#sk-container-id-2 div.sk-serial {display: flex;flex-direction: column;align-items: center;background-color: white;padding-right: 0.2em;padding-left: 0.2em;position: relative;}#sk-container-id-2 div.sk-item {position: relative;z-index: 1;}#sk-container-id-2 div.sk-parallel {display: flex;align-items: stretch;justify-content: center;background-color: white;position: relative;}#sk-container-id-2 div.sk-item::before, #sk-container-id-2 div.sk-parallel-item::before {content: \"\";position: absolute;border-left: 1px solid gray;box-sizing: border-box;top: 0;bottom: 0;left: 50%;z-index: -1;}#sk-container-id-2 div.sk-parallel-item {display: flex;flex-direction: column;z-index: 1;position: relative;background-color: white;}#sk-container-id-2 div.sk-parallel-item:first-child::after {align-self: flex-end;width: 50%;}#sk-container-id-2 div.sk-parallel-item:last-child::after {align-self: flex-start;width: 50%;}#sk-container-id-2 div.sk-parallel-item:only-child::after {width: 0;}#sk-container-id-2 div.sk-dashed-wrapped {border: 1px dashed gray;margin: 0 0.4em 0.5em 0.4em;box-sizing: border-box;padding-bottom: 0.4em;background-color: white;}#sk-container-id-2 div.sk-label label {font-family: monospace;font-weight: bold;display: inline-block;line-height: 1.2em;}#sk-container-id-2 div.sk-label-container {text-align: center;}#sk-container-id-2 div.sk-container {/* jupyter's `normalize.less` sets `[hidden] { display: none; }` but bootstrap.min.css set `[hidden] { display: none !important; }` so we also need the `!important` here to be able to override the default hidden behavior on the sphinx rendered scikit-learn.org. See: https://github.com/scikit-learn/scikit-learn/issues/21755 */display: inline-block !important;position: relative;}#sk-container-id-2 div.sk-text-repr-fallback {display: none;}</style><div id=\"sk-container-id-2\" class=\"sk-top-container\"><div class=\"sk-text-repr-fallback\"><pre>GridSearchCV(cv=20, estimator=XGBClassifier(random_state=100),\n",
       "             param_grid={&#x27;learning_rate&#x27;: [0.1, 0.2, 0.3],\n",
       "                         &#x27;n_estimators&#x27;: [5, 10, 20]})</pre><b>In a Jupyter environment, please rerun this cell to show the HTML representation or trust the notebook. <br />On GitHub, the HTML representation is unable to render, please try loading this page with nbviewer.org.</b></div><div class=\"sk-container\" hidden><div class=\"sk-item sk-dashed-wrapped\"><div class=\"sk-label-container\"><div class=\"sk-label sk-toggleable\"><input class=\"sk-toggleable__control sk-hidden--visually\" id=\"sk-estimator-id-6\" type=\"checkbox\" ><label for=\"sk-estimator-id-6\" class=\"sk-toggleable__label sk-toggleable__label-arrow\">GridSearchCV</label><div class=\"sk-toggleable__content\"><pre>GridSearchCV(cv=20, estimator=XGBClassifier(random_state=100),\n",
       "             param_grid={&#x27;learning_rate&#x27;: [0.1, 0.2, 0.3],\n",
       "                         &#x27;n_estimators&#x27;: [5, 10, 20]})</pre></div></div></div><div class=\"sk-parallel\"><div class=\"sk-parallel-item\"><div class=\"sk-item\"><div class=\"sk-label-container\"><div class=\"sk-label sk-toggleable\"><input class=\"sk-toggleable__control sk-hidden--visually\" id=\"sk-estimator-id-7\" type=\"checkbox\" ><label for=\"sk-estimator-id-7\" class=\"sk-toggleable__label sk-toggleable__label-arrow\">estimator: XGBClassifier</label><div class=\"sk-toggleable__content\"><pre>XGBClassifier(random_state=100)</pre></div></div></div><div class=\"sk-serial\"><div class=\"sk-item\"><div class=\"sk-estimator sk-toggleable\"><input class=\"sk-toggleable__control sk-hidden--visually\" id=\"sk-estimator-id-8\" type=\"checkbox\" ><label for=\"sk-estimator-id-8\" class=\"sk-toggleable__label sk-toggleable__label-arrow\">XGBClassifier</label><div class=\"sk-toggleable__content\"><pre>XGBClassifier(random_state=100)</pre></div></div></div></div></div></div></div></div></div></div>"
      ],
      "text/plain": [
       "GridSearchCV(cv=20, estimator=XGBClassifier(random_state=100),\n",
       "             param_grid={'learning_rate': [0.1, 0.2, 0.3],\n",
       "                         'n_estimators': [5, 10, 20]})"
      ]
     },
     "execution_count": 23,
     "metadata": {},
     "output_type": "execute_result"
    }
   ],
   "source": [
    "xgb = XGBClassifier(random_state=100)\n",
    "params = {\n",
    "    \"n_estimators\": [5,10,20],\n",
    "    \"learning_rate\": [0.1, 0.2, 0.3]\n",
    "}\n",
    "\n",
    "gscv1 = GridSearchCV(param_grid=params, estimator=xgb,cv=20)\n",
    "gscv1.fit(X_train,y_train)"
   ]
  },
  {
   "cell_type": "code",
   "execution_count": 24,
   "metadata": {},
   "outputs": [
    {
     "data": {
      "text/plain": [
       "(0.7605384615384616, {'learning_rate': 0.1, 'n_estimators': 5})"
      ]
     },
     "execution_count": 24,
     "metadata": {},
     "output_type": "execute_result"
    }
   ],
   "source": [
    "gscv1.best_score_, gscv1.best_params_"
   ]
  },
  {
   "cell_type": "code",
   "execution_count": 25,
   "metadata": {},
   "outputs": [
    {
     "data": {
      "text/plain": [
       "{'base_score': 0.5,\n",
       " 'booster': 'gbtree',\n",
       " 'colsample_bylevel': 1,\n",
       " 'colsample_bynode': 1,\n",
       " 'colsample_bytree': 1,\n",
       " 'gamma': 0,\n",
       " 'learning_rate': 0.1,\n",
       " 'max_delta_step': 0,\n",
       " 'max_depth': 3,\n",
       " 'min_child_weight': 1,\n",
       " 'missing': None,\n",
       " 'n_estimators': 5,\n",
       " 'n_jobs': 1,\n",
       " 'nthread': None,\n",
       " 'objective': 'binary:logistic',\n",
       " 'random_state': 100,\n",
       " 'reg_alpha': 0,\n",
       " 'reg_lambda': 1,\n",
       " 'scale_pos_weight': 1,\n",
       " 'seed': None,\n",
       " 'silent': None,\n",
       " 'subsample': 1,\n",
       " 'verbosity': 1}"
      ]
     },
     "execution_count": 25,
     "metadata": {},
     "output_type": "execute_result"
    }
   ],
   "source": [
    "gscv1.best_params_\n",
    "gscv1.best_estimator_.get_params()"
   ]
  },
  {
   "cell_type": "code",
   "execution_count": 26,
   "metadata": {},
   "outputs": [
    {
     "data": {
      "text/html": [
       "<style>#sk-container-id-3 {color: black;background-color: white;}#sk-container-id-3 pre{padding: 0;}#sk-container-id-3 div.sk-toggleable {background-color: white;}#sk-container-id-3 label.sk-toggleable__label {cursor: pointer;display: block;width: 100%;margin-bottom: 0;padding: 0.3em;box-sizing: border-box;text-align: center;}#sk-container-id-3 label.sk-toggleable__label-arrow:before {content: \"▸\";float: left;margin-right: 0.25em;color: #696969;}#sk-container-id-3 label.sk-toggleable__label-arrow:hover:before {color: black;}#sk-container-id-3 div.sk-estimator:hover label.sk-toggleable__label-arrow:before {color: black;}#sk-container-id-3 div.sk-toggleable__content {max-height: 0;max-width: 0;overflow: hidden;text-align: left;background-color: #f0f8ff;}#sk-container-id-3 div.sk-toggleable__content pre {margin: 0.2em;color: black;border-radius: 0.25em;background-color: #f0f8ff;}#sk-container-id-3 input.sk-toggleable__control:checked~div.sk-toggleable__content {max-height: 200px;max-width: 100%;overflow: auto;}#sk-container-id-3 input.sk-toggleable__control:checked~label.sk-toggleable__label-arrow:before {content: \"▾\";}#sk-container-id-3 div.sk-estimator input.sk-toggleable__control:checked~label.sk-toggleable__label {background-color: #d4ebff;}#sk-container-id-3 div.sk-label input.sk-toggleable__control:checked~label.sk-toggleable__label {background-color: #d4ebff;}#sk-container-id-3 input.sk-hidden--visually {border: 0;clip: rect(1px 1px 1px 1px);clip: rect(1px, 1px, 1px, 1px);height: 1px;margin: -1px;overflow: hidden;padding: 0;position: absolute;width: 1px;}#sk-container-id-3 div.sk-estimator {font-family: monospace;background-color: #f0f8ff;border: 1px dotted black;border-radius: 0.25em;box-sizing: border-box;margin-bottom: 0.5em;}#sk-container-id-3 div.sk-estimator:hover {background-color: #d4ebff;}#sk-container-id-3 div.sk-parallel-item::after {content: \"\";width: 100%;border-bottom: 1px solid gray;flex-grow: 1;}#sk-container-id-3 div.sk-label:hover label.sk-toggleable__label {background-color: #d4ebff;}#sk-container-id-3 div.sk-serial::before {content: \"\";position: absolute;border-left: 1px solid gray;box-sizing: border-box;top: 0;bottom: 0;left: 50%;z-index: 0;}#sk-container-id-3 div.sk-serial {display: flex;flex-direction: column;align-items: center;background-color: white;padding-right: 0.2em;padding-left: 0.2em;position: relative;}#sk-container-id-3 div.sk-item {position: relative;z-index: 1;}#sk-container-id-3 div.sk-parallel {display: flex;align-items: stretch;justify-content: center;background-color: white;position: relative;}#sk-container-id-3 div.sk-item::before, #sk-container-id-3 div.sk-parallel-item::before {content: \"\";position: absolute;border-left: 1px solid gray;box-sizing: border-box;top: 0;bottom: 0;left: 50%;z-index: -1;}#sk-container-id-3 div.sk-parallel-item {display: flex;flex-direction: column;z-index: 1;position: relative;background-color: white;}#sk-container-id-3 div.sk-parallel-item:first-child::after {align-self: flex-end;width: 50%;}#sk-container-id-3 div.sk-parallel-item:last-child::after {align-self: flex-start;width: 50%;}#sk-container-id-3 div.sk-parallel-item:only-child::after {width: 0;}#sk-container-id-3 div.sk-dashed-wrapped {border: 1px dashed gray;margin: 0 0.4em 0.5em 0.4em;box-sizing: border-box;padding-bottom: 0.4em;background-color: white;}#sk-container-id-3 div.sk-label label {font-family: monospace;font-weight: bold;display: inline-block;line-height: 1.2em;}#sk-container-id-3 div.sk-label-container {text-align: center;}#sk-container-id-3 div.sk-container {/* jupyter's `normalize.less` sets `[hidden] { display: none; }` but bootstrap.min.css set `[hidden] { display: none !important; }` so we also need the `!important` here to be able to override the default hidden behavior on the sphinx rendered scikit-learn.org. See: https://github.com/scikit-learn/scikit-learn/issues/21755 */display: inline-block !important;position: relative;}#sk-container-id-3 div.sk-text-repr-fallback {display: none;}</style><div id=\"sk-container-id-3\" class=\"sk-top-container\"><div class=\"sk-text-repr-fallback\"><pre>GridSearchCV(cv=20, estimator=XGBClassifier(n_estimators=5),\n",
       "             param_grid={&#x27;max_depth&#x27;: [3, 4, 5],\n",
       "                         &#x27;min_child_weight&#x27;: [3, 5, 7, 10, 15, 20]})</pre><b>In a Jupyter environment, please rerun this cell to show the HTML representation or trust the notebook. <br />On GitHub, the HTML representation is unable to render, please try loading this page with nbviewer.org.</b></div><div class=\"sk-container\" hidden><div class=\"sk-item sk-dashed-wrapped\"><div class=\"sk-label-container\"><div class=\"sk-label sk-toggleable\"><input class=\"sk-toggleable__control sk-hidden--visually\" id=\"sk-estimator-id-9\" type=\"checkbox\" ><label for=\"sk-estimator-id-9\" class=\"sk-toggleable__label sk-toggleable__label-arrow\">GridSearchCV</label><div class=\"sk-toggleable__content\"><pre>GridSearchCV(cv=20, estimator=XGBClassifier(n_estimators=5),\n",
       "             param_grid={&#x27;max_depth&#x27;: [3, 4, 5],\n",
       "                         &#x27;min_child_weight&#x27;: [3, 5, 7, 10, 15, 20]})</pre></div></div></div><div class=\"sk-parallel\"><div class=\"sk-parallel-item\"><div class=\"sk-item\"><div class=\"sk-label-container\"><div class=\"sk-label sk-toggleable\"><input class=\"sk-toggleable__control sk-hidden--visually\" id=\"sk-estimator-id-10\" type=\"checkbox\" ><label for=\"sk-estimator-id-10\" class=\"sk-toggleable__label sk-toggleable__label-arrow\">estimator: XGBClassifier</label><div class=\"sk-toggleable__content\"><pre>XGBClassifier(n_estimators=5)</pre></div></div></div><div class=\"sk-serial\"><div class=\"sk-item\"><div class=\"sk-estimator sk-toggleable\"><input class=\"sk-toggleable__control sk-hidden--visually\" id=\"sk-estimator-id-11\" type=\"checkbox\" ><label for=\"sk-estimator-id-11\" class=\"sk-toggleable__label sk-toggleable__label-arrow\">XGBClassifier</label><div class=\"sk-toggleable__content\"><pre>XGBClassifier(n_estimators=5)</pre></div></div></div></div></div></div></div></div></div></div>"
      ],
      "text/plain": [
       "GridSearchCV(cv=20, estimator=XGBClassifier(n_estimators=5),\n",
       "             param_grid={'max_depth': [3, 4, 5],\n",
       "                         'min_child_weight': [3, 5, 7, 10, 15, 20]})"
      ]
     },
     "execution_count": 26,
     "metadata": {},
     "output_type": "execute_result"
    }
   ],
   "source": [
    "# initialize using previous best params and add a new grid search\n",
    "xgb = XGBClassifier(**gscv1.best_params_)\n",
    "\n",
    "params = {\"max_depth\": [3,4,5],\n",
    "         \"min_child_weight\": [3, 5, 7, 10 ,15, 20]}\n",
    "gscv2 = GridSearchCV(param_grid=params, estimator=xgb,cv=20)\n",
    "gscv2.fit(X_train,y_train)"
   ]
  },
  {
   "cell_type": "code",
   "execution_count": 27,
   "metadata": {},
   "outputs": [
    {
     "data": {
      "text/plain": [
       "(0.77, {'max_depth': 3, 'min_child_weight': 10})"
      ]
     },
     "execution_count": 27,
     "metadata": {},
     "output_type": "execute_result"
    }
   ],
   "source": [
    "gscv2.best_score_, gscv2.best_params_"
   ]
  },
  {
   "cell_type": "markdown",
   "metadata": {},
   "source": [
    "* We can go at once but it will take much time \n",
    "* We can iteratively\n",
    "* it is not optimal solution"
   ]
  },
  {
   "cell_type": "markdown",
   "metadata": {},
   "source": [
    "## Randomized Search"
   ]
  },
  {
   "cell_type": "code",
   "execution_count": 28,
   "metadata": {},
   "outputs": [
    {
     "name": "stdout",
     "output_type": "stream",
     "text": [
      "Fitting 5 folds for each of 30 candidates, totalling 150 fits\n",
      "[CV 1/5; 1/30] START learning_rate=0.1762192636949702, max_depth=10, min_child_weight=30, n_estimators=200, reg_lambda=1.9019168836105433\n",
      "[CV 1/5; 1/30] END learning_rate=0.1762192636949702, max_depth=10, min_child_weight=30, n_estimators=200, reg_lambda=1.9019168836105433;, score=0.796 total time=   0.0s\n",
      "[CV 2/5; 1/30] START learning_rate=0.1762192636949702, max_depth=10, min_child_weight=30, n_estimators=200, reg_lambda=1.9019168836105433\n",
      "[CV 2/5; 1/30] END learning_rate=0.1762192636949702, max_depth=10, min_child_weight=30, n_estimators=200, reg_lambda=1.9019168836105433;, score=0.786 total time=   0.0s\n",
      "[CV 3/5; 1/30] START learning_rate=0.1762192636949702, max_depth=10, min_child_weight=30, n_estimators=200, reg_lambda=1.9019168836105433\n",
      "[CV 3/5; 1/30] END learning_rate=0.1762192636949702, max_depth=10, min_child_weight=30, n_estimators=200, reg_lambda=1.9019168836105433;, score=0.699 total time=   0.0s\n",
      "[CV 4/5; 1/30] START learning_rate=0.1762192636949702, max_depth=10, min_child_weight=30, n_estimators=200, reg_lambda=1.9019168836105433\n",
      "[CV 4/5; 1/30] END learning_rate=0.1762192636949702, max_depth=10, min_child_weight=30, n_estimators=200, reg_lambda=1.9019168836105433;, score=0.757 total time=   0.0s\n",
      "[CV 5/5; 1/30] START learning_rate=0.1762192636949702, max_depth=10, min_child_weight=30, n_estimators=200, reg_lambda=1.9019168836105433\n",
      "[CV 5/5; 1/30] END learning_rate=0.1762192636949702, max_depth=10, min_child_weight=30, n_estimators=200, reg_lambda=1.9019168836105433;, score=0.686 total time=   0.0s\n",
      "[CV 1/5; 2/30] START learning_rate=0.135455011377094, max_depth=26, min_child_weight=34, n_estimators=10, reg_lambda=1.1702269839132748\n",
      "[CV 1/5; 2/30] END learning_rate=0.135455011377094, max_depth=26, min_child_weight=34, n_estimators=10, reg_lambda=1.1702269839132748;, score=0.816 total time=   0.0s\n",
      "[CV 2/5; 2/30] START learning_rate=0.135455011377094, max_depth=26, min_child_weight=34, n_estimators=10, reg_lambda=1.1702269839132748\n",
      "[CV 2/5; 2/30] END learning_rate=0.135455011377094, max_depth=26, min_child_weight=34, n_estimators=10, reg_lambda=1.1702269839132748;, score=0.767 total time=   0.0s\n",
      "[CV 3/5; 2/30] START learning_rate=0.135455011377094, max_depth=26, min_child_weight=34, n_estimators=10, reg_lambda=1.1702269839132748\n",
      "[CV 3/5; 2/30] END learning_rate=0.135455011377094, max_depth=26, min_child_weight=34, n_estimators=10, reg_lambda=1.1702269839132748;, score=0.699 total time=   0.0s\n",
      "[CV 4/5; 2/30] START learning_rate=0.135455011377094, max_depth=26, min_child_weight=34, n_estimators=10, reg_lambda=1.1702269839132748\n",
      "[CV 4/5; 2/30] END learning_rate=0.135455011377094, max_depth=26, min_child_weight=34, n_estimators=10, reg_lambda=1.1702269839132748;, score=0.748 total time=   0.0s\n",
      "[CV 5/5; 2/30] START learning_rate=0.135455011377094, max_depth=26, min_child_weight=34, n_estimators=10, reg_lambda=1.1702269839132748\n",
      "[CV 5/5; 2/30] END learning_rate=0.135455011377094, max_depth=26, min_child_weight=34, n_estimators=10, reg_lambda=1.1702269839132748;, score=0.686 total time=   0.0s\n",
      "[CV 1/5; 3/30] START learning_rate=0.11014699387081205, max_depth=22, min_child_weight=27, n_estimators=100, reg_lambda=2.4432474046797226\n",
      "[CV 1/5; 3/30] END learning_rate=0.11014699387081205, max_depth=22, min_child_weight=27, n_estimators=100, reg_lambda=2.4432474046797226;, score=0.816 total time=   0.0s\n",
      "[CV 2/5; 3/30] START learning_rate=0.11014699387081205, max_depth=22, min_child_weight=27, n_estimators=100, reg_lambda=2.4432474046797226\n",
      "[CV 2/5; 3/30] END learning_rate=0.11014699387081205, max_depth=22, min_child_weight=27, n_estimators=100, reg_lambda=2.4432474046797226;, score=0.806 total time=   0.0s\n",
      "[CV 3/5; 3/30] START learning_rate=0.11014699387081205, max_depth=22, min_child_weight=27, n_estimators=100, reg_lambda=2.4432474046797226\n",
      "[CV 3/5; 3/30] END learning_rate=0.11014699387081205, max_depth=22, min_child_weight=27, n_estimators=100, reg_lambda=2.4432474046797226;, score=0.718 total time=   0.0s\n",
      "[CV 4/5; 3/30] START learning_rate=0.11014699387081205, max_depth=22, min_child_weight=27, n_estimators=100, reg_lambda=2.4432474046797226\n",
      "[CV 4/5; 3/30] END learning_rate=0.11014699387081205, max_depth=22, min_child_weight=27, n_estimators=100, reg_lambda=2.4432474046797226;, score=0.777 total time=   0.0s\n",
      "[CV 5/5; 3/30] START learning_rate=0.11014699387081205, max_depth=22, min_child_weight=27, n_estimators=100, reg_lambda=2.4432474046797226\n",
      "[CV 5/5; 3/30] END learning_rate=0.11014699387081205, max_depth=22, min_child_weight=27, n_estimators=100, reg_lambda=2.4432474046797226;, score=0.716 total time=   0.0s\n",
      "[CV 1/5; 4/30] START learning_rate=0.2837594264647889, max_depth=17, min_child_weight=13, n_estimators=10, reg_lambda=2.7227419913150297\n",
      "[CV 1/5; 4/30] END learning_rate=0.2837594264647889, max_depth=17, min_child_weight=13, n_estimators=10, reg_lambda=2.7227419913150297;, score=0.806 total time=   0.0s\n",
      "[CV 2/5; 4/30] START learning_rate=0.2837594264647889, max_depth=17, min_child_weight=13, n_estimators=10, reg_lambda=2.7227419913150297\n",
      "[CV 2/5; 4/30] END learning_rate=0.2837594264647889, max_depth=17, min_child_weight=13, n_estimators=10, reg_lambda=2.7227419913150297;, score=0.786 total time=   0.0s\n",
      "[CV 3/5; 4/30] START learning_rate=0.2837594264647889, max_depth=17, min_child_weight=13, n_estimators=10, reg_lambda=2.7227419913150297\n",
      "[CV 3/5; 4/30] END learning_rate=0.2837594264647889, max_depth=17, min_child_weight=13, n_estimators=10, reg_lambda=2.7227419913150297;, score=0.738 total time=   0.0s\n",
      "[CV 4/5; 4/30] START learning_rate=0.2837594264647889, max_depth=17, min_child_weight=13, n_estimators=10, reg_lambda=2.7227419913150297\n",
      "[CV 4/5; 4/30] END learning_rate=0.2837594264647889, max_depth=17, min_child_weight=13, n_estimators=10, reg_lambda=2.7227419913150297;, score=0.777 total time=   0.0s\n",
      "[CV 5/5; 4/30] START learning_rate=0.2837594264647889, max_depth=17, min_child_weight=13, n_estimators=10, reg_lambda=2.7227419913150297\n",
      "[CV 5/5; 4/30] END learning_rate=0.2837594264647889, max_depth=17, min_child_weight=13, n_estimators=10, reg_lambda=2.7227419913150297;, score=0.745 total time=   0.0s\n",
      "[CV 1/5; 5/30] START learning_rate=0.1329854730520304, max_depth=19, min_child_weight=17, n_estimators=100, reg_lambda=1.465471951791995\n",
      "[CV 1/5; 5/30] END learning_rate=0.1329854730520304, max_depth=19, min_child_weight=17, n_estimators=100, reg_lambda=1.465471951791995;, score=0.806 total time=   0.0s\n",
      "[CV 2/5; 5/30] START learning_rate=0.1329854730520304, max_depth=19, min_child_weight=17, n_estimators=100, reg_lambda=1.465471951791995\n",
      "[CV 2/5; 5/30] END learning_rate=0.1329854730520304, max_depth=19, min_child_weight=17, n_estimators=100, reg_lambda=1.465471951791995;, score=0.786 total time=   0.0s\n",
      "[CV 3/5; 5/30] START learning_rate=0.1329854730520304, max_depth=19, min_child_weight=17, n_estimators=100, reg_lambda=1.465471951791995\n",
      "[CV 3/5; 5/30] END learning_rate=0.1329854730520304, max_depth=19, min_child_weight=17, n_estimators=100, reg_lambda=1.465471951791995;, score=0.670 total time=   0.0s\n",
      "[CV 4/5; 5/30] START learning_rate=0.1329854730520304, max_depth=19, min_child_weight=17, n_estimators=100, reg_lambda=1.465471951791995\n",
      "[CV 4/5; 5/30] END learning_rate=0.1329854730520304, max_depth=19, min_child_weight=17, n_estimators=100, reg_lambda=1.465471951791995;, score=0.777 total time=   0.0s\n",
      "[CV 5/5; 5/30] START learning_rate=0.1329854730520304, max_depth=19, min_child_weight=17, n_estimators=100, reg_lambda=1.465471951791995\n",
      "[CV 5/5; 5/30] END learning_rate=0.1329854730520304, max_depth=19, min_child_weight=17, n_estimators=100, reg_lambda=1.465471951791995;, score=0.725 total time=   0.0s\n",
      "[CV 1/5; 6/30] START learning_rate=0.25469912472182393, max_depth=26, min_child_weight=46, n_estimators=200, reg_lambda=1.018595364228157\n",
      "[CV 1/5; 6/30] END learning_rate=0.25469912472182393, max_depth=26, min_child_weight=46, n_estimators=200, reg_lambda=1.018595364228157;, score=0.699 total time=   0.0s\n",
      "[CV 2/5; 6/30] START learning_rate=0.25469912472182393, max_depth=26, min_child_weight=46, n_estimators=200, reg_lambda=1.018595364228157\n",
      "[CV 2/5; 6/30] END learning_rate=0.25469912472182393, max_depth=26, min_child_weight=46, n_estimators=200, reg_lambda=1.018595364228157;, score=0.660 total time=   0.0s\n",
      "[CV 3/5; 6/30] START learning_rate=0.25469912472182393, max_depth=26, min_child_weight=46, n_estimators=200, reg_lambda=1.018595364228157\n",
      "[CV 3/5; 6/30] END learning_rate=0.25469912472182393, max_depth=26, min_child_weight=46, n_estimators=200, reg_lambda=1.018595364228157;, score=0.718 total time=   0.0s\n",
      "[CV 4/5; 6/30] START learning_rate=0.25469912472182393, max_depth=26, min_child_weight=46, n_estimators=200, reg_lambda=1.018595364228157\n",
      "[CV 4/5; 6/30] END learning_rate=0.25469912472182393, max_depth=26, min_child_weight=46, n_estimators=200, reg_lambda=1.018595364228157;, score=0.650 total time=   0.0s\n",
      "[CV 5/5; 6/30] START learning_rate=0.25469912472182393, max_depth=26, min_child_weight=46, n_estimators=200, reg_lambda=1.018595364228157\n",
      "[CV 5/5; 6/30] END learning_rate=0.25469912472182393, max_depth=26, min_child_weight=46, n_estimators=200, reg_lambda=1.018595364228157;, score=0.696 total time=   0.0s\n",
      "[CV 1/5; 7/30] START learning_rate=0.2419249444689861, max_depth=25, min_child_weight=12, n_estimators=10, reg_lambda=1.672409273646673\n",
      "[CV 1/5; 7/30] END learning_rate=0.2419249444689861, max_depth=25, min_child_weight=12, n_estimators=10, reg_lambda=1.672409273646673;, score=0.796 total time=   0.0s\n",
      "[CV 2/5; 7/30] START learning_rate=0.2419249444689861, max_depth=25, min_child_weight=12, n_estimators=10, reg_lambda=1.672409273646673\n",
      "[CV 2/5; 7/30] END learning_rate=0.2419249444689861, max_depth=25, min_child_weight=12, n_estimators=10, reg_lambda=1.672409273646673;, score=0.816 total time=   0.0s\n",
      "[CV 3/5; 7/30] START learning_rate=0.2419249444689861, max_depth=25, min_child_weight=12, n_estimators=10, reg_lambda=1.672409273646673\n",
      "[CV 3/5; 7/30] END learning_rate=0.2419249444689861, max_depth=25, min_child_weight=12, n_estimators=10, reg_lambda=1.672409273646673;, score=0.680 total time=   0.0s\n",
      "[CV 4/5; 7/30] START learning_rate=0.2419249444689861, max_depth=25, min_child_weight=12, n_estimators=10, reg_lambda=1.672409273646673\n",
      "[CV 4/5; 7/30] END learning_rate=0.2419249444689861, max_depth=25, min_child_weight=12, n_estimators=10, reg_lambda=1.672409273646673;, score=0.738 total time=   0.0s\n",
      "[CV 5/5; 7/30] START learning_rate=0.2419249444689861, max_depth=25, min_child_weight=12, n_estimators=10, reg_lambda=1.672409273646673\n",
      "[CV 5/5; 7/30] END learning_rate=0.2419249444689861, max_depth=25, min_child_weight=12, n_estimators=10, reg_lambda=1.672409273646673;, score=0.755 total time=   0.0s\n",
      "[CV 1/5; 8/30] START learning_rate=0.05255352820331388, max_depth=9, min_child_weight=37, n_estimators=10, reg_lambda=0.9999068883871248\n",
      "[CV 1/5; 8/30] END learning_rate=0.05255352820331388, max_depth=9, min_child_weight=37, n_estimators=10, reg_lambda=0.9999068883871248;, score=0.757 total time=   0.0s\n",
      "[CV 2/5; 8/30] START learning_rate=0.05255352820331388, max_depth=9, min_child_weight=37, n_estimators=10, reg_lambda=0.9999068883871248\n",
      "[CV 2/5; 8/30] END learning_rate=0.05255352820331388, max_depth=9, min_child_weight=37, n_estimators=10, reg_lambda=0.9999068883871248;, score=0.650 total time=   0.0s\n",
      "[CV 3/5; 8/30] START learning_rate=0.05255352820331388, max_depth=9, min_child_weight=37, n_estimators=10, reg_lambda=0.9999068883871248\n",
      "[CV 3/5; 8/30] END learning_rate=0.05255352820331388, max_depth=9, min_child_weight=37, n_estimators=10, reg_lambda=0.9999068883871248;, score=0.748 total time=   0.0s\n",
      "[CV 4/5; 8/30] START learning_rate=0.05255352820331388, max_depth=9, min_child_weight=37, n_estimators=10, reg_lambda=0.9999068883871248\n",
      "[CV 4/5; 8/30] END learning_rate=0.05255352820331388, max_depth=9, min_child_weight=37, n_estimators=10, reg_lambda=0.9999068883871248;, score=0.728 total time=   0.0s\n",
      "[CV 5/5; 8/30] START learning_rate=0.05255352820331388, max_depth=9, min_child_weight=37, n_estimators=10, reg_lambda=0.9999068883871248\n",
      "[CV 5/5; 8/30] END learning_rate=0.05255352820331388, max_depth=9, min_child_weight=37, n_estimators=10, reg_lambda=0.9999068883871248;, score=0.706 total time=   0.0s\n",
      "[CV 1/5; 9/30] START learning_rate=0.21686659515172405, max_depth=7, min_child_weight=39, n_estimators=200, reg_lambda=1.8542591130054102\n"
     ]
    },
    {
     "name": "stdout",
     "output_type": "stream",
     "text": [
      "[CV 1/5; 9/30] END learning_rate=0.21686659515172405, max_depth=7, min_child_weight=39, n_estimators=200, reg_lambda=1.8542591130054102;, score=0.748 total time=   0.0s\n",
      "[CV 2/5; 9/30] START learning_rate=0.21686659515172405, max_depth=7, min_child_weight=39, n_estimators=200, reg_lambda=1.8542591130054102\n",
      "[CV 2/5; 9/30] END learning_rate=0.21686659515172405, max_depth=7, min_child_weight=39, n_estimators=200, reg_lambda=1.8542591130054102;, score=0.748 total time=   0.0s\n",
      "[CV 3/5; 9/30] START learning_rate=0.21686659515172405, max_depth=7, min_child_weight=39, n_estimators=200, reg_lambda=1.8542591130054102\n",
      "[CV 3/5; 9/30] END learning_rate=0.21686659515172405, max_depth=7, min_child_weight=39, n_estimators=200, reg_lambda=1.8542591130054102;, score=0.670 total time=   0.0s\n",
      "[CV 4/5; 9/30] START learning_rate=0.21686659515172405, max_depth=7, min_child_weight=39, n_estimators=200, reg_lambda=1.8542591130054102\n",
      "[CV 4/5; 9/30] END learning_rate=0.21686659515172405, max_depth=7, min_child_weight=39, n_estimators=200, reg_lambda=1.8542591130054102;, score=0.767 total time=   0.0s\n",
      "[CV 5/5; 9/30] START learning_rate=0.21686659515172405, max_depth=7, min_child_weight=39, n_estimators=200, reg_lambda=1.8542591130054102\n",
      "[CV 5/5; 9/30] END learning_rate=0.21686659515172405, max_depth=7, min_child_weight=39, n_estimators=200, reg_lambda=1.8542591130054102;, score=0.706 total time=   0.0s\n",
      "[CV 1/5; 10/30] START learning_rate=0.20770452634269654, max_depth=15, min_child_weight=32, n_estimators=200, reg_lambda=2.9039463197936235\n",
      "[CV 1/5; 10/30] END learning_rate=0.20770452634269654, max_depth=15, min_child_weight=32, n_estimators=200, reg_lambda=2.9039463197936235;, score=0.786 total time=   0.0s\n",
      "[CV 2/5; 10/30] START learning_rate=0.20770452634269654, max_depth=15, min_child_weight=32, n_estimators=200, reg_lambda=2.9039463197936235\n",
      "[CV 2/5; 10/30] END learning_rate=0.20770452634269654, max_depth=15, min_child_weight=32, n_estimators=200, reg_lambda=2.9039463197936235;, score=0.786 total time=   0.0s\n",
      "[CV 3/5; 10/30] START learning_rate=0.20770452634269654, max_depth=15, min_child_weight=32, n_estimators=200, reg_lambda=2.9039463197936235\n",
      "[CV 3/5; 10/30] END learning_rate=0.20770452634269654, max_depth=15, min_child_weight=32, n_estimators=200, reg_lambda=2.9039463197936235;, score=0.709 total time=   0.0s\n",
      "[CV 4/5; 10/30] START learning_rate=0.20770452634269654, max_depth=15, min_child_weight=32, n_estimators=200, reg_lambda=2.9039463197936235\n",
      "[CV 4/5; 10/30] END learning_rate=0.20770452634269654, max_depth=15, min_child_weight=32, n_estimators=200, reg_lambda=2.9039463197936235;, score=0.767 total time=   0.0s\n",
      "[CV 5/5; 10/30] START learning_rate=0.20770452634269654, max_depth=15, min_child_weight=32, n_estimators=200, reg_lambda=2.9039463197936235\n",
      "[CV 5/5; 10/30] END learning_rate=0.20770452634269654, max_depth=15, min_child_weight=32, n_estimators=200, reg_lambda=2.9039463197936235;, score=0.686 total time=   0.0s\n",
      "[CV 1/5; 11/30] START learning_rate=0.2829408547551439, max_depth=11, min_child_weight=24, n_estimators=10, reg_lambda=0.2904013885197142\n",
      "[CV 1/5; 11/30] END learning_rate=0.2829408547551439, max_depth=11, min_child_weight=24, n_estimators=10, reg_lambda=0.2904013885197142;, score=0.816 total time=   0.0s\n",
      "[CV 2/5; 11/30] START learning_rate=0.2829408547551439, max_depth=11, min_child_weight=24, n_estimators=10, reg_lambda=0.2904013885197142\n",
      "[CV 2/5; 11/30] END learning_rate=0.2829408547551439, max_depth=11, min_child_weight=24, n_estimators=10, reg_lambda=0.2904013885197142;, score=0.816 total time=   0.0s\n",
      "[CV 3/5; 11/30] START learning_rate=0.2829408547551439, max_depth=11, min_child_weight=24, n_estimators=10, reg_lambda=0.2904013885197142\n",
      "[CV 3/5; 11/30] END learning_rate=0.2829408547551439, max_depth=11, min_child_weight=24, n_estimators=10, reg_lambda=0.2904013885197142;, score=0.757 total time=   0.0s\n",
      "[CV 4/5; 11/30] START learning_rate=0.2829408547551439, max_depth=11, min_child_weight=24, n_estimators=10, reg_lambda=0.2904013885197142\n",
      "[CV 4/5; 11/30] END learning_rate=0.2829408547551439, max_depth=11, min_child_weight=24, n_estimators=10, reg_lambda=0.2904013885197142;, score=0.748 total time=   0.0s\n",
      "[CV 5/5; 11/30] START learning_rate=0.2829408547551439, max_depth=11, min_child_weight=24, n_estimators=10, reg_lambda=0.2904013885197142\n",
      "[CV 5/5; 11/30] END learning_rate=0.2829408547551439, max_depth=11, min_child_weight=24, n_estimators=10, reg_lambda=0.2904013885197142;, score=0.735 total time=   0.0s\n",
      "[CV 1/5; 12/30] START learning_rate=0.1618800371210307, max_depth=29, min_child_weight=23, n_estimators=200, reg_lambda=1.1965584828944453\n",
      "[CV 1/5; 12/30] END learning_rate=0.1618800371210307, max_depth=29, min_child_weight=23, n_estimators=200, reg_lambda=1.1965584828944453;, score=0.806 total time=   0.0s\n",
      "[CV 2/5; 12/30] START learning_rate=0.1618800371210307, max_depth=29, min_child_weight=23, n_estimators=200, reg_lambda=1.1965584828944453\n",
      "[CV 2/5; 12/30] END learning_rate=0.1618800371210307, max_depth=29, min_child_weight=23, n_estimators=200, reg_lambda=1.1965584828944453;, score=0.825 total time=   0.0s\n",
      "[CV 3/5; 12/30] START learning_rate=0.1618800371210307, max_depth=29, min_child_weight=23, n_estimators=200, reg_lambda=1.1965584828944453\n",
      "[CV 3/5; 12/30] END learning_rate=0.1618800371210307, max_depth=29, min_child_weight=23, n_estimators=200, reg_lambda=1.1965584828944453;, score=0.699 total time=   0.0s\n",
      "[CV 4/5; 12/30] START learning_rate=0.1618800371210307, max_depth=29, min_child_weight=23, n_estimators=200, reg_lambda=1.1965584828944453\n",
      "[CV 4/5; 12/30] END learning_rate=0.1618800371210307, max_depth=29, min_child_weight=23, n_estimators=200, reg_lambda=1.1965584828944453;, score=0.757 total time=   0.0s\n",
      "[CV 5/5; 12/30] START learning_rate=0.1618800371210307, max_depth=29, min_child_weight=23, n_estimators=200, reg_lambda=1.1965584828944453\n",
      "[CV 5/5; 12/30] END learning_rate=0.1618800371210307, max_depth=29, min_child_weight=23, n_estimators=200, reg_lambda=1.1965584828944453;, score=0.716 total time=   0.0s\n",
      "[CV 1/5; 13/30] START learning_rate=0.30586614940933354, max_depth=21, min_child_weight=20, n_estimators=100, reg_lambda=1.1035605298671451\n",
      "[CV 1/5; 13/30] END learning_rate=0.30586614940933354, max_depth=21, min_child_weight=20, n_estimators=100, reg_lambda=1.1035605298671451;, score=0.806 total time=   0.0s\n",
      "[CV 2/5; 13/30] START learning_rate=0.30586614940933354, max_depth=21, min_child_weight=20, n_estimators=100, reg_lambda=1.1035605298671451\n",
      "[CV 2/5; 13/30] END learning_rate=0.30586614940933354, max_depth=21, min_child_weight=20, n_estimators=100, reg_lambda=1.1035605298671451;, score=0.796 total time=   0.0s\n",
      "[CV 3/5; 13/30] START learning_rate=0.30586614940933354, max_depth=21, min_child_weight=20, n_estimators=100, reg_lambda=1.1035605298671451\n",
      "[CV 3/5; 13/30] END learning_rate=0.30586614940933354, max_depth=21, min_child_weight=20, n_estimators=100, reg_lambda=1.1035605298671451;, score=0.718 total time=   0.0s\n",
      "[CV 4/5; 13/30] START learning_rate=0.30586614940933354, max_depth=21, min_child_weight=20, n_estimators=100, reg_lambda=1.1035605298671451\n",
      "[CV 4/5; 13/30] END learning_rate=0.30586614940933354, max_depth=21, min_child_weight=20, n_estimators=100, reg_lambda=1.1035605298671451;, score=0.786 total time=   0.0s\n",
      "[CV 5/5; 13/30] START learning_rate=0.30586614940933354, max_depth=21, min_child_weight=20, n_estimators=100, reg_lambda=1.1035605298671451\n",
      "[CV 5/5; 13/30] END learning_rate=0.30586614940933354, max_depth=21, min_child_weight=20, n_estimators=100, reg_lambda=1.1035605298671451;, score=0.706 total time=   0.0s\n",
      "[CV 1/5; 14/30] START learning_rate=0.22253787033061748, max_depth=7, min_child_weight=37, n_estimators=100, reg_lambda=2.841503668334475\n",
      "[CV 1/5; 14/30] END learning_rate=0.22253787033061748, max_depth=7, min_child_weight=37, n_estimators=100, reg_lambda=2.841503668334475;, score=0.806 total time=   0.0s\n",
      "[CV 2/5; 14/30] START learning_rate=0.22253787033061748, max_depth=7, min_child_weight=37, n_estimators=100, reg_lambda=2.841503668334475\n",
      "[CV 2/5; 14/30] END learning_rate=0.22253787033061748, max_depth=7, min_child_weight=37, n_estimators=100, reg_lambda=2.841503668334475;, score=0.748 total time=   0.0s\n",
      "[CV 3/5; 14/30] START learning_rate=0.22253787033061748, max_depth=7, min_child_weight=37, n_estimators=100, reg_lambda=2.841503668334475\n",
      "[CV 3/5; 14/30] END learning_rate=0.22253787033061748, max_depth=7, min_child_weight=37, n_estimators=100, reg_lambda=2.841503668334475;, score=0.689 total time=   0.0s\n",
      "[CV 4/5; 14/30] START learning_rate=0.22253787033061748, max_depth=7, min_child_weight=37, n_estimators=100, reg_lambda=2.841503668334475\n",
      "[CV 4/5; 14/30] END learning_rate=0.22253787033061748, max_depth=7, min_child_weight=37, n_estimators=100, reg_lambda=2.841503668334475;, score=0.777 total time=   0.0s\n",
      "[CV 5/5; 14/30] START learning_rate=0.22253787033061748, max_depth=7, min_child_weight=37, n_estimators=100, reg_lambda=2.841503668334475\n",
      "[CV 5/5; 14/30] END learning_rate=0.22253787033061748, max_depth=7, min_child_weight=37, n_estimators=100, reg_lambda=2.841503668334475;, score=0.706 total time=   0.0s\n",
      "[CV 1/5; 15/30] START learning_rate=0.07984009898313492, max_depth=22, min_child_weight=6, n_estimators=100, reg_lambda=0.762321024868358\n",
      "[CV 1/5; 15/30] END learning_rate=0.07984009898313492, max_depth=22, min_child_weight=6, n_estimators=100, reg_lambda=0.762321024868358;, score=0.806 total time=   0.0s\n",
      "[CV 2/5; 15/30] START learning_rate=0.07984009898313492, max_depth=22, min_child_weight=6, n_estimators=100, reg_lambda=0.762321024868358\n",
      "[CV 2/5; 15/30] END learning_rate=0.07984009898313492, max_depth=22, min_child_weight=6, n_estimators=100, reg_lambda=0.762321024868358;, score=0.777 total time=   0.0s\n",
      "[CV 3/5; 15/30] START learning_rate=0.07984009898313492, max_depth=22, min_child_weight=6, n_estimators=100, reg_lambda=0.762321024868358\n"
     ]
    },
    {
     "name": "stdout",
     "output_type": "stream",
     "text": [
      "[CV 3/5; 15/30] END learning_rate=0.07984009898313492, max_depth=22, min_child_weight=6, n_estimators=100, reg_lambda=0.762321024868358;, score=0.680 total time=   0.0s\n",
      "[CV 4/5; 15/30] START learning_rate=0.07984009898313492, max_depth=22, min_child_weight=6, n_estimators=100, reg_lambda=0.762321024868358\n",
      "[CV 4/5; 15/30] END learning_rate=0.07984009898313492, max_depth=22, min_child_weight=6, n_estimators=100, reg_lambda=0.762321024868358;, score=0.796 total time=   0.0s\n",
      "[CV 5/5; 15/30] START learning_rate=0.07984009898313492, max_depth=22, min_child_weight=6, n_estimators=100, reg_lambda=0.762321024868358\n",
      "[CV 5/5; 15/30] END learning_rate=0.07984009898313492, max_depth=22, min_child_weight=6, n_estimators=100, reg_lambda=0.762321024868358;, score=0.706 total time=   0.0s\n",
      "[CV 1/5; 16/30] START learning_rate=0.19980832721096986, max_depth=19, min_child_weight=36, n_estimators=200, reg_lambda=0.723485776173083\n",
      "[CV 1/5; 16/30] END learning_rate=0.19980832721096986, max_depth=19, min_child_weight=36, n_estimators=200, reg_lambda=0.723485776173083;, score=0.806 total time=   0.0s\n",
      "[CV 2/5; 16/30] START learning_rate=0.19980832721096986, max_depth=19, min_child_weight=36, n_estimators=200, reg_lambda=0.723485776173083\n",
      "[CV 2/5; 16/30] END learning_rate=0.19980832721096986, max_depth=19, min_child_weight=36, n_estimators=200, reg_lambda=0.723485776173083;, score=0.786 total time=   0.0s\n",
      "[CV 3/5; 16/30] START learning_rate=0.19980832721096986, max_depth=19, min_child_weight=36, n_estimators=200, reg_lambda=0.723485776173083\n",
      "[CV 3/5; 16/30] END learning_rate=0.19980832721096986, max_depth=19, min_child_weight=36, n_estimators=200, reg_lambda=0.723485776173083;, score=0.699 total time=   0.0s\n",
      "[CV 4/5; 16/30] START learning_rate=0.19980832721096986, max_depth=19, min_child_weight=36, n_estimators=200, reg_lambda=0.723485776173083\n",
      "[CV 4/5; 16/30] END learning_rate=0.19980832721096986, max_depth=19, min_child_weight=36, n_estimators=200, reg_lambda=0.723485776173083;, score=0.767 total time=   0.0s\n",
      "[CV 5/5; 16/30] START learning_rate=0.19980832721096986, max_depth=19, min_child_weight=36, n_estimators=200, reg_lambda=0.723485776173083\n",
      "[CV 5/5; 16/30] END learning_rate=0.19980832721096986, max_depth=19, min_child_weight=36, n_estimators=200, reg_lambda=0.723485776173083;, score=0.706 total time=   0.0s\n",
      "[CV 1/5; 17/30] START learning_rate=0.03825261418529146, max_depth=22, min_child_weight=23, n_estimators=200, reg_lambda=2.979331194082475\n",
      "[CV 1/5; 17/30] END learning_rate=0.03825261418529146, max_depth=22, min_child_weight=23, n_estimators=200, reg_lambda=2.979331194082475;, score=0.806 total time=   0.0s\n",
      "[CV 2/5; 17/30] START learning_rate=0.03825261418529146, max_depth=22, min_child_weight=23, n_estimators=200, reg_lambda=2.979331194082475\n",
      "[CV 2/5; 17/30] END learning_rate=0.03825261418529146, max_depth=22, min_child_weight=23, n_estimators=200, reg_lambda=2.979331194082475;, score=0.806 total time=   0.0s\n",
      "[CV 3/5; 17/30] START learning_rate=0.03825261418529146, max_depth=22, min_child_weight=23, n_estimators=200, reg_lambda=2.979331194082475\n",
      "[CV 3/5; 17/30] END learning_rate=0.03825261418529146, max_depth=22, min_child_weight=23, n_estimators=200, reg_lambda=2.979331194082475;, score=0.728 total time=   0.0s\n",
      "[CV 4/5; 17/30] START learning_rate=0.03825261418529146, max_depth=22, min_child_weight=23, n_estimators=200, reg_lambda=2.979331194082475\n",
      "[CV 4/5; 17/30] END learning_rate=0.03825261418529146, max_depth=22, min_child_weight=23, n_estimators=200, reg_lambda=2.979331194082475;, score=0.767 total time=   0.0s\n",
      "[CV 5/5; 17/30] START learning_rate=0.03825261418529146, max_depth=22, min_child_weight=23, n_estimators=200, reg_lambda=2.979331194082475\n",
      "[CV 5/5; 17/30] END learning_rate=0.03825261418529146, max_depth=22, min_child_weight=23, n_estimators=200, reg_lambda=2.979331194082475;, score=0.716 total time=   0.0s\n",
      "[CV 1/5; 18/30] START learning_rate=0.1831264658840637, max_depth=18, min_child_weight=33, n_estimators=100, reg_lambda=1.474485943920576\n",
      "[CV 1/5; 18/30] END learning_rate=0.1831264658840637, max_depth=18, min_child_weight=33, n_estimators=100, reg_lambda=1.474485943920576;, score=0.796 total time=   0.0s\n",
      "[CV 2/5; 18/30] START learning_rate=0.1831264658840637, max_depth=18, min_child_weight=33, n_estimators=100, reg_lambda=1.474485943920576\n",
      "[CV 2/5; 18/30] END learning_rate=0.1831264658840637, max_depth=18, min_child_weight=33, n_estimators=100, reg_lambda=1.474485943920576;, score=0.786 total time=   0.0s\n",
      "[CV 3/5; 18/30] START learning_rate=0.1831264658840637, max_depth=18, min_child_weight=33, n_estimators=100, reg_lambda=1.474485943920576\n",
      "[CV 3/5; 18/30] END learning_rate=0.1831264658840637, max_depth=18, min_child_weight=33, n_estimators=100, reg_lambda=1.474485943920576;, score=0.709 total time=   0.0s\n",
      "[CV 4/5; 18/30] START learning_rate=0.1831264658840637, max_depth=18, min_child_weight=33, n_estimators=100, reg_lambda=1.474485943920576\n",
      "[CV 4/5; 18/30] END learning_rate=0.1831264658840637, max_depth=18, min_child_weight=33, n_estimators=100, reg_lambda=1.474485943920576;, score=0.767 total time=   0.0s\n",
      "[CV 5/5; 18/30] START learning_rate=0.1831264658840637, max_depth=18, min_child_weight=33, n_estimators=100, reg_lambda=1.474485943920576\n",
      "[CV 5/5; 18/30] END learning_rate=0.1831264658840637, max_depth=18, min_child_weight=33, n_estimators=100, reg_lambda=1.474485943920576;, score=0.696 total time=   0.0s\n",
      "[CV 1/5; 19/30] START learning_rate=0.16098405025159393, max_depth=11, min_child_weight=44, n_estimators=200, reg_lambda=2.8451415515941387\n",
      "[CV 1/5; 19/30] END learning_rate=0.16098405025159393, max_depth=11, min_child_weight=44, n_estimators=200, reg_lambda=2.8451415515941387;, score=0.709 total time=   0.0s\n",
      "[CV 2/5; 19/30] START learning_rate=0.16098405025159393, max_depth=11, min_child_weight=44, n_estimators=200, reg_lambda=2.8451415515941387\n",
      "[CV 2/5; 19/30] END learning_rate=0.16098405025159393, max_depth=11, min_child_weight=44, n_estimators=200, reg_lambda=2.8451415515941387;, score=0.728 total time=   0.0s\n",
      "[CV 3/5; 19/30] START learning_rate=0.16098405025159393, max_depth=11, min_child_weight=44, n_estimators=200, reg_lambda=2.8451415515941387\n",
      "[CV 3/5; 19/30] END learning_rate=0.16098405025159393, max_depth=11, min_child_weight=44, n_estimators=200, reg_lambda=2.8451415515941387;, score=0.709 total time=   0.0s\n",
      "[CV 4/5; 19/30] START learning_rate=0.16098405025159393, max_depth=11, min_child_weight=44, n_estimators=200, reg_lambda=2.8451415515941387\n",
      "[CV 4/5; 19/30] END learning_rate=0.16098405025159393, max_depth=11, min_child_weight=44, n_estimators=200, reg_lambda=2.8451415515941387;, score=0.767 total time=   0.0s\n",
      "[CV 5/5; 19/30] START learning_rate=0.16098405025159393, max_depth=11, min_child_weight=44, n_estimators=200, reg_lambda=2.8451415515941387\n",
      "[CV 5/5; 19/30] END learning_rate=0.16098405025159393, max_depth=11, min_child_weight=44, n_estimators=200, reg_lambda=2.8451415515941387;, score=0.686 total time=   0.0s\n",
      "[CV 1/5; 20/30] START learning_rate=0.028368214381816657, max_depth=19, min_child_weight=29, n_estimators=10, reg_lambda=2.135139646482507\n",
      "[CV 1/5; 20/30] END learning_rate=0.028368214381816657, max_depth=19, min_child_weight=29, n_estimators=10, reg_lambda=2.135139646482507;, score=0.767 total time=   0.0s\n",
      "[CV 2/5; 20/30] START learning_rate=0.028368214381816657, max_depth=19, min_child_weight=29, n_estimators=10, reg_lambda=2.135139646482507\n",
      "[CV 2/5; 20/30] END learning_rate=0.028368214381816657, max_depth=19, min_child_weight=29, n_estimators=10, reg_lambda=2.135139646482507;, score=0.748 total time=   0.0s\n",
      "[CV 3/5; 20/30] START learning_rate=0.028368214381816657, max_depth=19, min_child_weight=29, n_estimators=10, reg_lambda=2.135139646482507\n",
      "[CV 3/5; 20/30] END learning_rate=0.028368214381816657, max_depth=19, min_child_weight=29, n_estimators=10, reg_lambda=2.135139646482507;, score=0.718 total time=   0.0s\n",
      "[CV 4/5; 20/30] START learning_rate=0.028368214381816657, max_depth=19, min_child_weight=29, n_estimators=10, reg_lambda=2.135139646482507\n",
      "[CV 4/5; 20/30] END learning_rate=0.028368214381816657, max_depth=19, min_child_weight=29, n_estimators=10, reg_lambda=2.135139646482507;, score=0.748 total time=   0.0s\n",
      "[CV 5/5; 20/30] START learning_rate=0.028368214381816657, max_depth=19, min_child_weight=29, n_estimators=10, reg_lambda=2.135139646482507\n",
      "[CV 5/5; 20/30] END learning_rate=0.028368214381816657, max_depth=19, min_child_weight=29, n_estimators=10, reg_lambda=2.135139646482507;, score=0.716 total time=   0.0s\n",
      "[CV 1/5; 21/30] START learning_rate=0.1094288885274105, max_depth=25, min_child_weight=14, n_estimators=100, reg_lambda=2.751597122388221\n",
      "[CV 1/5; 21/30] END learning_rate=0.1094288885274105, max_depth=25, min_child_weight=14, n_estimators=100, reg_lambda=2.751597122388221;, score=0.816 total time=   0.0s\n",
      "[CV 2/5; 21/30] START learning_rate=0.1094288885274105, max_depth=25, min_child_weight=14, n_estimators=100, reg_lambda=2.751597122388221\n",
      "[CV 2/5; 21/30] END learning_rate=0.1094288885274105, max_depth=25, min_child_weight=14, n_estimators=100, reg_lambda=2.751597122388221;, score=0.825 total time=   0.0s\n",
      "[CV 3/5; 21/30] START learning_rate=0.1094288885274105, max_depth=25, min_child_weight=14, n_estimators=100, reg_lambda=2.751597122388221\n",
      "[CV 3/5; 21/30] END learning_rate=0.1094288885274105, max_depth=25, min_child_weight=14, n_estimators=100, reg_lambda=2.751597122388221;, score=0.689 total time=   0.0s\n",
      "[CV 4/5; 21/30] START learning_rate=0.1094288885274105, max_depth=25, min_child_weight=14, n_estimators=100, reg_lambda=2.751597122388221\n"
     ]
    },
    {
     "name": "stdout",
     "output_type": "stream",
     "text": [
      "[CV 4/5; 21/30] END learning_rate=0.1094288885274105, max_depth=25, min_child_weight=14, n_estimators=100, reg_lambda=2.751597122388221;, score=0.757 total time=   0.0s\n",
      "[CV 5/5; 21/30] START learning_rate=0.1094288885274105, max_depth=25, min_child_weight=14, n_estimators=100, reg_lambda=2.751597122388221\n",
      "[CV 5/5; 21/30] END learning_rate=0.1094288885274105, max_depth=25, min_child_weight=14, n_estimators=100, reg_lambda=2.751597122388221;, score=0.725 total time=   0.0s\n",
      "[CV 1/5; 22/30] START learning_rate=0.278867075404991, max_depth=7, min_child_weight=46, n_estimators=10, reg_lambda=2.5591042147621814\n",
      "[CV 1/5; 22/30] END learning_rate=0.278867075404991, max_depth=7, min_child_weight=46, n_estimators=10, reg_lambda=2.5591042147621814;, score=0.660 total time=   0.0s\n",
      "[CV 2/5; 22/30] START learning_rate=0.278867075404991, max_depth=7, min_child_weight=46, n_estimators=10, reg_lambda=2.5591042147621814\n",
      "[CV 2/5; 22/30] END learning_rate=0.278867075404991, max_depth=7, min_child_weight=46, n_estimators=10, reg_lambda=2.5591042147621814;, score=0.718 total time=   0.0s\n",
      "[CV 3/5; 22/30] START learning_rate=0.278867075404991, max_depth=7, min_child_weight=46, n_estimators=10, reg_lambda=2.5591042147621814\n",
      "[CV 3/5; 22/30] END learning_rate=0.278867075404991, max_depth=7, min_child_weight=46, n_estimators=10, reg_lambda=2.5591042147621814;, score=0.709 total time=   0.0s\n",
      "[CV 4/5; 22/30] START learning_rate=0.278867075404991, max_depth=7, min_child_weight=46, n_estimators=10, reg_lambda=2.5591042147621814\n",
      "[CV 4/5; 22/30] END learning_rate=0.278867075404991, max_depth=7, min_child_weight=46, n_estimators=10, reg_lambda=2.5591042147621814;, score=0.650 total time=   0.0s\n",
      "[CV 5/5; 22/30] START learning_rate=0.278867075404991, max_depth=7, min_child_weight=46, n_estimators=10, reg_lambda=2.5591042147621814\n",
      "[CV 5/5; 22/30] END learning_rate=0.278867075404991, max_depth=7, min_child_weight=46, n_estimators=10, reg_lambda=2.5591042147621814;, score=0.696 total time=   0.0s\n",
      "[CV 1/5; 23/30] START learning_rate=0.262451231940575, max_depth=12, min_child_weight=40, n_estimators=200, reg_lambda=2.7374739815066302\n",
      "[CV 1/5; 23/30] END learning_rate=0.262451231940575, max_depth=12, min_child_weight=40, n_estimators=200, reg_lambda=2.7374739815066302;, score=0.767 total time=   0.0s\n",
      "[CV 2/5; 23/30] START learning_rate=0.262451231940575, max_depth=12, min_child_weight=40, n_estimators=200, reg_lambda=2.7374739815066302\n",
      "[CV 2/5; 23/30] END learning_rate=0.262451231940575, max_depth=12, min_child_weight=40, n_estimators=200, reg_lambda=2.7374739815066302;, score=0.748 total time=   0.0s\n",
      "[CV 3/5; 23/30] START learning_rate=0.262451231940575, max_depth=12, min_child_weight=40, n_estimators=200, reg_lambda=2.7374739815066302\n",
      "[CV 3/5; 23/30] END learning_rate=0.262451231940575, max_depth=12, min_child_weight=40, n_estimators=200, reg_lambda=2.7374739815066302;, score=0.660 total time=   0.0s\n",
      "[CV 4/5; 23/30] START learning_rate=0.262451231940575, max_depth=12, min_child_weight=40, n_estimators=200, reg_lambda=2.7374739815066302\n",
      "[CV 4/5; 23/30] END learning_rate=0.262451231940575, max_depth=12, min_child_weight=40, n_estimators=200, reg_lambda=2.7374739815066302;, score=0.767 total time=   0.0s\n",
      "[CV 5/5; 23/30] START learning_rate=0.262451231940575, max_depth=12, min_child_weight=40, n_estimators=200, reg_lambda=2.7374739815066302\n",
      "[CV 5/5; 23/30] END learning_rate=0.262451231940575, max_depth=12, min_child_weight=40, n_estimators=200, reg_lambda=2.7374739815066302;, score=0.686 total time=   0.0s\n",
      "[CV 1/5; 24/30] START learning_rate=0.2289649645242159, max_depth=25, min_child_weight=8, n_estimators=200, reg_lambda=1.0041853145238182\n",
      "[CV 1/5; 24/30] END learning_rate=0.2289649645242159, max_depth=25, min_child_weight=8, n_estimators=200, reg_lambda=1.0041853145238182;, score=0.777 total time=   0.0s\n",
      "[CV 2/5; 24/30] START learning_rate=0.2289649645242159, max_depth=25, min_child_weight=8, n_estimators=200, reg_lambda=1.0041853145238182\n",
      "[CV 2/5; 24/30] END learning_rate=0.2289649645242159, max_depth=25, min_child_weight=8, n_estimators=200, reg_lambda=1.0041853145238182;, score=0.777 total time=   0.0s\n",
      "[CV 3/5; 24/30] START learning_rate=0.2289649645242159, max_depth=25, min_child_weight=8, n_estimators=200, reg_lambda=1.0041853145238182\n",
      "[CV 3/5; 24/30] END learning_rate=0.2289649645242159, max_depth=25, min_child_weight=8, n_estimators=200, reg_lambda=1.0041853145238182;, score=0.689 total time=   0.0s\n",
      "[CV 4/5; 24/30] START learning_rate=0.2289649645242159, max_depth=25, min_child_weight=8, n_estimators=200, reg_lambda=1.0041853145238182\n",
      "[CV 4/5; 24/30] END learning_rate=0.2289649645242159, max_depth=25, min_child_weight=8, n_estimators=200, reg_lambda=1.0041853145238182;, score=0.767 total time=   0.0s\n",
      "[CV 5/5; 24/30] START learning_rate=0.2289649645242159, max_depth=25, min_child_weight=8, n_estimators=200, reg_lambda=1.0041853145238182\n",
      "[CV 5/5; 24/30] END learning_rate=0.2289649645242159, max_depth=25, min_child_weight=8, n_estimators=200, reg_lambda=1.0041853145238182;, score=0.725 total time=   0.0s\n",
      "[CV 1/5; 25/30] START learning_rate=0.2157376595005004, max_depth=14, min_child_weight=36, n_estimators=10, reg_lambda=2.634307683177389\n",
      "[CV 1/5; 25/30] END learning_rate=0.2157376595005004, max_depth=14, min_child_weight=36, n_estimators=10, reg_lambda=2.634307683177389;, score=0.767 total time=   0.0s\n",
      "[CV 2/5; 25/30] START learning_rate=0.2157376595005004, max_depth=14, min_child_weight=36, n_estimators=10, reg_lambda=2.634307683177389\n",
      "[CV 2/5; 25/30] END learning_rate=0.2157376595005004, max_depth=14, min_child_weight=36, n_estimators=10, reg_lambda=2.634307683177389;, score=0.748 total time=   0.0s\n",
      "[CV 3/5; 25/30] START learning_rate=0.2157376595005004, max_depth=14, min_child_weight=36, n_estimators=10, reg_lambda=2.634307683177389\n",
      "[CV 3/5; 25/30] END learning_rate=0.2157376595005004, max_depth=14, min_child_weight=36, n_estimators=10, reg_lambda=2.634307683177389;, score=0.699 total time=   0.0s\n",
      "[CV 4/5; 25/30] START learning_rate=0.2157376595005004, max_depth=14, min_child_weight=36, n_estimators=10, reg_lambda=2.634307683177389\n",
      "[CV 4/5; 25/30] END learning_rate=0.2157376595005004, max_depth=14, min_child_weight=36, n_estimators=10, reg_lambda=2.634307683177389;, score=0.767 total time=   0.0s\n",
      "[CV 5/5; 25/30] START learning_rate=0.2157376595005004, max_depth=14, min_child_weight=36, n_estimators=10, reg_lambda=2.634307683177389\n",
      "[CV 5/5; 25/30] END learning_rate=0.2157376595005004, max_depth=14, min_child_weight=36, n_estimators=10, reg_lambda=2.634307683177389;, score=0.686 total time=   0.0s\n",
      "[CV 1/5; 26/30] START learning_rate=0.10138749589500302, max_depth=16, min_child_weight=17, n_estimators=100, reg_lambda=0.9714128919876807\n",
      "[CV 1/5; 26/30] END learning_rate=0.10138749589500302, max_depth=16, min_child_weight=17, n_estimators=100, reg_lambda=0.9714128919876807;, score=0.806 total time=   0.0s\n",
      "[CV 2/5; 26/30] START learning_rate=0.10138749589500302, max_depth=16, min_child_weight=17, n_estimators=100, reg_lambda=0.9714128919876807\n",
      "[CV 2/5; 26/30] END learning_rate=0.10138749589500302, max_depth=16, min_child_weight=17, n_estimators=100, reg_lambda=0.9714128919876807;, score=0.786 total time=   0.0s\n",
      "[CV 3/5; 26/30] START learning_rate=0.10138749589500302, max_depth=16, min_child_weight=17, n_estimators=100, reg_lambda=0.9714128919876807\n",
      "[CV 3/5; 26/30] END learning_rate=0.10138749589500302, max_depth=16, min_child_weight=17, n_estimators=100, reg_lambda=0.9714128919876807;, score=0.699 total time=   0.0s\n",
      "[CV 4/5; 26/30] START learning_rate=0.10138749589500302, max_depth=16, min_child_weight=17, n_estimators=100, reg_lambda=0.9714128919876807\n",
      "[CV 4/5; 26/30] END learning_rate=0.10138749589500302, max_depth=16, min_child_weight=17, n_estimators=100, reg_lambda=0.9714128919876807;, score=0.777 total time=   0.0s\n",
      "[CV 5/5; 26/30] START learning_rate=0.10138749589500302, max_depth=16, min_child_weight=17, n_estimators=100, reg_lambda=0.9714128919876807\n",
      "[CV 5/5; 26/30] END learning_rate=0.10138749589500302, max_depth=16, min_child_weight=17, n_estimators=100, reg_lambda=0.9714128919876807;, score=0.725 total time=   0.0s\n",
      "[CV 1/5; 27/30] START learning_rate=0.30825407819488027, max_depth=14, min_child_weight=26, n_estimators=10, reg_lambda=3.045851425100212\n",
      "[CV 1/5; 27/30] END learning_rate=0.30825407819488027, max_depth=14, min_child_weight=26, n_estimators=10, reg_lambda=3.045851425100212;, score=0.845 total time=   0.0s\n",
      "[CV 2/5; 27/30] START learning_rate=0.30825407819488027, max_depth=14, min_child_weight=26, n_estimators=10, reg_lambda=3.045851425100212\n",
      "[CV 2/5; 27/30] END learning_rate=0.30825407819488027, max_depth=14, min_child_weight=26, n_estimators=10, reg_lambda=3.045851425100212;, score=0.767 total time=   0.0s\n",
      "[CV 3/5; 27/30] START learning_rate=0.30825407819488027, max_depth=14, min_child_weight=26, n_estimators=10, reg_lambda=3.045851425100212\n",
      "[CV 3/5; 27/30] END learning_rate=0.30825407819488027, max_depth=14, min_child_weight=26, n_estimators=10, reg_lambda=3.045851425100212;, score=0.748 total time=   0.0s\n",
      "[CV 4/5; 27/30] START learning_rate=0.30825407819488027, max_depth=14, min_child_weight=26, n_estimators=10, reg_lambda=3.045851425100212\n",
      "[CV 4/5; 27/30] END learning_rate=0.30825407819488027, max_depth=14, min_child_weight=26, n_estimators=10, reg_lambda=3.045851425100212;, score=0.748 total time=   0.0s\n",
      "[CV 5/5; 27/30] START learning_rate=0.30825407819488027, max_depth=14, min_child_weight=26, n_estimators=10, reg_lambda=3.045851425100212\n",
      "[CV 5/5; 27/30] END learning_rate=0.30825407819488027, max_depth=14, min_child_weight=26, n_estimators=10, reg_lambda=3.045851425100212;, score=0.686 total time=   0.0s\n",
      "[CV 1/5; 28/30] START learning_rate=0.18025667653764996, max_depth=9, min_child_weight=44, n_estimators=100, reg_lambda=2.3992941782338235\n",
      "[CV 1/5; 28/30] END learning_rate=0.18025667653764996, max_depth=9, min_child_weight=44, n_estimators=100, reg_lambda=2.3992941782338235;, score=0.699 total time=   0.0s\n",
      "[CV 2/5; 28/30] START learning_rate=0.18025667653764996, max_depth=9, min_child_weight=44, n_estimators=100, reg_lambda=2.3992941782338235\n",
      "[CV 2/5; 28/30] END learning_rate=0.18025667653764996, max_depth=9, min_child_weight=44, n_estimators=100, reg_lambda=2.3992941782338235;, score=0.728 total time=   0.0s\n",
      "[CV 3/5; 28/30] START learning_rate=0.18025667653764996, max_depth=9, min_child_weight=44, n_estimators=100, reg_lambda=2.3992941782338235\n",
      "[CV 3/5; 28/30] END learning_rate=0.18025667653764996, max_depth=9, min_child_weight=44, n_estimators=100, reg_lambda=2.3992941782338235;, score=0.718 total time=   0.0s\n",
      "[CV 4/5; 28/30] START learning_rate=0.18025667653764996, max_depth=9, min_child_weight=44, n_estimators=100, reg_lambda=2.3992941782338235\n"
     ]
    },
    {
     "name": "stdout",
     "output_type": "stream",
     "text": [
      "[CV 4/5; 28/30] END learning_rate=0.18025667653764996, max_depth=9, min_child_weight=44, n_estimators=100, reg_lambda=2.3992941782338235;, score=0.767 total time=   0.0s\n",
      "[CV 5/5; 28/30] START learning_rate=0.18025667653764996, max_depth=9, min_child_weight=44, n_estimators=100, reg_lambda=2.3992941782338235\n",
      "[CV 5/5; 28/30] END learning_rate=0.18025667653764996, max_depth=9, min_child_weight=44, n_estimators=100, reg_lambda=2.3992941782338235;, score=0.686 total time=   0.0s\n",
      "[CV 1/5; 29/30] START learning_rate=0.30141279700912893, max_depth=7, min_child_weight=32, n_estimators=200, reg_lambda=1.9109259225749111\n",
      "[CV 1/5; 29/30] END learning_rate=0.30141279700912893, max_depth=7, min_child_weight=32, n_estimators=200, reg_lambda=1.9109259225749111;, score=0.777 total time=   0.0s\n",
      "[CV 2/5; 29/30] START learning_rate=0.30141279700912893, max_depth=7, min_child_weight=32, n_estimators=200, reg_lambda=1.9109259225749111\n",
      "[CV 2/5; 29/30] END learning_rate=0.30141279700912893, max_depth=7, min_child_weight=32, n_estimators=200, reg_lambda=1.9109259225749111;, score=0.786 total time=   0.0s\n",
      "[CV 3/5; 29/30] START learning_rate=0.30141279700912893, max_depth=7, min_child_weight=32, n_estimators=200, reg_lambda=1.9109259225749111\n",
      "[CV 3/5; 29/30] END learning_rate=0.30141279700912893, max_depth=7, min_child_weight=32, n_estimators=200, reg_lambda=1.9109259225749111;, score=0.709 total time=   0.0s\n",
      "[CV 4/5; 29/30] START learning_rate=0.30141279700912893, max_depth=7, min_child_weight=32, n_estimators=200, reg_lambda=1.9109259225749111\n",
      "[CV 4/5; 29/30] END learning_rate=0.30141279700912893, max_depth=7, min_child_weight=32, n_estimators=200, reg_lambda=1.9109259225749111;, score=0.767 total time=   0.0s\n",
      "[CV 5/5; 29/30] START learning_rate=0.30141279700912893, max_depth=7, min_child_weight=32, n_estimators=200, reg_lambda=1.9109259225749111\n",
      "[CV 5/5; 29/30] END learning_rate=0.30141279700912893, max_depth=7, min_child_weight=32, n_estimators=200, reg_lambda=1.9109259225749111;, score=0.696 total time=   0.0s\n",
      "[CV 1/5; 30/30] START learning_rate=0.015791482585431484, max_depth=16, min_child_weight=39, n_estimators=10, reg_lambda=1.4081788953069698\n",
      "[CV 1/5; 30/30] END learning_rate=0.015791482585431484, max_depth=16, min_child_weight=39, n_estimators=10, reg_lambda=1.4081788953069698;, score=0.748 total time=   0.0s\n",
      "[CV 2/5; 30/30] START learning_rate=0.015791482585431484, max_depth=16, min_child_weight=39, n_estimators=10, reg_lambda=1.4081788953069698\n",
      "[CV 2/5; 30/30] END learning_rate=0.015791482585431484, max_depth=16, min_child_weight=39, n_estimators=10, reg_lambda=1.4081788953069698;, score=0.631 total time=   0.0s\n",
      "[CV 3/5; 30/30] START learning_rate=0.015791482585431484, max_depth=16, min_child_weight=39, n_estimators=10, reg_lambda=1.4081788953069698\n",
      "[CV 3/5; 30/30] END learning_rate=0.015791482585431484, max_depth=16, min_child_weight=39, n_estimators=10, reg_lambda=1.4081788953069698;, score=0.670 total time=   0.0s\n",
      "[CV 4/5; 30/30] START learning_rate=0.015791482585431484, max_depth=16, min_child_weight=39, n_estimators=10, reg_lambda=1.4081788953069698\n",
      "[CV 4/5; 30/30] END learning_rate=0.015791482585431484, max_depth=16, min_child_weight=39, n_estimators=10, reg_lambda=1.4081788953069698;, score=0.728 total time=   0.0s\n",
      "[CV 5/5; 30/30] START learning_rate=0.015791482585431484, max_depth=16, min_child_weight=39, n_estimators=10, reg_lambda=1.4081788953069698\n",
      "[CV 5/5; 30/30] END learning_rate=0.015791482585431484, max_depth=16, min_child_weight=39, n_estimators=10, reg_lambda=1.4081788953069698;, score=0.686 total time=   0.0s\n"
     ]
    },
    {
     "data": {
      "text/html": [
       "<style>#sk-container-id-4 {color: black;background-color: white;}#sk-container-id-4 pre{padding: 0;}#sk-container-id-4 div.sk-toggleable {background-color: white;}#sk-container-id-4 label.sk-toggleable__label {cursor: pointer;display: block;width: 100%;margin-bottom: 0;padding: 0.3em;box-sizing: border-box;text-align: center;}#sk-container-id-4 label.sk-toggleable__label-arrow:before {content: \"▸\";float: left;margin-right: 0.25em;color: #696969;}#sk-container-id-4 label.sk-toggleable__label-arrow:hover:before {color: black;}#sk-container-id-4 div.sk-estimator:hover label.sk-toggleable__label-arrow:before {color: black;}#sk-container-id-4 div.sk-toggleable__content {max-height: 0;max-width: 0;overflow: hidden;text-align: left;background-color: #f0f8ff;}#sk-container-id-4 div.sk-toggleable__content pre {margin: 0.2em;color: black;border-radius: 0.25em;background-color: #f0f8ff;}#sk-container-id-4 input.sk-toggleable__control:checked~div.sk-toggleable__content {max-height: 200px;max-width: 100%;overflow: auto;}#sk-container-id-4 input.sk-toggleable__control:checked~label.sk-toggleable__label-arrow:before {content: \"▾\";}#sk-container-id-4 div.sk-estimator input.sk-toggleable__control:checked~label.sk-toggleable__label {background-color: #d4ebff;}#sk-container-id-4 div.sk-label input.sk-toggleable__control:checked~label.sk-toggleable__label {background-color: #d4ebff;}#sk-container-id-4 input.sk-hidden--visually {border: 0;clip: rect(1px 1px 1px 1px);clip: rect(1px, 1px, 1px, 1px);height: 1px;margin: -1px;overflow: hidden;padding: 0;position: absolute;width: 1px;}#sk-container-id-4 div.sk-estimator {font-family: monospace;background-color: #f0f8ff;border: 1px dotted black;border-radius: 0.25em;box-sizing: border-box;margin-bottom: 0.5em;}#sk-container-id-4 div.sk-estimator:hover {background-color: #d4ebff;}#sk-container-id-4 div.sk-parallel-item::after {content: \"\";width: 100%;border-bottom: 1px solid gray;flex-grow: 1;}#sk-container-id-4 div.sk-label:hover label.sk-toggleable__label {background-color: #d4ebff;}#sk-container-id-4 div.sk-serial::before {content: \"\";position: absolute;border-left: 1px solid gray;box-sizing: border-box;top: 0;bottom: 0;left: 50%;z-index: 0;}#sk-container-id-4 div.sk-serial {display: flex;flex-direction: column;align-items: center;background-color: white;padding-right: 0.2em;padding-left: 0.2em;position: relative;}#sk-container-id-4 div.sk-item {position: relative;z-index: 1;}#sk-container-id-4 div.sk-parallel {display: flex;align-items: stretch;justify-content: center;background-color: white;position: relative;}#sk-container-id-4 div.sk-item::before, #sk-container-id-4 div.sk-parallel-item::before {content: \"\";position: absolute;border-left: 1px solid gray;box-sizing: border-box;top: 0;bottom: 0;left: 50%;z-index: -1;}#sk-container-id-4 div.sk-parallel-item {display: flex;flex-direction: column;z-index: 1;position: relative;background-color: white;}#sk-container-id-4 div.sk-parallel-item:first-child::after {align-self: flex-end;width: 50%;}#sk-container-id-4 div.sk-parallel-item:last-child::after {align-self: flex-start;width: 50%;}#sk-container-id-4 div.sk-parallel-item:only-child::after {width: 0;}#sk-container-id-4 div.sk-dashed-wrapped {border: 1px dashed gray;margin: 0 0.4em 0.5em 0.4em;box-sizing: border-box;padding-bottom: 0.4em;background-color: white;}#sk-container-id-4 div.sk-label label {font-family: monospace;font-weight: bold;display: inline-block;line-height: 1.2em;}#sk-container-id-4 div.sk-label-container {text-align: center;}#sk-container-id-4 div.sk-container {/* jupyter's `normalize.less` sets `[hidden] { display: none; }` but bootstrap.min.css set `[hidden] { display: none !important; }` so we also need the `!important` here to be able to override the default hidden behavior on the sphinx rendered scikit-learn.org. See: https://github.com/scikit-learn/scikit-learn/issues/21755 */display: inline-block !important;position: relative;}#sk-container-id-4 div.sk-text-repr-fallback {display: none;}</style><div id=\"sk-container-id-4\" class=\"sk-top-container\"><div class=\"sk-text-repr-fallback\"><pre>RandomizedSearchCV(cv=5, estimator=XGBClassifier(), n_iter=30,\n",
       "                   param_distributions={&#x27;learning_rate&#x27;: &lt;scipy.stats._distn_infrastructure.rv_frozen object at 0x0000022712494A30&gt;,\n",
       "                                        &#x27;max_depth&#x27;: &lt;scipy.stats._distn_infrastructure.rv_frozen object at 0x000002271144B6D0&gt;,\n",
       "                                        &#x27;min_child_weight&#x27;: &lt;scipy.stats._distn_infrastructure.rv_frozen object at 0x0000022712494C70&gt;,\n",
       "                                        &#x27;n_estimators&#x27;: [10, 100, 200],\n",
       "                                        &#x27;reg_lambda&#x27;: &lt;scipy.stats._distn_infrastructure.rv_frozen object at 0x000002271144B790&gt;},\n",
       "                   verbose=100)</pre><b>In a Jupyter environment, please rerun this cell to show the HTML representation or trust the notebook. <br />On GitHub, the HTML representation is unable to render, please try loading this page with nbviewer.org.</b></div><div class=\"sk-container\" hidden><div class=\"sk-item sk-dashed-wrapped\"><div class=\"sk-label-container\"><div class=\"sk-label sk-toggleable\"><input class=\"sk-toggleable__control sk-hidden--visually\" id=\"sk-estimator-id-12\" type=\"checkbox\" ><label for=\"sk-estimator-id-12\" class=\"sk-toggleable__label sk-toggleable__label-arrow\">RandomizedSearchCV</label><div class=\"sk-toggleable__content\"><pre>RandomizedSearchCV(cv=5, estimator=XGBClassifier(), n_iter=30,\n",
       "                   param_distributions={&#x27;learning_rate&#x27;: &lt;scipy.stats._distn_infrastructure.rv_frozen object at 0x0000022712494A30&gt;,\n",
       "                                        &#x27;max_depth&#x27;: &lt;scipy.stats._distn_infrastructure.rv_frozen object at 0x000002271144B6D0&gt;,\n",
       "                                        &#x27;min_child_weight&#x27;: &lt;scipy.stats._distn_infrastructure.rv_frozen object at 0x0000022712494C70&gt;,\n",
       "                                        &#x27;n_estimators&#x27;: [10, 100, 200],\n",
       "                                        &#x27;reg_lambda&#x27;: &lt;scipy.stats._distn_infrastructure.rv_frozen object at 0x000002271144B790&gt;},\n",
       "                   verbose=100)</pre></div></div></div><div class=\"sk-parallel\"><div class=\"sk-parallel-item\"><div class=\"sk-item\"><div class=\"sk-label-container\"><div class=\"sk-label sk-toggleable\"><input class=\"sk-toggleable__control sk-hidden--visually\" id=\"sk-estimator-id-13\" type=\"checkbox\" ><label for=\"sk-estimator-id-13\" class=\"sk-toggleable__label sk-toggleable__label-arrow\">estimator: XGBClassifier</label><div class=\"sk-toggleable__content\"><pre>XGBClassifier()</pre></div></div></div><div class=\"sk-serial\"><div class=\"sk-item\"><div class=\"sk-estimator sk-toggleable\"><input class=\"sk-toggleable__control sk-hidden--visually\" id=\"sk-estimator-id-14\" type=\"checkbox\" ><label for=\"sk-estimator-id-14\" class=\"sk-toggleable__label sk-toggleable__label-arrow\">XGBClassifier</label><div class=\"sk-toggleable__content\"><pre>XGBClassifier()</pre></div></div></div></div></div></div></div></div></div></div>"
      ],
      "text/plain": [
       "RandomizedSearchCV(cv=5, estimator=XGBClassifier(), n_iter=30,\n",
       "                   param_distributions={'learning_rate': <scipy.stats._distn_infrastructure.rv_frozen object at 0x0000022712494A30>,\n",
       "                                        'max_depth': <scipy.stats._distn_infrastructure.rv_frozen object at 0x000002271144B6D0>,\n",
       "                                        'min_child_weight': <scipy.stats._distn_infrastructure.rv_frozen object at 0x0000022712494C70>,\n",
       "                                        'n_estimators': [10, 100, 200],\n",
       "                                        'reg_lambda': <scipy.stats._distn_infrastructure.rv_frozen object at 0x000002271144B790>},\n",
       "                   verbose=100)"
      ]
     },
     "execution_count": 28,
     "metadata": {},
     "output_type": "execute_result"
    }
   ],
   "source": [
    "xgb = XGBClassifier()\n",
    "params = {\"n_estimators\":[10,100,200],\n",
    "         \"learning_rate\":ss.uniform(0.01,0.3),\n",
    "          \"max_depth\": ss.randint(5,30),\n",
    "         \"min_child_weight\":ss.randint(5,50),\n",
    "         \"reg_lambda\":ss.uniform(0.1,3)}\n",
    "\n",
    "cv = RandomizedSearchCV(cv=5, \n",
    "                        estimator=xgb,\n",
    "                        param_distributions=params,\n",
    "                        n_iter=30,\n",
    "                        verbose=100)\n",
    "cv.fit(X_train,y_train)"
   ]
  },
  {
   "cell_type": "code",
   "execution_count": 29,
   "metadata": {},
   "outputs": [
    {
     "data": {
      "text/html": [
       "<style>#sk-container-id-5 {color: black;background-color: white;}#sk-container-id-5 pre{padding: 0;}#sk-container-id-5 div.sk-toggleable {background-color: white;}#sk-container-id-5 label.sk-toggleable__label {cursor: pointer;display: block;width: 100%;margin-bottom: 0;padding: 0.3em;box-sizing: border-box;text-align: center;}#sk-container-id-5 label.sk-toggleable__label-arrow:before {content: \"▸\";float: left;margin-right: 0.25em;color: #696969;}#sk-container-id-5 label.sk-toggleable__label-arrow:hover:before {color: black;}#sk-container-id-5 div.sk-estimator:hover label.sk-toggleable__label-arrow:before {color: black;}#sk-container-id-5 div.sk-toggleable__content {max-height: 0;max-width: 0;overflow: hidden;text-align: left;background-color: #f0f8ff;}#sk-container-id-5 div.sk-toggleable__content pre {margin: 0.2em;color: black;border-radius: 0.25em;background-color: #f0f8ff;}#sk-container-id-5 input.sk-toggleable__control:checked~div.sk-toggleable__content {max-height: 200px;max-width: 100%;overflow: auto;}#sk-container-id-5 input.sk-toggleable__control:checked~label.sk-toggleable__label-arrow:before {content: \"▾\";}#sk-container-id-5 div.sk-estimator input.sk-toggleable__control:checked~label.sk-toggleable__label {background-color: #d4ebff;}#sk-container-id-5 div.sk-label input.sk-toggleable__control:checked~label.sk-toggleable__label {background-color: #d4ebff;}#sk-container-id-5 input.sk-hidden--visually {border: 0;clip: rect(1px 1px 1px 1px);clip: rect(1px, 1px, 1px, 1px);height: 1px;margin: -1px;overflow: hidden;padding: 0;position: absolute;width: 1px;}#sk-container-id-5 div.sk-estimator {font-family: monospace;background-color: #f0f8ff;border: 1px dotted black;border-radius: 0.25em;box-sizing: border-box;margin-bottom: 0.5em;}#sk-container-id-5 div.sk-estimator:hover {background-color: #d4ebff;}#sk-container-id-5 div.sk-parallel-item::after {content: \"\";width: 100%;border-bottom: 1px solid gray;flex-grow: 1;}#sk-container-id-5 div.sk-label:hover label.sk-toggleable__label {background-color: #d4ebff;}#sk-container-id-5 div.sk-serial::before {content: \"\";position: absolute;border-left: 1px solid gray;box-sizing: border-box;top: 0;bottom: 0;left: 50%;z-index: 0;}#sk-container-id-5 div.sk-serial {display: flex;flex-direction: column;align-items: center;background-color: white;padding-right: 0.2em;padding-left: 0.2em;position: relative;}#sk-container-id-5 div.sk-item {position: relative;z-index: 1;}#sk-container-id-5 div.sk-parallel {display: flex;align-items: stretch;justify-content: center;background-color: white;position: relative;}#sk-container-id-5 div.sk-item::before, #sk-container-id-5 div.sk-parallel-item::before {content: \"\";position: absolute;border-left: 1px solid gray;box-sizing: border-box;top: 0;bottom: 0;left: 50%;z-index: -1;}#sk-container-id-5 div.sk-parallel-item {display: flex;flex-direction: column;z-index: 1;position: relative;background-color: white;}#sk-container-id-5 div.sk-parallel-item:first-child::after {align-self: flex-end;width: 50%;}#sk-container-id-5 div.sk-parallel-item:last-child::after {align-self: flex-start;width: 50%;}#sk-container-id-5 div.sk-parallel-item:only-child::after {width: 0;}#sk-container-id-5 div.sk-dashed-wrapped {border: 1px dashed gray;margin: 0 0.4em 0.5em 0.4em;box-sizing: border-box;padding-bottom: 0.4em;background-color: white;}#sk-container-id-5 div.sk-label label {font-family: monospace;font-weight: bold;display: inline-block;line-height: 1.2em;}#sk-container-id-5 div.sk-label-container {text-align: center;}#sk-container-id-5 div.sk-container {/* jupyter's `normalize.less` sets `[hidden] { display: none; }` but bootstrap.min.css set `[hidden] { display: none !important; }` so we also need the `!important` here to be able to override the default hidden behavior on the sphinx rendered scikit-learn.org. See: https://github.com/scikit-learn/scikit-learn/issues/21755 */display: inline-block !important;position: relative;}#sk-container-id-5 div.sk-text-repr-fallback {display: none;}</style><div id=\"sk-container-id-5\" class=\"sk-top-container\"><div class=\"sk-text-repr-fallback\"><pre>XGBClassifier(learning_rate=0.2829408547551439, max_depth=11,\n",
       "              min_child_weight=24, n_estimators=10,\n",
       "              reg_lambda=0.2904013885197142)</pre><b>In a Jupyter environment, please rerun this cell to show the HTML representation or trust the notebook. <br />On GitHub, the HTML representation is unable to render, please try loading this page with nbviewer.org.</b></div><div class=\"sk-container\" hidden><div class=\"sk-item\"><div class=\"sk-estimator sk-toggleable\"><input class=\"sk-toggleable__control sk-hidden--visually\" id=\"sk-estimator-id-15\" type=\"checkbox\" checked><label for=\"sk-estimator-id-15\" class=\"sk-toggleable__label sk-toggleable__label-arrow\">XGBClassifier</label><div class=\"sk-toggleable__content\"><pre>XGBClassifier(learning_rate=0.2829408547551439, max_depth=11,\n",
       "              min_child_weight=24, n_estimators=10,\n",
       "              reg_lambda=0.2904013885197142)</pre></div></div></div></div></div>"
      ],
      "text/plain": [
       "XGBClassifier(learning_rate=0.2829408547551439, max_depth=11,\n",
       "              min_child_weight=24, n_estimators=10,\n",
       "              reg_lambda=0.2904013885197142)"
      ]
     },
     "execution_count": 29,
     "metadata": {},
     "output_type": "execute_result"
    }
   ],
   "source": [
    "cv.best_estimator_"
   ]
  },
  {
   "cell_type": "code",
   "execution_count": 30,
   "metadata": {},
   "outputs": [
    {
     "data": {
      "text/plain": [
       "0.7742432895488293"
      ]
     },
     "execution_count": 30,
     "metadata": {},
     "output_type": "execute_result"
    }
   ],
   "source": [
    "cv.best_score_"
   ]
  },
  {
   "cell_type": "markdown",
   "metadata": {},
   "source": [
    "## Alterntives -  Bayesian Optimization\n",
    "* Hyperopt\n"
   ]
  },
  {
   "cell_type": "markdown",
   "metadata": {},
   "source": [
    "# Case Study\n",
    "\n",
    "__Goal__: predict the salary based on different characteristics of the person\n",
    "\n",
    "* age: continuous.\n",
    "* workclass: Private, Self-emp-not-inc, Self-emp-inc, Federal-gov, Local-gov, State-gov, Without-pay, Never-worked.\n",
    "* fnlwgt: continuous.\n",
    "* education: Bachelors, Some-college, 11th, HS-grad, Prof-school, Assoc-acdm, Assoc-voc, 9th, 7th-8th, 12th, * Masters, 1st-4th, 10th, Doctorate, 5th-6th, Preschool.\n",
    "* education-num: continuous.\n",
    "* marital-status: Married-civ-spouse, Divorced, Never-married, Separated, Widowed, Married-spouse-absent, Married-AF-spouse.\n",
    "* occupation: Tech-support, Craft-repair, Other-service, Sales, Exec-managerial, Prof-specialty, Handlers-cleaners, Machine-op-inspct, Adm-clerical, Farming-fishing, Transport-moving, Priv-house-serv, Protective-serv, Armed-Forces.\n",
    "* relationship: Wife, Own-child, Husband, Not-in-family, Other-relative, Unmarried.\n",
    "* race: White, Asian-Pac-Islander, Amer-Indian-Eskimo, Other, Black.\n",
    "* sex: Female, Male.\n",
    "* capital-gain: continuous.\n",
    "* capital-loss: continuous.\n",
    "* hours-per-week: continuous.\n",
    "* native-country: United-States, Cambodia, England, Puerto-Rico, Canada, Germany, Outlying-US(Guam-USVI-etc), India, Japan, Greece, South, China, Cuba, Iran, Honduras, Philippines, Italy, Poland, Jamaica, Vietnam, Mexico, Portugal, Ireland, France, Dominican-Republic, Laos, Ecuador, Taiwan, Haiti, Columbia, Hungary, Guatemala, Nicaragua, Scotland, Thailand, Yugoslavia, El-Salvador, Trinadad&Tobago, Peru, Hong, Holand-Netherlands.\n",
    "* __class__: >50K, <=50K"
   ]
  },
  {
   "cell_type": "code",
   "execution_count": 31,
   "metadata": {},
   "outputs": [],
   "source": [
    "train = pd.read_csv('Dane/adult.data', sep = \",\",skipinitialspace=True,  header = None)\n",
    "test = pd.read_csv('Dane/adult.test', sep = \",\" ,skiprows = [0], skipinitialspace=True, header = None) # Make sure to skip a row for the test set\n",
    "\n",
    "col_labels = ['age', 'workclass', 'fnlwgt', 'education', 'education_num', 'marital_status', 'occupation', \n",
    "              'relationship', 'race', 'sex', 'capital_gain', 'capital_loss', 'hours_per_week', 'native_country',\n",
    "             'wage_class']\n",
    "train.columns = col_labels\n",
    "test.columns = col_labels\n",
    "\n"
   ]
  },
  {
   "cell_type": "code",
   "execution_count": 32,
   "metadata": {},
   "outputs": [
    {
     "data": {
      "text/plain": [
       "((32561, 15), (16281, 15))"
      ]
     },
     "execution_count": 32,
     "metadata": {},
     "output_type": "execute_result"
    }
   ],
   "source": [
    "train.shape, test.shape"
   ]
  },
  {
   "cell_type": "code",
   "execution_count": 33,
   "metadata": {},
   "outputs": [
    {
     "data": {
      "text/html": [
       "<div>\n",
       "<style scoped>\n",
       "    .dataframe tbody tr th:only-of-type {\n",
       "        vertical-align: middle;\n",
       "    }\n",
       "\n",
       "    .dataframe tbody tr th {\n",
       "        vertical-align: top;\n",
       "    }\n",
       "\n",
       "    .dataframe thead th {\n",
       "        text-align: right;\n",
       "    }\n",
       "</style>\n",
       "<table border=\"1\" class=\"dataframe\">\n",
       "  <thead>\n",
       "    <tr style=\"text-align: right;\">\n",
       "      <th></th>\n",
       "      <th>age</th>\n",
       "      <th>workclass</th>\n",
       "      <th>fnlwgt</th>\n",
       "      <th>education</th>\n",
       "      <th>education_num</th>\n",
       "      <th>marital_status</th>\n",
       "      <th>occupation</th>\n",
       "      <th>relationship</th>\n",
       "      <th>race</th>\n",
       "      <th>sex</th>\n",
       "      <th>capital_gain</th>\n",
       "      <th>capital_loss</th>\n",
       "      <th>hours_per_week</th>\n",
       "      <th>native_country</th>\n",
       "      <th>wage_class</th>\n",
       "    </tr>\n",
       "  </thead>\n",
       "  <tbody>\n",
       "    <tr>\n",
       "      <th>0</th>\n",
       "      <td>39</td>\n",
       "      <td>State-gov</td>\n",
       "      <td>77516</td>\n",
       "      <td>Bachelors</td>\n",
       "      <td>13</td>\n",
       "      <td>Never-married</td>\n",
       "      <td>Adm-clerical</td>\n",
       "      <td>Not-in-family</td>\n",
       "      <td>White</td>\n",
       "      <td>Male</td>\n",
       "      <td>2174</td>\n",
       "      <td>0</td>\n",
       "      <td>40</td>\n",
       "      <td>United-States</td>\n",
       "      <td>&lt;=50K</td>\n",
       "    </tr>\n",
       "    <tr>\n",
       "      <th>1</th>\n",
       "      <td>50</td>\n",
       "      <td>Self-emp-not-inc</td>\n",
       "      <td>83311</td>\n",
       "      <td>Bachelors</td>\n",
       "      <td>13</td>\n",
       "      <td>Married-civ-spouse</td>\n",
       "      <td>Exec-managerial</td>\n",
       "      <td>Husband</td>\n",
       "      <td>White</td>\n",
       "      <td>Male</td>\n",
       "      <td>0</td>\n",
       "      <td>0</td>\n",
       "      <td>13</td>\n",
       "      <td>United-States</td>\n",
       "      <td>&lt;=50K</td>\n",
       "    </tr>\n",
       "    <tr>\n",
       "      <th>2</th>\n",
       "      <td>38</td>\n",
       "      <td>Private</td>\n",
       "      <td>215646</td>\n",
       "      <td>HS-grad</td>\n",
       "      <td>9</td>\n",
       "      <td>Divorced</td>\n",
       "      <td>Handlers-cleaners</td>\n",
       "      <td>Not-in-family</td>\n",
       "      <td>White</td>\n",
       "      <td>Male</td>\n",
       "      <td>0</td>\n",
       "      <td>0</td>\n",
       "      <td>40</td>\n",
       "      <td>United-States</td>\n",
       "      <td>&lt;=50K</td>\n",
       "    </tr>\n",
       "    <tr>\n",
       "      <th>3</th>\n",
       "      <td>53</td>\n",
       "      <td>Private</td>\n",
       "      <td>234721</td>\n",
       "      <td>11th</td>\n",
       "      <td>7</td>\n",
       "      <td>Married-civ-spouse</td>\n",
       "      <td>Handlers-cleaners</td>\n",
       "      <td>Husband</td>\n",
       "      <td>Black</td>\n",
       "      <td>Male</td>\n",
       "      <td>0</td>\n",
       "      <td>0</td>\n",
       "      <td>40</td>\n",
       "      <td>United-States</td>\n",
       "      <td>&lt;=50K</td>\n",
       "    </tr>\n",
       "    <tr>\n",
       "      <th>4</th>\n",
       "      <td>28</td>\n",
       "      <td>Private</td>\n",
       "      <td>338409</td>\n",
       "      <td>Bachelors</td>\n",
       "      <td>13</td>\n",
       "      <td>Married-civ-spouse</td>\n",
       "      <td>Prof-specialty</td>\n",
       "      <td>Wife</td>\n",
       "      <td>Black</td>\n",
       "      <td>Female</td>\n",
       "      <td>0</td>\n",
       "      <td>0</td>\n",
       "      <td>40</td>\n",
       "      <td>Cuba</td>\n",
       "      <td>&lt;=50K</td>\n",
       "    </tr>\n",
       "  </tbody>\n",
       "</table>\n",
       "</div>"
      ],
      "text/plain": [
       "   age         workclass  fnlwgt  education  education_num  \\\n",
       "0   39         State-gov   77516  Bachelors             13   \n",
       "1   50  Self-emp-not-inc   83311  Bachelors             13   \n",
       "2   38           Private  215646    HS-grad              9   \n",
       "3   53           Private  234721       11th              7   \n",
       "4   28           Private  338409  Bachelors             13   \n",
       "\n",
       "       marital_status         occupation   relationship   race     sex  \\\n",
       "0       Never-married       Adm-clerical  Not-in-family  White    Male   \n",
       "1  Married-civ-spouse    Exec-managerial        Husband  White    Male   \n",
       "2            Divorced  Handlers-cleaners  Not-in-family  White    Male   \n",
       "3  Married-civ-spouse  Handlers-cleaners        Husband  Black    Male   \n",
       "4  Married-civ-spouse     Prof-specialty           Wife  Black  Female   \n",
       "\n",
       "   capital_gain  capital_loss  hours_per_week native_country wage_class  \n",
       "0          2174             0              40  United-States      <=50K  \n",
       "1             0             0              13  United-States      <=50K  \n",
       "2             0             0              40  United-States      <=50K  \n",
       "3             0             0              40  United-States      <=50K  \n",
       "4             0             0              40           Cuba      <=50K  "
      ]
     },
     "execution_count": 33,
     "metadata": {},
     "output_type": "execute_result"
    }
   ],
   "source": [
    "train.head()"
   ]
  },
  {
   "cell_type": "code",
   "execution_count": 34,
   "metadata": {},
   "outputs": [
    {
     "data": {
      "text/html": [
       "<div>\n",
       "<style scoped>\n",
       "    .dataframe tbody tr th:only-of-type {\n",
       "        vertical-align: middle;\n",
       "    }\n",
       "\n",
       "    .dataframe tbody tr th {\n",
       "        vertical-align: top;\n",
       "    }\n",
       "\n",
       "    .dataframe thead th {\n",
       "        text-align: right;\n",
       "    }\n",
       "</style>\n",
       "<table border=\"1\" class=\"dataframe\">\n",
       "  <thead>\n",
       "    <tr style=\"text-align: right;\">\n",
       "      <th></th>\n",
       "      <th>age</th>\n",
       "      <th>workclass</th>\n",
       "      <th>fnlwgt</th>\n",
       "      <th>education</th>\n",
       "      <th>education_num</th>\n",
       "      <th>marital_status</th>\n",
       "      <th>occupation</th>\n",
       "      <th>relationship</th>\n",
       "      <th>race</th>\n",
       "      <th>sex</th>\n",
       "      <th>capital_gain</th>\n",
       "      <th>capital_loss</th>\n",
       "      <th>hours_per_week</th>\n",
       "      <th>native_country</th>\n",
       "      <th>wage_class</th>\n",
       "    </tr>\n",
       "  </thead>\n",
       "  <tbody>\n",
       "    <tr>\n",
       "      <th>0</th>\n",
       "      <td>25</td>\n",
       "      <td>Private</td>\n",
       "      <td>226802</td>\n",
       "      <td>11th</td>\n",
       "      <td>7</td>\n",
       "      <td>Never-married</td>\n",
       "      <td>Machine-op-inspct</td>\n",
       "      <td>Own-child</td>\n",
       "      <td>Black</td>\n",
       "      <td>Male</td>\n",
       "      <td>0</td>\n",
       "      <td>0</td>\n",
       "      <td>40</td>\n",
       "      <td>United-States</td>\n",
       "      <td>&lt;=50K.</td>\n",
       "    </tr>\n",
       "    <tr>\n",
       "      <th>1</th>\n",
       "      <td>38</td>\n",
       "      <td>Private</td>\n",
       "      <td>89814</td>\n",
       "      <td>HS-grad</td>\n",
       "      <td>9</td>\n",
       "      <td>Married-civ-spouse</td>\n",
       "      <td>Farming-fishing</td>\n",
       "      <td>Husband</td>\n",
       "      <td>White</td>\n",
       "      <td>Male</td>\n",
       "      <td>0</td>\n",
       "      <td>0</td>\n",
       "      <td>50</td>\n",
       "      <td>United-States</td>\n",
       "      <td>&lt;=50K.</td>\n",
       "    </tr>\n",
       "    <tr>\n",
       "      <th>2</th>\n",
       "      <td>28</td>\n",
       "      <td>Local-gov</td>\n",
       "      <td>336951</td>\n",
       "      <td>Assoc-acdm</td>\n",
       "      <td>12</td>\n",
       "      <td>Married-civ-spouse</td>\n",
       "      <td>Protective-serv</td>\n",
       "      <td>Husband</td>\n",
       "      <td>White</td>\n",
       "      <td>Male</td>\n",
       "      <td>0</td>\n",
       "      <td>0</td>\n",
       "      <td>40</td>\n",
       "      <td>United-States</td>\n",
       "      <td>&gt;50K.</td>\n",
       "    </tr>\n",
       "    <tr>\n",
       "      <th>3</th>\n",
       "      <td>44</td>\n",
       "      <td>Private</td>\n",
       "      <td>160323</td>\n",
       "      <td>Some-college</td>\n",
       "      <td>10</td>\n",
       "      <td>Married-civ-spouse</td>\n",
       "      <td>Machine-op-inspct</td>\n",
       "      <td>Husband</td>\n",
       "      <td>Black</td>\n",
       "      <td>Male</td>\n",
       "      <td>7688</td>\n",
       "      <td>0</td>\n",
       "      <td>40</td>\n",
       "      <td>United-States</td>\n",
       "      <td>&gt;50K.</td>\n",
       "    </tr>\n",
       "    <tr>\n",
       "      <th>4</th>\n",
       "      <td>18</td>\n",
       "      <td>?</td>\n",
       "      <td>103497</td>\n",
       "      <td>Some-college</td>\n",
       "      <td>10</td>\n",
       "      <td>Never-married</td>\n",
       "      <td>?</td>\n",
       "      <td>Own-child</td>\n",
       "      <td>White</td>\n",
       "      <td>Female</td>\n",
       "      <td>0</td>\n",
       "      <td>0</td>\n",
       "      <td>30</td>\n",
       "      <td>United-States</td>\n",
       "      <td>&lt;=50K.</td>\n",
       "    </tr>\n",
       "  </tbody>\n",
       "</table>\n",
       "</div>"
      ],
      "text/plain": [
       "   age  workclass  fnlwgt     education  education_num      marital_status  \\\n",
       "0   25    Private  226802          11th              7       Never-married   \n",
       "1   38    Private   89814       HS-grad              9  Married-civ-spouse   \n",
       "2   28  Local-gov  336951    Assoc-acdm             12  Married-civ-spouse   \n",
       "3   44    Private  160323  Some-college             10  Married-civ-spouse   \n",
       "4   18          ?  103497  Some-college             10       Never-married   \n",
       "\n",
       "          occupation relationship   race     sex  capital_gain  capital_loss  \\\n",
       "0  Machine-op-inspct    Own-child  Black    Male             0             0   \n",
       "1    Farming-fishing      Husband  White    Male             0             0   \n",
       "2    Protective-serv      Husband  White    Male             0             0   \n",
       "3  Machine-op-inspct      Husband  Black    Male          7688             0   \n",
       "4                  ?    Own-child  White  Female             0             0   \n",
       "\n",
       "   hours_per_week native_country wage_class  \n",
       "0              40  United-States     <=50K.  \n",
       "1              50  United-States     <=50K.  \n",
       "2              40  United-States      >50K.  \n",
       "3              40  United-States      >50K.  \n",
       "4              30  United-States     <=50K.  "
      ]
     },
     "execution_count": 34,
     "metadata": {},
     "output_type": "execute_result"
    }
   ],
   "source": [
    "test.head()"
   ]
  },
  {
   "cell_type": "code",
   "execution_count": 35,
   "metadata": {},
   "outputs": [
    {
     "name": "stdout",
     "output_type": "stream",
     "text": [
      "<class 'pandas.core.frame.DataFrame'>\n",
      "RangeIndex: 32561 entries, 0 to 32560\n",
      "Data columns (total 15 columns):\n",
      " #   Column          Non-Null Count  Dtype \n",
      "---  ------          --------------  ----- \n",
      " 0   age             32561 non-null  int64 \n",
      " 1   workclass       32561 non-null  object\n",
      " 2   fnlwgt          32561 non-null  int64 \n",
      " 3   education       32561 non-null  object\n",
      " 4   education_num   32561 non-null  int64 \n",
      " 5   marital_status  32561 non-null  object\n",
      " 6   occupation      32561 non-null  object\n",
      " 7   relationship    32561 non-null  object\n",
      " 8   race            32561 non-null  object\n",
      " 9   sex             32561 non-null  object\n",
      " 10  capital_gain    32561 non-null  int64 \n",
      " 11  capital_loss    32561 non-null  int64 \n",
      " 12  hours_per_week  32561 non-null  int64 \n",
      " 13  native_country  32561 non-null  object\n",
      " 14  wage_class      32561 non-null  object\n",
      "dtypes: int64(6), object(9)\n",
      "memory usage: 3.7+ MB\n"
     ]
    }
   ],
   "source": [
    "train.info()"
   ]
  },
  {
   "cell_type": "markdown",
   "metadata": {},
   "source": [
    "### Missing values"
   ]
  },
  {
   "cell_type": "code",
   "execution_count": 36,
   "metadata": {},
   "outputs": [
    {
     "data": {
      "text/plain": [
       "age                  0\n",
       "workclass         1836\n",
       "fnlwgt               0\n",
       "education            0\n",
       "education_num        0\n",
       "marital_status       0\n",
       "occupation        1843\n",
       "relationship         0\n",
       "race                 0\n",
       "sex                  0\n",
       "capital_gain         0\n",
       "capital_loss         0\n",
       "hours_per_week       0\n",
       "native_country     583\n",
       "wage_class           0\n",
       "dtype: int64"
      ]
     },
     "execution_count": 36,
     "metadata": {},
     "output_type": "execute_result"
    }
   ],
   "source": [
    "train.isin(['?']).sum(axis=0)"
   ]
  },
  {
   "cell_type": "code",
   "execution_count": 37,
   "metadata": {},
   "outputs": [],
   "source": [
    "train = train.replace('?', np.nan).dropna() "
   ]
  },
  {
   "cell_type": "code",
   "execution_count": 38,
   "metadata": {},
   "outputs": [
    {
     "data": {
      "text/plain": [
       "(30162, 15)"
      ]
     },
     "execution_count": 38,
     "metadata": {},
     "output_type": "execute_result"
    }
   ],
   "source": [
    "train.shape"
   ]
  },
  {
   "cell_type": "markdown",
   "metadata": {},
   "source": [
    "### Target encoding"
   ]
  },
  {
   "cell_type": "code",
   "execution_count": 39,
   "metadata": {},
   "outputs": [
    {
     "data": {
      "text/plain": [
       "array(['<=50K', '>50K'], dtype=object)"
      ]
     },
     "execution_count": 39,
     "metadata": {},
     "output_type": "execute_result"
    }
   ],
   "source": [
    "# target \n",
    "train.wage_class.unique()"
   ]
  },
  {
   "cell_type": "code",
   "execution_count": 40,
   "metadata": {},
   "outputs": [
    {
     "data": {
      "text/plain": [
       "array(['<=50K.', '>50K.'], dtype=object)"
      ]
     },
     "execution_count": 40,
     "metadata": {},
     "output_type": "execute_result"
    }
   ],
   "source": [
    "test.wage_class.unique()"
   ]
  },
  {
   "cell_type": "code",
   "execution_count": 41,
   "metadata": {},
   "outputs": [],
   "source": [
    "train['wage_class'] = train.wage_class.replace({'<=50K': 0, '<=50K.': 0, '>50K': 1, '>50K.': 1})"
   ]
  },
  {
   "cell_type": "code",
   "execution_count": 42,
   "metadata": {},
   "outputs": [
    {
     "data": {
      "text/html": [
       "<div>\n",
       "<style scoped>\n",
       "    .dataframe tbody tr th:only-of-type {\n",
       "        vertical-align: middle;\n",
       "    }\n",
       "\n",
       "    .dataframe tbody tr th {\n",
       "        vertical-align: top;\n",
       "    }\n",
       "\n",
       "    .dataframe thead th {\n",
       "        text-align: right;\n",
       "    }\n",
       "</style>\n",
       "<table border=\"1\" class=\"dataframe\">\n",
       "  <thead>\n",
       "    <tr style=\"text-align: right;\">\n",
       "      <th></th>\n",
       "      <th>age</th>\n",
       "      <th>fnlwgt</th>\n",
       "      <th>education_num</th>\n",
       "      <th>capital_gain</th>\n",
       "      <th>capital_loss</th>\n",
       "      <th>hours_per_week</th>\n",
       "      <th>wage_class</th>\n",
       "    </tr>\n",
       "  </thead>\n",
       "  <tbody>\n",
       "    <tr>\n",
       "      <th>count</th>\n",
       "      <td>30162.000000</td>\n",
       "      <td>3.016200e+04</td>\n",
       "      <td>30162.000000</td>\n",
       "      <td>30162.000000</td>\n",
       "      <td>30162.000000</td>\n",
       "      <td>30162.000000</td>\n",
       "      <td>30162.000000</td>\n",
       "    </tr>\n",
       "    <tr>\n",
       "      <th>mean</th>\n",
       "      <td>38.437902</td>\n",
       "      <td>1.897938e+05</td>\n",
       "      <td>10.121312</td>\n",
       "      <td>1092.007858</td>\n",
       "      <td>88.372489</td>\n",
       "      <td>40.931238</td>\n",
       "      <td>0.248922</td>\n",
       "    </tr>\n",
       "    <tr>\n",
       "      <th>std</th>\n",
       "      <td>13.134665</td>\n",
       "      <td>1.056530e+05</td>\n",
       "      <td>2.549995</td>\n",
       "      <td>7406.346497</td>\n",
       "      <td>404.298370</td>\n",
       "      <td>11.979984</td>\n",
       "      <td>0.432396</td>\n",
       "    </tr>\n",
       "    <tr>\n",
       "      <th>min</th>\n",
       "      <td>17.000000</td>\n",
       "      <td>1.376900e+04</td>\n",
       "      <td>1.000000</td>\n",
       "      <td>0.000000</td>\n",
       "      <td>0.000000</td>\n",
       "      <td>1.000000</td>\n",
       "      <td>0.000000</td>\n",
       "    </tr>\n",
       "    <tr>\n",
       "      <th>25%</th>\n",
       "      <td>28.000000</td>\n",
       "      <td>1.176272e+05</td>\n",
       "      <td>9.000000</td>\n",
       "      <td>0.000000</td>\n",
       "      <td>0.000000</td>\n",
       "      <td>40.000000</td>\n",
       "      <td>0.000000</td>\n",
       "    </tr>\n",
       "    <tr>\n",
       "      <th>50%</th>\n",
       "      <td>37.000000</td>\n",
       "      <td>1.784250e+05</td>\n",
       "      <td>10.000000</td>\n",
       "      <td>0.000000</td>\n",
       "      <td>0.000000</td>\n",
       "      <td>40.000000</td>\n",
       "      <td>0.000000</td>\n",
       "    </tr>\n",
       "    <tr>\n",
       "      <th>75%</th>\n",
       "      <td>47.000000</td>\n",
       "      <td>2.376285e+05</td>\n",
       "      <td>13.000000</td>\n",
       "      <td>0.000000</td>\n",
       "      <td>0.000000</td>\n",
       "      <td>45.000000</td>\n",
       "      <td>0.000000</td>\n",
       "    </tr>\n",
       "    <tr>\n",
       "      <th>max</th>\n",
       "      <td>90.000000</td>\n",
       "      <td>1.484705e+06</td>\n",
       "      <td>16.000000</td>\n",
       "      <td>99999.000000</td>\n",
       "      <td>4356.000000</td>\n",
       "      <td>99.000000</td>\n",
       "      <td>1.000000</td>\n",
       "    </tr>\n",
       "  </tbody>\n",
       "</table>\n",
       "</div>"
      ],
      "text/plain": [
       "                age        fnlwgt  education_num  capital_gain  capital_loss  \\\n",
       "count  30162.000000  3.016200e+04   30162.000000  30162.000000  30162.000000   \n",
       "mean      38.437902  1.897938e+05      10.121312   1092.007858     88.372489   \n",
       "std       13.134665  1.056530e+05       2.549995   7406.346497    404.298370   \n",
       "min       17.000000  1.376900e+04       1.000000      0.000000      0.000000   \n",
       "25%       28.000000  1.176272e+05       9.000000      0.000000      0.000000   \n",
       "50%       37.000000  1.784250e+05      10.000000      0.000000      0.000000   \n",
       "75%       47.000000  2.376285e+05      13.000000      0.000000      0.000000   \n",
       "max       90.000000  1.484705e+06      16.000000  99999.000000   4356.000000   \n",
       "\n",
       "       hours_per_week    wage_class  \n",
       "count    30162.000000  30162.000000  \n",
       "mean        40.931238      0.248922  \n",
       "std         11.979984      0.432396  \n",
       "min          1.000000      0.000000  \n",
       "25%         40.000000      0.000000  \n",
       "50%         40.000000      0.000000  \n",
       "75%         45.000000      0.000000  \n",
       "max         99.000000      1.000000  "
      ]
     },
     "execution_count": 42,
     "metadata": {},
     "output_type": "execute_result"
    }
   ],
   "source": [
    "train.describe()"
   ]
  },
  {
   "cell_type": "markdown",
   "metadata": {},
   "source": [
    "* capital_gain and capital_loss - majority zeros;"
   ]
  },
  {
   "cell_type": "code",
   "execution_count": 43,
   "metadata": {},
   "outputs": [],
   "source": [
    "num_columns = train.select_dtypes(include=np.number).columns.tolist()\n",
    "cat_columns = train.select_dtypes(exclude=np.number).columns.tolist()"
   ]
  },
  {
   "cell_type": "code",
   "execution_count": 44,
   "metadata": {},
   "outputs": [
    {
     "data": {
      "text/plain": [
       "(['age',\n",
       "  'fnlwgt',\n",
       "  'education_num',\n",
       "  'capital_gain',\n",
       "  'capital_loss',\n",
       "  'hours_per_week',\n",
       "  'wage_class'],\n",
       " ['workclass',\n",
       "  'education',\n",
       "  'marital_status',\n",
       "  'occupation',\n",
       "  'relationship',\n",
       "  'race',\n",
       "  'sex',\n",
       "  'native_country'])"
      ]
     },
     "execution_count": 44,
     "metadata": {},
     "output_type": "execute_result"
    }
   ],
   "source": [
    "num_columns, cat_columns"
   ]
  },
  {
   "cell_type": "markdown",
   "metadata": {},
   "source": [
    "### Numerical columns"
   ]
  },
  {
   "cell_type": "code",
   "execution_count": 45,
   "metadata": {},
   "outputs": [
    {
     "name": "stdout",
     "output_type": "stream",
     "text": [
      "*** age: 72\n"
     ]
    },
    {
     "data": {
      "image/png": "[encoded data removed]",
      "text/plain": [
       "<Figure size 432x288 with 1 Axes>"
      ]
     },
     "metadata": {
      "needs_background": "light"
     },
     "output_type": "display_data"
    },
    {
     "name": "stdout",
     "output_type": "stream",
     "text": [
      "*** fnlwgt: 20263\n"
     ]
    },
    {
     "data": {
      "image/png": "[encoded data removed]",
      "text/plain": [
       "<Figure size 432x288 with 1 Axes>"
      ]
     },
     "metadata": {
      "needs_background": "light"
     },
     "output_type": "display_data"
    },
    {
     "name": "stdout",
     "output_type": "stream",
     "text": [
      "*** education_num: 16\n"
     ]
    },
    {
     "data": {
      "image/png": "[encoded data removed]",
      "text/plain": [
       "<Figure size 432x288 with 1 Axes>"
      ]
     },
     "metadata": {
      "needs_background": "light"
     },
     "output_type": "display_data"
    },
    {
     "name": "stdout",
     "output_type": "stream",
     "text": [
      "*** capital_gain: 118\n"
     ]
    },
    {
     "data": {
      "image/png": "[encoded data removed]",
      "text/plain": [
       "<Figure size 432x288 with 1 Axes>"
      ]
     },
     "metadata": {
      "needs_background": "light"
     },
     "output_type": "display_data"
    },
    {
     "name": "stdout",
     "output_type": "stream",
     "text": [
      "*** capital_loss: 90\n"
     ]
    },
    {
     "data": {
      "image/png": "[encoded data removed]",
      "text/plain": [
       "<Figure size 432x288 with 1 Axes>"
      ]
     },
     "metadata": {
      "needs_background": "light"
     },
     "output_type": "display_data"
    },
    {
     "name": "stdout",
     "output_type": "stream",
     "text": [
      "*** hours_per_week: 94\n"
     ]
    },
    {
     "data": {
      "image/png": "[encoded data removed]",
      "text/plain": [
       "<Figure size 432x288 with 1 Axes>"
      ]
     },
     "metadata": {
      "needs_background": "light"
     },
     "output_type": "display_data"
    },
    {
     "name": "stdout",
     "output_type": "stream",
     "text": [
      "*** wage_class: 2\n"
     ]
    },
    {
     "data": {
      "image/png": "[encoded data removed]",
      "text/plain": [
       "<Figure size 432x288 with 1 Axes>"
      ]
     },
     "metadata": {
      "needs_background": "light"
     },
     "output_type": "display_data"
    }
   ],
   "source": [
    "for col in num_columns:\n",
    "    print(f'*** {col}: {train[col].nunique()}')\n",
    "    plt.hist(train[col], bins=10)\n",
    "    plt.show()\n",
    "    "
   ]
  },
  {
   "cell_type": "code",
   "execution_count": 46,
   "metadata": {},
   "outputs": [
    {
     "data": {
      "text/plain": [
       "array([10., 20., 25., 36., 40., 40., 40., 42., 50.])"
      ]
     },
     "execution_count": 46,
     "metadata": {},
     "output_type": "execute_result"
    }
   ],
   "source": [
    "np.percentile(a=train['hours_per_week'], q=[1, 5, 10, 20, 30, 50, 60, 70, 80])"
   ]
  },
  {
   "cell_type": "code",
   "execution_count": 47,
   "metadata": {},
   "outputs": [
    {
     "data": {
      "text/plain": [
       "40    14251\n",
       "50     2718\n",
       "45     1753\n",
       "60     1405\n",
       "35     1184\n",
       "20     1054\n",
       "30      989\n",
       "55      672\n",
       "25      574\n",
       "48      494\n",
       "Name: hours_per_week, dtype: int64"
      ]
     },
     "execution_count": 47,
     "metadata": {},
     "output_type": "execute_result"
    }
   ],
   "source": [
    "train['hours_per_week'].value_counts().head(10)"
   ]
  },
  {
   "cell_type": "code",
   "execution_count": 48,
   "metadata": {},
   "outputs": [
    {
     "data": {
      "text/plain": [
       "9197"
      ]
     },
     "execution_count": 48,
     "metadata": {},
     "output_type": "execute_result"
    }
   ],
   "source": [
    "train[train['hours_per_week']>40]['hours_per_week'].count()"
   ]
  },
  {
   "cell_type": "code",
   "execution_count": 49,
   "metadata": {},
   "outputs": [
    {
     "data": {
      "text/plain": [
       "6714"
      ]
     },
     "execution_count": 49,
     "metadata": {},
     "output_type": "execute_result"
    }
   ],
   "source": [
    "train[train['hours_per_week']<40]['hours_per_week'].count()"
   ]
  },
  {
   "cell_type": "code",
   "execution_count": 50,
   "metadata": {},
   "outputs": [
    {
     "data": {
      "text/plain": [
       "14251"
      ]
     },
     "execution_count": 50,
     "metadata": {},
     "output_type": "execute_result"
    }
   ],
   "source": [
    "train[train['hours_per_week']==40]['hours_per_week'].count()"
   ]
  },
  {
   "cell_type": "markdown",
   "metadata": {},
   "source": [
    "## Numerical columns - conclusion\n",
    "* age (<30, 30-40, 40-50, 50-60, >60)\n",
    "* fnlwgt = remove\n",
    "* education_num = the number of years spent for education; keep as it is\n",
    "* capital_gain = 0 or 1 (if made gain)\n",
    "* capital_loss = 0 or 1 (if made loss)\n",
    "* hours_per_week (<40, 40, >40)"
   ]
  },
  {
   "cell_type": "markdown",
   "metadata": {},
   "source": [
    "### Categorical columns"
   ]
  },
  {
   "cell_type": "code",
   "execution_count": 51,
   "metadata": {
    "scrolled": false
   },
   "outputs": [
    {
     "name": "stdout",
     "output_type": "stream",
     "text": [
      "*** workclass: 7\n"
     ]
    },
    {
     "data": {
      "image/png": "[encoded data removed]",
      "text/plain": [
       "<Figure size 432x288 with 1 Axes>"
      ]
     },
     "metadata": {
      "needs_background": "light"
     },
     "output_type": "display_data"
    },
    {
     "name": "stdout",
     "output_type": "stream",
     "text": [
      "*** education: 16\n"
     ]
    },
    {
     "data": {
      "image/png": "[encoded data removed]",
      "text/plain": [
       "<Figure size 432x288 with 1 Axes>"
      ]
     },
     "metadata": {
      "needs_background": "light"
     },
     "output_type": "display_data"
    },
    {
     "name": "stdout",
     "output_type": "stream",
     "text": [
      "*** marital_status: 7\n"
     ]
    },
    {
     "data": {
      "image/png": "[encoded data removed]",
      "text/plain": [
       "<Figure size 432x288 with 1 Axes>"
      ]
     },
     "metadata": {
      "needs_background": "light"
     },
     "output_type": "display_data"
    },
    {
     "name": "stdout",
     "output_type": "stream",
     "text": [
      "*** occupation: 14\n"
     ]
    },
    {
     "data": {
      "image/png": "[encoded data removed]",
      "text/plain": [
       "<Figure size 432x288 with 1 Axes>"
      ]
     },
     "metadata": {
      "needs_background": "light"
     },
     "output_type": "display_data"
    },
    {
     "name": "stdout",
     "output_type": "stream",
     "text": [
      "*** relationship: 6\n"
     ]
    },
    {
     "data": {
      "image/png": "[encoded data removed]",
      "text/plain": [
       "<Figure size 432x288 with 1 Axes>"
      ]
     },
     "metadata": {
      "needs_background": "light"
     },
     "output_type": "display_data"
    },
    {
     "name": "stdout",
     "output_type": "stream",
     "text": [
      "*** race: 5\n"
     ]
    },
    {
     "data": {
      "image/png": "[encoded data removed]",
      "text/plain": [
       "<Figure size 432x288 with 1 Axes>"
      ]
     },
     "metadata": {
      "needs_background": "light"
     },
     "output_type": "display_data"
    },
    {
     "name": "stdout",
     "output_type": "stream",
     "text": [
      "*** sex: 2\n"
     ]
    },
    {
     "data": {
      "image/png": "[encoded data removed]",
      "text/plain": [
       "<Figure size 432x288 with 1 Axes>"
      ]
     },
     "metadata": {
      "needs_background": "light"
     },
     "output_type": "display_data"
    },
    {
     "name": "stdout",
     "output_type": "stream",
     "text": [
      "*** native_country: 41\n"
     ]
    },
    {
     "data": {
      "image/png": "[encoded data removed]",
      "text/plain": [
       "<Figure size 432x288 with 1 Axes>"
      ]
     },
     "metadata": {
      "needs_background": "light"
     },
     "output_type": "display_data"
    }
   ],
   "source": [
    "for col in cat_columns:\n",
    "    print(f'*** {col}: {train[col].nunique()}')\n",
    "    train[col].value_counts().plot.bar()\n",
    "    plt.show()\n",
    "    "
   ]
  },
  {
   "cell_type": "code",
   "execution_count": 52,
   "metadata": {},
   "outputs": [
    {
     "data": {
      "text/plain": [
       "United-States    27504\n",
       "Mexico             610\n",
       "Philippines        188\n",
       "Germany            128\n",
       "Puerto-Rico        109\n",
       "Canada             107\n",
       "India              100\n",
       "El-Salvador        100\n",
       "Cuba                92\n",
       "England             86\n",
       "Name: native_country, dtype: int64"
      ]
     },
     "execution_count": 52,
     "metadata": {},
     "output_type": "execute_result"
    }
   ],
   "source": [
    "train['native_country'].value_counts().head(10) "
   ]
  },
  {
   "cell_type": "code",
   "execution_count": 53,
   "metadata": {},
   "outputs": [
    {
     "data": {
      "text/plain": [
       "United-States    0.911876\n",
       "Mexico           0.020224\n",
       "Philippines      0.006233\n",
       "Germany          0.004244\n",
       "Puerto-Rico      0.003614\n",
       "Canada           0.003548\n",
       "India            0.003315\n",
       "El-Salvador      0.003315\n",
       "Cuba             0.003050\n",
       "England          0.002851\n",
       "Name: native_country, dtype: float64"
      ]
     },
     "execution_count": 53,
     "metadata": {},
     "output_type": "execute_result"
    }
   ],
   "source": [
    "train['native_country'].value_counts().head(10) / train.shape[0]"
   ]
  },
  {
   "cell_type": "code",
   "execution_count": 54,
   "metadata": {},
   "outputs": [
    {
     "data": {
      "text/plain": [
       "White                 0.859790\n",
       "Black                 0.093396\n",
       "Asian-Pac-Islander    0.029673\n",
       "Amer-Indian-Eskimo    0.009482\n",
       "Other                 0.007659\n",
       "Name: race, dtype: float64"
      ]
     },
     "execution_count": 54,
     "metadata": {},
     "output_type": "execute_result"
    }
   ],
   "source": [
    "train['race'].value_counts().head(10) / train.shape[0]"
   ]
  },
  {
   "cell_type": "code",
   "execution_count": 55,
   "metadata": {},
   "outputs": [
    {
     "data": {
      "text/html": [
       "<div>\n",
       "<style scoped>\n",
       "    .dataframe tbody tr th:only-of-type {\n",
       "        vertical-align: middle;\n",
       "    }\n",
       "\n",
       "    .dataframe tbody tr th {\n",
       "        vertical-align: top;\n",
       "    }\n",
       "\n",
       "    .dataframe thead th {\n",
       "        text-align: right;\n",
       "    }\n",
       "</style>\n",
       "<table border=\"1\" class=\"dataframe\">\n",
       "  <thead>\n",
       "    <tr style=\"text-align: right;\">\n",
       "      <th>education_num</th>\n",
       "      <th>1</th>\n",
       "      <th>2</th>\n",
       "      <th>3</th>\n",
       "      <th>4</th>\n",
       "      <th>5</th>\n",
       "      <th>6</th>\n",
       "      <th>7</th>\n",
       "      <th>8</th>\n",
       "      <th>9</th>\n",
       "      <th>10</th>\n",
       "      <th>11</th>\n",
       "      <th>12</th>\n",
       "      <th>13</th>\n",
       "      <th>14</th>\n",
       "      <th>15</th>\n",
       "      <th>16</th>\n",
       "    </tr>\n",
       "    <tr>\n",
       "      <th>education</th>\n",
       "      <th></th>\n",
       "      <th></th>\n",
       "      <th></th>\n",
       "      <th></th>\n",
       "      <th></th>\n",
       "      <th></th>\n",
       "      <th></th>\n",
       "      <th></th>\n",
       "      <th></th>\n",
       "      <th></th>\n",
       "      <th></th>\n",
       "      <th></th>\n",
       "      <th></th>\n",
       "      <th></th>\n",
       "      <th></th>\n",
       "      <th></th>\n",
       "    </tr>\n",
       "  </thead>\n",
       "  <tbody>\n",
       "    <tr>\n",
       "      <th>10th</th>\n",
       "      <td>0</td>\n",
       "      <td>0</td>\n",
       "      <td>0</td>\n",
       "      <td>0</td>\n",
       "      <td>0</td>\n",
       "      <td>820</td>\n",
       "      <td>0</td>\n",
       "      <td>0</td>\n",
       "      <td>0</td>\n",
       "      <td>0</td>\n",
       "      <td>0</td>\n",
       "      <td>0</td>\n",
       "      <td>0</td>\n",
       "      <td>0</td>\n",
       "      <td>0</td>\n",
       "      <td>0</td>\n",
       "    </tr>\n",
       "    <tr>\n",
       "      <th>11th</th>\n",
       "      <td>0</td>\n",
       "      <td>0</td>\n",
       "      <td>0</td>\n",
       "      <td>0</td>\n",
       "      <td>0</td>\n",
       "      <td>0</td>\n",
       "      <td>1048</td>\n",
       "      <td>0</td>\n",
       "      <td>0</td>\n",
       "      <td>0</td>\n",
       "      <td>0</td>\n",
       "      <td>0</td>\n",
       "      <td>0</td>\n",
       "      <td>0</td>\n",
       "      <td>0</td>\n",
       "      <td>0</td>\n",
       "    </tr>\n",
       "    <tr>\n",
       "      <th>12th</th>\n",
       "      <td>0</td>\n",
       "      <td>0</td>\n",
       "      <td>0</td>\n",
       "      <td>0</td>\n",
       "      <td>0</td>\n",
       "      <td>0</td>\n",
       "      <td>0</td>\n",
       "      <td>377</td>\n",
       "      <td>0</td>\n",
       "      <td>0</td>\n",
       "      <td>0</td>\n",
       "      <td>0</td>\n",
       "      <td>0</td>\n",
       "      <td>0</td>\n",
       "      <td>0</td>\n",
       "      <td>0</td>\n",
       "    </tr>\n",
       "    <tr>\n",
       "      <th>1st-4th</th>\n",
       "      <td>0</td>\n",
       "      <td>151</td>\n",
       "      <td>0</td>\n",
       "      <td>0</td>\n",
       "      <td>0</td>\n",
       "      <td>0</td>\n",
       "      <td>0</td>\n",
       "      <td>0</td>\n",
       "      <td>0</td>\n",
       "      <td>0</td>\n",
       "      <td>0</td>\n",
       "      <td>0</td>\n",
       "      <td>0</td>\n",
       "      <td>0</td>\n",
       "      <td>0</td>\n",
       "      <td>0</td>\n",
       "    </tr>\n",
       "    <tr>\n",
       "      <th>5th-6th</th>\n",
       "      <td>0</td>\n",
       "      <td>0</td>\n",
       "      <td>288</td>\n",
       "      <td>0</td>\n",
       "      <td>0</td>\n",
       "      <td>0</td>\n",
       "      <td>0</td>\n",
       "      <td>0</td>\n",
       "      <td>0</td>\n",
       "      <td>0</td>\n",
       "      <td>0</td>\n",
       "      <td>0</td>\n",
       "      <td>0</td>\n",
       "      <td>0</td>\n",
       "      <td>0</td>\n",
       "      <td>0</td>\n",
       "    </tr>\n",
       "    <tr>\n",
       "      <th>7th-8th</th>\n",
       "      <td>0</td>\n",
       "      <td>0</td>\n",
       "      <td>0</td>\n",
       "      <td>557</td>\n",
       "      <td>0</td>\n",
       "      <td>0</td>\n",
       "      <td>0</td>\n",
       "      <td>0</td>\n",
       "      <td>0</td>\n",
       "      <td>0</td>\n",
       "      <td>0</td>\n",
       "      <td>0</td>\n",
       "      <td>0</td>\n",
       "      <td>0</td>\n",
       "      <td>0</td>\n",
       "      <td>0</td>\n",
       "    </tr>\n",
       "    <tr>\n",
       "      <th>9th</th>\n",
       "      <td>0</td>\n",
       "      <td>0</td>\n",
       "      <td>0</td>\n",
       "      <td>0</td>\n",
       "      <td>455</td>\n",
       "      <td>0</td>\n",
       "      <td>0</td>\n",
       "      <td>0</td>\n",
       "      <td>0</td>\n",
       "      <td>0</td>\n",
       "      <td>0</td>\n",
       "      <td>0</td>\n",
       "      <td>0</td>\n",
       "      <td>0</td>\n",
       "      <td>0</td>\n",
       "      <td>0</td>\n",
       "    </tr>\n",
       "    <tr>\n",
       "      <th>Assoc-acdm</th>\n",
       "      <td>0</td>\n",
       "      <td>0</td>\n",
       "      <td>0</td>\n",
       "      <td>0</td>\n",
       "      <td>0</td>\n",
       "      <td>0</td>\n",
       "      <td>0</td>\n",
       "      <td>0</td>\n",
       "      <td>0</td>\n",
       "      <td>0</td>\n",
       "      <td>0</td>\n",
       "      <td>1008</td>\n",
       "      <td>0</td>\n",
       "      <td>0</td>\n",
       "      <td>0</td>\n",
       "      <td>0</td>\n",
       "    </tr>\n",
       "    <tr>\n",
       "      <th>Assoc-voc</th>\n",
       "      <td>0</td>\n",
       "      <td>0</td>\n",
       "      <td>0</td>\n",
       "      <td>0</td>\n",
       "      <td>0</td>\n",
       "      <td>0</td>\n",
       "      <td>0</td>\n",
       "      <td>0</td>\n",
       "      <td>0</td>\n",
       "      <td>0</td>\n",
       "      <td>1307</td>\n",
       "      <td>0</td>\n",
       "      <td>0</td>\n",
       "      <td>0</td>\n",
       "      <td>0</td>\n",
       "      <td>0</td>\n",
       "    </tr>\n",
       "    <tr>\n",
       "      <th>Bachelors</th>\n",
       "      <td>0</td>\n",
       "      <td>0</td>\n",
       "      <td>0</td>\n",
       "      <td>0</td>\n",
       "      <td>0</td>\n",
       "      <td>0</td>\n",
       "      <td>0</td>\n",
       "      <td>0</td>\n",
       "      <td>0</td>\n",
       "      <td>0</td>\n",
       "      <td>0</td>\n",
       "      <td>0</td>\n",
       "      <td>5044</td>\n",
       "      <td>0</td>\n",
       "      <td>0</td>\n",
       "      <td>0</td>\n",
       "    </tr>\n",
       "    <tr>\n",
       "      <th>Doctorate</th>\n",
       "      <td>0</td>\n",
       "      <td>0</td>\n",
       "      <td>0</td>\n",
       "      <td>0</td>\n",
       "      <td>0</td>\n",
       "      <td>0</td>\n",
       "      <td>0</td>\n",
       "      <td>0</td>\n",
       "      <td>0</td>\n",
       "      <td>0</td>\n",
       "      <td>0</td>\n",
       "      <td>0</td>\n",
       "      <td>0</td>\n",
       "      <td>0</td>\n",
       "      <td>0</td>\n",
       "      <td>375</td>\n",
       "    </tr>\n",
       "    <tr>\n",
       "      <th>HS-grad</th>\n",
       "      <td>0</td>\n",
       "      <td>0</td>\n",
       "      <td>0</td>\n",
       "      <td>0</td>\n",
       "      <td>0</td>\n",
       "      <td>0</td>\n",
       "      <td>0</td>\n",
       "      <td>0</td>\n",
       "      <td>9840</td>\n",
       "      <td>0</td>\n",
       "      <td>0</td>\n",
       "      <td>0</td>\n",
       "      <td>0</td>\n",
       "      <td>0</td>\n",
       "      <td>0</td>\n",
       "      <td>0</td>\n",
       "    </tr>\n",
       "    <tr>\n",
       "      <th>Masters</th>\n",
       "      <td>0</td>\n",
       "      <td>0</td>\n",
       "      <td>0</td>\n",
       "      <td>0</td>\n",
       "      <td>0</td>\n",
       "      <td>0</td>\n",
       "      <td>0</td>\n",
       "      <td>0</td>\n",
       "      <td>0</td>\n",
       "      <td>0</td>\n",
       "      <td>0</td>\n",
       "      <td>0</td>\n",
       "      <td>0</td>\n",
       "      <td>1627</td>\n",
       "      <td>0</td>\n",
       "      <td>0</td>\n",
       "    </tr>\n",
       "    <tr>\n",
       "      <th>Preschool</th>\n",
       "      <td>45</td>\n",
       "      <td>0</td>\n",
       "      <td>0</td>\n",
       "      <td>0</td>\n",
       "      <td>0</td>\n",
       "      <td>0</td>\n",
       "      <td>0</td>\n",
       "      <td>0</td>\n",
       "      <td>0</td>\n",
       "      <td>0</td>\n",
       "      <td>0</td>\n",
       "      <td>0</td>\n",
       "      <td>0</td>\n",
       "      <td>0</td>\n",
       "      <td>0</td>\n",
       "      <td>0</td>\n",
       "    </tr>\n",
       "    <tr>\n",
       "      <th>Prof-school</th>\n",
       "      <td>0</td>\n",
       "      <td>0</td>\n",
       "      <td>0</td>\n",
       "      <td>0</td>\n",
       "      <td>0</td>\n",
       "      <td>0</td>\n",
       "      <td>0</td>\n",
       "      <td>0</td>\n",
       "      <td>0</td>\n",
       "      <td>0</td>\n",
       "      <td>0</td>\n",
       "      <td>0</td>\n",
       "      <td>0</td>\n",
       "      <td>0</td>\n",
       "      <td>542</td>\n",
       "      <td>0</td>\n",
       "    </tr>\n",
       "    <tr>\n",
       "      <th>Some-college</th>\n",
       "      <td>0</td>\n",
       "      <td>0</td>\n",
       "      <td>0</td>\n",
       "      <td>0</td>\n",
       "      <td>0</td>\n",
       "      <td>0</td>\n",
       "      <td>0</td>\n",
       "      <td>0</td>\n",
       "      <td>0</td>\n",
       "      <td>6678</td>\n",
       "      <td>0</td>\n",
       "      <td>0</td>\n",
       "      <td>0</td>\n",
       "      <td>0</td>\n",
       "      <td>0</td>\n",
       "      <td>0</td>\n",
       "    </tr>\n",
       "  </tbody>\n",
       "</table>\n",
       "</div>"
      ],
      "text/plain": [
       "education_num  1    2    3    4    5    6     7    8     9     10    11    12  \\\n",
       "education                                                                       \n",
       "10th            0    0    0    0    0  820     0    0     0     0     0     0   \n",
       "11th            0    0    0    0    0    0  1048    0     0     0     0     0   \n",
       "12th            0    0    0    0    0    0     0  377     0     0     0     0   \n",
       "1st-4th         0  151    0    0    0    0     0    0     0     0     0     0   \n",
       "5th-6th         0    0  288    0    0    0     0    0     0     0     0     0   \n",
       "7th-8th         0    0    0  557    0    0     0    0     0     0     0     0   \n",
       "9th             0    0    0    0  455    0     0    0     0     0     0     0   \n",
       "Assoc-acdm      0    0    0    0    0    0     0    0     0     0     0  1008   \n",
       "Assoc-voc       0    0    0    0    0    0     0    0     0     0  1307     0   \n",
       "Bachelors       0    0    0    0    0    0     0    0     0     0     0     0   \n",
       "Doctorate       0    0    0    0    0    0     0    0     0     0     0     0   \n",
       "HS-grad         0    0    0    0    0    0     0    0  9840     0     0     0   \n",
       "Masters         0    0    0    0    0    0     0    0     0     0     0     0   \n",
       "Preschool      45    0    0    0    0    0     0    0     0     0     0     0   \n",
       "Prof-school     0    0    0    0    0    0     0    0     0     0     0     0   \n",
       "Some-college    0    0    0    0    0    0     0    0     0  6678     0     0   \n",
       "\n",
       "education_num    13    14   15   16  \n",
       "education                            \n",
       "10th              0     0    0    0  \n",
       "11th              0     0    0    0  \n",
       "12th              0     0    0    0  \n",
       "1st-4th           0     0    0    0  \n",
       "5th-6th           0     0    0    0  \n",
       "7th-8th           0     0    0    0  \n",
       "9th               0     0    0    0  \n",
       "Assoc-acdm        0     0    0    0  \n",
       "Assoc-voc         0     0    0    0  \n",
       "Bachelors      5044     0    0    0  \n",
       "Doctorate         0     0    0  375  \n",
       "HS-grad           0     0    0    0  \n",
       "Masters           0  1627    0    0  \n",
       "Preschool         0     0    0    0  \n",
       "Prof-school       0     0  542    0  \n",
       "Some-college      0     0    0    0  "
      ]
     },
     "execution_count": 55,
     "metadata": {},
     "output_type": "execute_result"
    }
   ],
   "source": [
    "pd.crosstab(train.education,train.education_num)"
   ]
  },
  {
   "cell_type": "markdown",
   "metadata": {},
   "source": [
    "### Group education into 3 classes:\n",
    "* 1-8 - basic education;\n",
    "* 9-10 years => the most often education\n",
    "* 11-16 years => higher degree"
   ]
  },
  {
   "cell_type": "code",
   "execution_count": 56,
   "metadata": {},
   "outputs": [
    {
     "data": {
      "text/plain": [
       "3741"
      ]
     },
     "execution_count": 56,
     "metadata": {},
     "output_type": "execute_result"
    }
   ],
   "source": [
    "# basic education = 1\n",
    "train.education_num.value_counts().sort_index()[:8].sum()"
   ]
  },
  {
   "cell_type": "code",
   "execution_count": 57,
   "metadata": {},
   "outputs": [
    {
     "data": {
      "text/plain": [
       "16518"
      ]
     },
     "execution_count": 57,
     "metadata": {},
     "output_type": "execute_result"
    }
   ],
   "source": [
    "# middle level of education = 2\n",
    "train.education_num.value_counts().sort_index()[8:10].sum()"
   ]
  },
  {
   "cell_type": "code",
   "execution_count": 58,
   "metadata": {},
   "outputs": [
    {
     "data": {
      "text/plain": [
       "9903"
      ]
     },
     "execution_count": 58,
     "metadata": {},
     "output_type": "execute_result"
    }
   ],
   "source": [
    "# higher degree = 3\n",
    "train.education_num.value_counts().sort_index()[10:].sum()"
   ]
  },
  {
   "cell_type": "markdown",
   "metadata": {},
   "source": [
    "### Family Status"
   ]
  },
  {
   "cell_type": "code",
   "execution_count": 59,
   "metadata": {},
   "outputs": [
    {
     "data": {
      "text/plain": [
       "Married-civ-spouse       0.466315\n",
       "Never-married            0.322459\n",
       "Divorced                 0.139712\n",
       "Separated                0.031132\n",
       "Widowed                  0.027419\n",
       "Married-spouse-absent    0.012267\n",
       "Married-AF-spouse        0.000696\n",
       "Name: marital_status, dtype: float64"
      ]
     },
     "execution_count": 59,
     "metadata": {},
     "output_type": "execute_result"
    }
   ],
   "source": [
    "train.marital_status.value_counts() / train.shape[0]"
   ]
  },
  {
   "cell_type": "code",
   "execution_count": 60,
   "metadata": {},
   "outputs": [
    {
     "data": {
      "text/plain": [
       "Husband           0.413202\n",
       "Not-in-family     0.256150\n",
       "Own-child         0.148067\n",
       "Unmarried         0.106492\n",
       "Wife              0.046615\n",
       "Other-relative    0.029474\n",
       "Name: relationship, dtype: float64"
      ]
     },
     "execution_count": 60,
     "metadata": {},
     "output_type": "execute_result"
    }
   ],
   "source": [
    "train.relationship.value_counts() / train.shape[0]"
   ]
  },
  {
   "cell_type": "code",
   "execution_count": 61,
   "metadata": {},
   "outputs": [
    {
     "data": {
      "text/html": [
       "<div>\n",
       "<style scoped>\n",
       "    .dataframe tbody tr th:only-of-type {\n",
       "        vertical-align: middle;\n",
       "    }\n",
       "\n",
       "    .dataframe tbody tr th {\n",
       "        vertical-align: top;\n",
       "    }\n",
       "\n",
       "    .dataframe thead th {\n",
       "        text-align: right;\n",
       "    }\n",
       "</style>\n",
       "<table border=\"1\" class=\"dataframe\">\n",
       "  <thead>\n",
       "    <tr style=\"text-align: right;\">\n",
       "      <th>relationship</th>\n",
       "      <th>Husband</th>\n",
       "      <th>Not-in-family</th>\n",
       "      <th>Other-relative</th>\n",
       "      <th>Own-child</th>\n",
       "      <th>Unmarried</th>\n",
       "      <th>Wife</th>\n",
       "    </tr>\n",
       "    <tr>\n",
       "      <th>marital_status</th>\n",
       "      <th></th>\n",
       "      <th></th>\n",
       "      <th></th>\n",
       "      <th></th>\n",
       "      <th></th>\n",
       "      <th></th>\n",
       "    </tr>\n",
       "  </thead>\n",
       "  <tbody>\n",
       "    <tr>\n",
       "      <th>Divorced</th>\n",
       "      <td>0</td>\n",
       "      <td>2268</td>\n",
       "      <td>103</td>\n",
       "      <td>308</td>\n",
       "      <td>1535</td>\n",
       "      <td>0</td>\n",
       "    </tr>\n",
       "    <tr>\n",
       "      <th>Married-AF-spouse</th>\n",
       "      <td>9</td>\n",
       "      <td>0</td>\n",
       "      <td>1</td>\n",
       "      <td>1</td>\n",
       "      <td>0</td>\n",
       "      <td>10</td>\n",
       "    </tr>\n",
       "    <tr>\n",
       "      <th>Married-civ-spouse</th>\n",
       "      <td>12454</td>\n",
       "      <td>14</td>\n",
       "      <td>118</td>\n",
       "      <td>83</td>\n",
       "      <td>0</td>\n",
       "      <td>1396</td>\n",
       "    </tr>\n",
       "    <tr>\n",
       "      <th>Married-spouse-absent</th>\n",
       "      <td>0</td>\n",
       "      <td>181</td>\n",
       "      <td>26</td>\n",
       "      <td>43</td>\n",
       "      <td>120</td>\n",
       "      <td>0</td>\n",
       "    </tr>\n",
       "    <tr>\n",
       "      <th>Never-married</th>\n",
       "      <td>0</td>\n",
       "      <td>4448</td>\n",
       "      <td>548</td>\n",
       "      <td>3929</td>\n",
       "      <td>801</td>\n",
       "      <td>0</td>\n",
       "    </tr>\n",
       "    <tr>\n",
       "      <th>Separated</th>\n",
       "      <td>0</td>\n",
       "      <td>383</td>\n",
       "      <td>53</td>\n",
       "      <td>90</td>\n",
       "      <td>413</td>\n",
       "      <td>0</td>\n",
       "    </tr>\n",
       "    <tr>\n",
       "      <th>Widowed</th>\n",
       "      <td>0</td>\n",
       "      <td>432</td>\n",
       "      <td>40</td>\n",
       "      <td>12</td>\n",
       "      <td>343</td>\n",
       "      <td>0</td>\n",
       "    </tr>\n",
       "  </tbody>\n",
       "</table>\n",
       "</div>"
      ],
      "text/plain": [
       "relationship           Husband  Not-in-family  Other-relative  Own-child  \\\n",
       "marital_status                                                             \n",
       "Divorced                     0           2268             103        308   \n",
       "Married-AF-spouse            9              0               1          1   \n",
       "Married-civ-spouse       12454             14             118         83   \n",
       "Married-spouse-absent        0            181              26         43   \n",
       "Never-married                0           4448             548       3929   \n",
       "Separated                    0            383              53         90   \n",
       "Widowed                      0            432              40         12   \n",
       "\n",
       "relationship           Unmarried  Wife  \n",
       "marital_status                          \n",
       "Divorced                    1535     0  \n",
       "Married-AF-spouse              0    10  \n",
       "Married-civ-spouse             0  1396  \n",
       "Married-spouse-absent        120     0  \n",
       "Never-married                801     0  \n",
       "Separated                    413     0  \n",
       "Widowed                      343     0  "
      ]
     },
     "execution_count": 61,
     "metadata": {},
     "output_type": "execute_result"
    }
   ],
   "source": [
    "pd.crosstab(train.marital_status, train.relationship)"
   ]
  },
  {
   "cell_type": "markdown",
   "metadata": {},
   "source": [
    "* marital_status => {married, never-married, other}\n",
    "* relationship => {has_child, no}"
   ]
  },
  {
   "cell_type": "markdown",
   "metadata": {},
   "source": [
    "## Occupation"
   ]
  },
  {
   "cell_type": "code",
   "execution_count": 62,
   "metadata": {},
   "outputs": [
    {
     "data": {
      "text/plain": [
       "occupation\n",
       "Exec-managerial      0.485220\n",
       "Prof-specialty       0.448489\n",
       "Protective-serv      0.326087\n",
       "Tech-support         0.304825\n",
       "Sales                0.270647\n",
       "Craft-repair         0.225310\n",
       "Transport-moving     0.202926\n",
       "Adm-clerical         0.133835\n",
       "Machine-op-inspct    0.124619\n",
       "Farming-fishing      0.116279\n",
       "Armed-Forces         0.111111\n",
       "Handlers-cleaners    0.061481\n",
       "Other-service        0.041096\n",
       "Priv-house-serv      0.006993\n",
       "Name: wage_class, dtype: float64"
      ]
     },
     "execution_count": 62,
     "metadata": {},
     "output_type": "execute_result"
    }
   ],
   "source": [
    "a = train.groupby('occupation').mean()['wage_class'].sort_values(ascending=False)\n",
    "a"
   ]
  },
  {
   "cell_type": "code",
   "execution_count": 63,
   "metadata": {},
   "outputs": [],
   "source": [
    "import math\n",
    "\n",
    "def roundup(x):\n",
    "    return int(round(x / 10))"
   ]
  },
  {
   "cell_type": "code",
   "execution_count": 64,
   "metadata": {},
   "outputs": [
    {
     "data": {
      "text/plain": [
       "(3, 3)"
      ]
     },
     "execution_count": 64,
     "metadata": {},
     "output_type": "execute_result"
    }
   ],
   "source": [
    "roundup(31), roundup(28)"
   ]
  },
  {
   "cell_type": "code",
   "execution_count": 65,
   "metadata": {},
   "outputs": [
    {
     "data": {
      "text/plain": [
       "occupation\n",
       "Exec-managerial      0\n",
       "Prof-specialty       0\n",
       "Protective-serv      0\n",
       "Tech-support         0\n",
       "Sales                0\n",
       "Craft-repair         0\n",
       "Transport-moving     0\n",
       "Adm-clerical         0\n",
       "Machine-op-inspct    0\n",
       "Farming-fishing      0\n",
       "Armed-Forces         0\n",
       "Handlers-cleaners    0\n",
       "Other-service        0\n",
       "Priv-house-serv      0\n",
       "Name: wage_class, dtype: int64"
      ]
     },
     "execution_count": 65,
     "metadata": {},
     "output_type": "execute_result"
    }
   ],
   "source": [
    "a = a.apply(lambda x: roundup(x))\n",
    "a"
   ]
  },
  {
   "cell_type": "code",
   "execution_count": 66,
   "metadata": {},
   "outputs": [
    {
     "data": {
      "text/plain": [
       "{'Exec-managerial': 0,\n",
       " 'Prof-specialty': 0,\n",
       " 'Protective-serv': 0,\n",
       " 'Tech-support': 0,\n",
       " 'Sales': 0,\n",
       " 'Craft-repair': 0,\n",
       " 'Transport-moving': 0,\n",
       " 'Adm-clerical': 0,\n",
       " 'Machine-op-inspct': 0,\n",
       " 'Farming-fishing': 0,\n",
       " 'Armed-Forces': 0,\n",
       " 'Handlers-cleaners': 0,\n",
       " 'Other-service': 0,\n",
       " 'Priv-house-serv': 0}"
      ]
     },
     "execution_count": 66,
     "metadata": {},
     "output_type": "execute_result"
    }
   ],
   "source": [
    "occupation_d = a.to_dict()\n",
    "occupation_d"
   ]
  },
  {
   "cell_type": "markdown",
   "metadata": {},
   "source": [
    "## Zadanie \n",
    "* zrobić enkodowanie dla kolumny 'Workclass'\n",
    "* przygotować mapę"
   ]
  },
  {
   "cell_type": "code",
   "execution_count": null,
   "metadata": {},
   "outputs": [],
   "source": []
  },
  {
   "cell_type": "code",
   "execution_count": null,
   "metadata": {},
   "outputs": [],
   "source": []
  },
  {
   "cell_type": "code",
   "execution_count": null,
   "metadata": {},
   "outputs": [],
   "source": []
  },
  {
   "cell_type": "markdown",
   "metadata": {},
   "source": [
    "## Workclass"
   ]
  },
  {
   "cell_type": "code",
   "execution_count": 67,
   "metadata": {},
   "outputs": [
    {
     "data": {
      "text/plain": [
       "workclass\n",
       "Self-emp-inc        0.558659\n",
       "Federal-gov         0.387063\n",
       "Local-gov           0.294630\n",
       "Self-emp-not-inc    0.285714\n",
       "State-gov           0.268960\n",
       "Private             0.218792\n",
       "Without-pay         0.000000\n",
       "Name: wage_class, dtype: float64"
      ]
     },
     "execution_count": 67,
     "metadata": {},
     "output_type": "execute_result"
    }
   ],
   "source": [
    "b = train.groupby('workclass').mean()['wage_class'].sort_values(ascending=False)\n",
    "b"
   ]
  },
  {
   "cell_type": "code",
   "execution_count": 68,
   "metadata": {},
   "outputs": [
    {
     "data": {
      "text/plain": [
       "workclass\n",
       "Self-emp-inc        6\n",
       "Federal-gov         4\n",
       "Local-gov           3\n",
       "Self-emp-not-inc    3\n",
       "State-gov           3\n",
       "Private             2\n",
       "Without-pay         0\n",
       "Name: wage_class, dtype: int64"
      ]
     },
     "execution_count": 68,
     "metadata": {},
     "output_type": "execute_result"
    }
   ],
   "source": [
    "b = b.apply(lambda x: roundup(x * 100))\n",
    "b"
   ]
  },
  {
   "cell_type": "code",
   "execution_count": 69,
   "metadata": {},
   "outputs": [
    {
     "data": {
      "text/plain": [
       "{'Self-emp-inc': 6,\n",
       " 'Federal-gov': 4,\n",
       " 'Local-gov': 3,\n",
       " 'Self-emp-not-inc': 3,\n",
       " 'State-gov': 3,\n",
       " 'Private': 2,\n",
       " 'Without-pay': 0}"
      ]
     },
     "execution_count": 69,
     "metadata": {},
     "output_type": "execute_result"
    }
   ],
   "source": [
    "workclass_d = b.to_dict()\n",
    "workclass_d"
   ]
  },
  {
   "cell_type": "code",
   "execution_count": 70,
   "metadata": {},
   "outputs": [
    {
     "data": {
      "text/plain": [
       "['workclass',\n",
       " 'education',\n",
       " 'marital_status',\n",
       " 'occupation',\n",
       " 'relationship',\n",
       " 'race',\n",
       " 'sex',\n",
       " 'native_country']"
      ]
     },
     "execution_count": 70,
     "metadata": {},
     "output_type": "execute_result"
    }
   ],
   "source": [
    "cat_columns"
   ]
  },
  {
   "cell_type": "markdown",
   "metadata": {},
   "source": [
    "## Categorical Columns - Conclusion\n",
    "* workclass => map using __workclass_d__\n",
    "* education => remove but number of years split into 3 groups (1-8, 9-10, 11-16)\n",
    "* marital_status => {married, never-married, other}\n",
    "* occupation => map using __occupation_d__\n",
    "* relationship => map to {has_child, no} or drop\n",
    "* race => make binary (white or not)\n",
    "* sex => binary (0=male, 1=female)\n",
    "* native_coutry => make binary (US or not)\n",
    "* wage class => target, to be predicted\n"
   ]
  },
  {
   "cell_type": "code",
   "execution_count": 71,
   "metadata": {},
   "outputs": [
    {
     "data": {
      "text/plain": [
       "['age',\n",
       " 'fnlwgt',\n",
       " 'education_num',\n",
       " 'capital_gain',\n",
       " 'capital_loss',\n",
       " 'hours_per_week',\n",
       " 'wage_class']"
      ]
     },
     "execution_count": 71,
     "metadata": {},
     "output_type": "execute_result"
    }
   ],
   "source": [
    "num_columns"
   ]
  },
  {
   "cell_type": "markdown",
   "metadata": {},
   "source": [
    "## Numerical columns - conclusion\n",
    "* age => make binning (<35, 35-50, >50)\n",
    "* fnlwgt => remove\n",
    "* education_num => binning\n",
    "* capital_gain = make binary (1 if made gain else 0)\n",
    "* capital_loss = make binary (1 if made loss else 0)\n",
    "* hours_per_week (<40, 40, >40)"
   ]
  },
  {
   "cell_type": "code",
   "execution_count": 72,
   "metadata": {},
   "outputs": [],
   "source": [
    "df_train = train.copy()"
   ]
  },
  {
   "cell_type": "markdown",
   "metadata": {},
   "source": [
    "### Transform numerical columns"
   ]
  },
  {
   "cell_type": "code",
   "execution_count": 73,
   "metadata": {},
   "outputs": [
    {
     "data": {
      "text/plain": [
       "1    12910\n",
       "2    10985\n",
       "3     6267\n",
       "Name: age, dtype: int64"
      ]
     },
     "execution_count": 73,
     "metadata": {},
     "output_type": "execute_result"
    }
   ],
   "source": [
    "# age\n",
    "pd.cut(x=df_train['age'], bins=[0, 35, 50, 100], right=False, labels=[1, 2, 3]).value_counts()\n"
   ]
  },
  {
   "cell_type": "code",
   "execution_count": 74,
   "metadata": {},
   "outputs": [],
   "source": [
    "df_train['age'] = pd.cut(x=df_train['age'], bins=[0, 35, 50, 100], right=False, labels=[1, 2, 3])\n",
    "df_train['age'] = df_train['age'].astype(int)"
   ]
  },
  {
   "cell_type": "code",
   "execution_count": 75,
   "metadata": {},
   "outputs": [
    {
     "data": {
      "text/html": [
       "<div>\n",
       "<style scoped>\n",
       "    .dataframe tbody tr th:only-of-type {\n",
       "        vertical-align: middle;\n",
       "    }\n",
       "\n",
       "    .dataframe tbody tr th {\n",
       "        vertical-align: top;\n",
       "    }\n",
       "\n",
       "    .dataframe thead th {\n",
       "        text-align: right;\n",
       "    }\n",
       "</style>\n",
       "<table border=\"1\" class=\"dataframe\">\n",
       "  <thead>\n",
       "    <tr style=\"text-align: right;\">\n",
       "      <th></th>\n",
       "      <th>age</th>\n",
       "      <th>workclass</th>\n",
       "      <th>fnlwgt</th>\n",
       "      <th>education</th>\n",
       "      <th>education_num</th>\n",
       "      <th>marital_status</th>\n",
       "      <th>occupation</th>\n",
       "      <th>relationship</th>\n",
       "      <th>race</th>\n",
       "      <th>sex</th>\n",
       "      <th>capital_gain</th>\n",
       "      <th>capital_loss</th>\n",
       "      <th>hours_per_week</th>\n",
       "      <th>native_country</th>\n",
       "      <th>wage_class</th>\n",
       "    </tr>\n",
       "  </thead>\n",
       "  <tbody>\n",
       "    <tr>\n",
       "      <th>0</th>\n",
       "      <td>2</td>\n",
       "      <td>State-gov</td>\n",
       "      <td>77516</td>\n",
       "      <td>Bachelors</td>\n",
       "      <td>13</td>\n",
       "      <td>Never-married</td>\n",
       "      <td>Adm-clerical</td>\n",
       "      <td>Not-in-family</td>\n",
       "      <td>White</td>\n",
       "      <td>Male</td>\n",
       "      <td>2174</td>\n",
       "      <td>0</td>\n",
       "      <td>40</td>\n",
       "      <td>United-States</td>\n",
       "      <td>0</td>\n",
       "    </tr>\n",
       "    <tr>\n",
       "      <th>1</th>\n",
       "      <td>3</td>\n",
       "      <td>Self-emp-not-inc</td>\n",
       "      <td>83311</td>\n",
       "      <td>Bachelors</td>\n",
       "      <td>13</td>\n",
       "      <td>Married-civ-spouse</td>\n",
       "      <td>Exec-managerial</td>\n",
       "      <td>Husband</td>\n",
       "      <td>White</td>\n",
       "      <td>Male</td>\n",
       "      <td>0</td>\n",
       "      <td>0</td>\n",
       "      <td>13</td>\n",
       "      <td>United-States</td>\n",
       "      <td>0</td>\n",
       "    </tr>\n",
       "    <tr>\n",
       "      <th>2</th>\n",
       "      <td>2</td>\n",
       "      <td>Private</td>\n",
       "      <td>215646</td>\n",
       "      <td>HS-grad</td>\n",
       "      <td>9</td>\n",
       "      <td>Divorced</td>\n",
       "      <td>Handlers-cleaners</td>\n",
       "      <td>Not-in-family</td>\n",
       "      <td>White</td>\n",
       "      <td>Male</td>\n",
       "      <td>0</td>\n",
       "      <td>0</td>\n",
       "      <td>40</td>\n",
       "      <td>United-States</td>\n",
       "      <td>0</td>\n",
       "    </tr>\n",
       "    <tr>\n",
       "      <th>3</th>\n",
       "      <td>3</td>\n",
       "      <td>Private</td>\n",
       "      <td>234721</td>\n",
       "      <td>11th</td>\n",
       "      <td>7</td>\n",
       "      <td>Married-civ-spouse</td>\n",
       "      <td>Handlers-cleaners</td>\n",
       "      <td>Husband</td>\n",
       "      <td>Black</td>\n",
       "      <td>Male</td>\n",
       "      <td>0</td>\n",
       "      <td>0</td>\n",
       "      <td>40</td>\n",
       "      <td>United-States</td>\n",
       "      <td>0</td>\n",
       "    </tr>\n",
       "    <tr>\n",
       "      <th>4</th>\n",
       "      <td>1</td>\n",
       "      <td>Private</td>\n",
       "      <td>338409</td>\n",
       "      <td>Bachelors</td>\n",
       "      <td>13</td>\n",
       "      <td>Married-civ-spouse</td>\n",
       "      <td>Prof-specialty</td>\n",
       "      <td>Wife</td>\n",
       "      <td>Black</td>\n",
       "      <td>Female</td>\n",
       "      <td>0</td>\n",
       "      <td>0</td>\n",
       "      <td>40</td>\n",
       "      <td>Cuba</td>\n",
       "      <td>0</td>\n",
       "    </tr>\n",
       "  </tbody>\n",
       "</table>\n",
       "</div>"
      ],
      "text/plain": [
       "   age         workclass  fnlwgt  education  education_num  \\\n",
       "0    2         State-gov   77516  Bachelors             13   \n",
       "1    3  Self-emp-not-inc   83311  Bachelors             13   \n",
       "2    2           Private  215646    HS-grad              9   \n",
       "3    3           Private  234721       11th              7   \n",
       "4    1           Private  338409  Bachelors             13   \n",
       "\n",
       "       marital_status         occupation   relationship   race     sex  \\\n",
       "0       Never-married       Adm-clerical  Not-in-family  White    Male   \n",
       "1  Married-civ-spouse    Exec-managerial        Husband  White    Male   \n",
       "2            Divorced  Handlers-cleaners  Not-in-family  White    Male   \n",
       "3  Married-civ-spouse  Handlers-cleaners        Husband  Black    Male   \n",
       "4  Married-civ-spouse     Prof-specialty           Wife  Black  Female   \n",
       "\n",
       "   capital_gain  capital_loss  hours_per_week native_country  wage_class  \n",
       "0          2174             0              40  United-States           0  \n",
       "1             0             0              13  United-States           0  \n",
       "2             0             0              40  United-States           0  \n",
       "3             0             0              40  United-States           0  \n",
       "4             0             0              40           Cuba           0  "
      ]
     },
     "execution_count": 75,
     "metadata": {},
     "output_type": "execute_result"
    }
   ],
   "source": [
    "df_train.head()"
   ]
  },
  {
   "cell_type": "code",
   "execution_count": 76,
   "metadata": {},
   "outputs": [
    {
     "data": {
      "text/html": [
       "<div>\n",
       "<style scoped>\n",
       "    .dataframe tbody tr th:only-of-type {\n",
       "        vertical-align: middle;\n",
       "    }\n",
       "\n",
       "    .dataframe tbody tr th {\n",
       "        vertical-align: top;\n",
       "    }\n",
       "\n",
       "    .dataframe thead th {\n",
       "        text-align: right;\n",
       "    }\n",
       "</style>\n",
       "<table border=\"1\" class=\"dataframe\">\n",
       "  <thead>\n",
       "    <tr style=\"text-align: right;\">\n",
       "      <th></th>\n",
       "      <th>age</th>\n",
       "      <th>workclass</th>\n",
       "      <th>education</th>\n",
       "      <th>education_num</th>\n",
       "      <th>marital_status</th>\n",
       "      <th>occupation</th>\n",
       "      <th>relationship</th>\n",
       "      <th>race</th>\n",
       "      <th>sex</th>\n",
       "      <th>capital_gain</th>\n",
       "      <th>capital_loss</th>\n",
       "      <th>hours_per_week</th>\n",
       "      <th>native_country</th>\n",
       "      <th>wage_class</th>\n",
       "    </tr>\n",
       "  </thead>\n",
       "  <tbody>\n",
       "    <tr>\n",
       "      <th>0</th>\n",
       "      <td>2</td>\n",
       "      <td>State-gov</td>\n",
       "      <td>Bachelors</td>\n",
       "      <td>13</td>\n",
       "      <td>Never-married</td>\n",
       "      <td>Adm-clerical</td>\n",
       "      <td>Not-in-family</td>\n",
       "      <td>White</td>\n",
       "      <td>Male</td>\n",
       "      <td>2174</td>\n",
       "      <td>0</td>\n",
       "      <td>40</td>\n",
       "      <td>United-States</td>\n",
       "      <td>0</td>\n",
       "    </tr>\n",
       "    <tr>\n",
       "      <th>1</th>\n",
       "      <td>3</td>\n",
       "      <td>Self-emp-not-inc</td>\n",
       "      <td>Bachelors</td>\n",
       "      <td>13</td>\n",
       "      <td>Married-civ-spouse</td>\n",
       "      <td>Exec-managerial</td>\n",
       "      <td>Husband</td>\n",
       "      <td>White</td>\n",
       "      <td>Male</td>\n",
       "      <td>0</td>\n",
       "      <td>0</td>\n",
       "      <td>13</td>\n",
       "      <td>United-States</td>\n",
       "      <td>0</td>\n",
       "    </tr>\n",
       "    <tr>\n",
       "      <th>2</th>\n",
       "      <td>2</td>\n",
       "      <td>Private</td>\n",
       "      <td>HS-grad</td>\n",
       "      <td>9</td>\n",
       "      <td>Divorced</td>\n",
       "      <td>Handlers-cleaners</td>\n",
       "      <td>Not-in-family</td>\n",
       "      <td>White</td>\n",
       "      <td>Male</td>\n",
       "      <td>0</td>\n",
       "      <td>0</td>\n",
       "      <td>40</td>\n",
       "      <td>United-States</td>\n",
       "      <td>0</td>\n",
       "    </tr>\n",
       "    <tr>\n",
       "      <th>3</th>\n",
       "      <td>3</td>\n",
       "      <td>Private</td>\n",
       "      <td>11th</td>\n",
       "      <td>7</td>\n",
       "      <td>Married-civ-spouse</td>\n",
       "      <td>Handlers-cleaners</td>\n",
       "      <td>Husband</td>\n",
       "      <td>Black</td>\n",
       "      <td>Male</td>\n",
       "      <td>0</td>\n",
       "      <td>0</td>\n",
       "      <td>40</td>\n",
       "      <td>United-States</td>\n",
       "      <td>0</td>\n",
       "    </tr>\n",
       "    <tr>\n",
       "      <th>4</th>\n",
       "      <td>1</td>\n",
       "      <td>Private</td>\n",
       "      <td>Bachelors</td>\n",
       "      <td>13</td>\n",
       "      <td>Married-civ-spouse</td>\n",
       "      <td>Prof-specialty</td>\n",
       "      <td>Wife</td>\n",
       "      <td>Black</td>\n",
       "      <td>Female</td>\n",
       "      <td>0</td>\n",
       "      <td>0</td>\n",
       "      <td>40</td>\n",
       "      <td>Cuba</td>\n",
       "      <td>0</td>\n",
       "    </tr>\n",
       "  </tbody>\n",
       "</table>\n",
       "</div>"
      ],
      "text/plain": [
       "   age         workclass  education  education_num      marital_status  \\\n",
       "0    2         State-gov  Bachelors             13       Never-married   \n",
       "1    3  Self-emp-not-inc  Bachelors             13  Married-civ-spouse   \n",
       "2    2           Private    HS-grad              9            Divorced   \n",
       "3    3           Private       11th              7  Married-civ-spouse   \n",
       "4    1           Private  Bachelors             13  Married-civ-spouse   \n",
       "\n",
       "          occupation   relationship   race     sex  capital_gain  \\\n",
       "0       Adm-clerical  Not-in-family  White    Male          2174   \n",
       "1    Exec-managerial        Husband  White    Male             0   \n",
       "2  Handlers-cleaners  Not-in-family  White    Male             0   \n",
       "3  Handlers-cleaners        Husband  Black    Male             0   \n",
       "4     Prof-specialty           Wife  Black  Female             0   \n",
       "\n",
       "   capital_loss  hours_per_week native_country  wage_class  \n",
       "0             0              40  United-States           0  \n",
       "1             0              13  United-States           0  \n",
       "2             0              40  United-States           0  \n",
       "3             0              40  United-States           0  \n",
       "4             0              40           Cuba           0  "
      ]
     },
     "execution_count": 76,
     "metadata": {},
     "output_type": "execute_result"
    }
   ],
   "source": [
    "df_train = df_train.drop('fnlwgt', axis=1)\n",
    "df_train.head()"
   ]
  },
  {
   "cell_type": "code",
   "execution_count": 77,
   "metadata": {},
   "outputs": [],
   "source": [
    "pd.cut?"
   ]
  },
  {
   "cell_type": "markdown",
   "metadata": {},
   "source": [
    "## Zadanie\n",
    "* zrobić binning dla kolumny Education Num\n",
    "* przedziały\n",
    "    * 1: do 8 lat; \n",
    "    * 2: od 9 do 10\n",
    "    * 3: powyżej 10"
   ]
  },
  {
   "cell_type": "code",
   "execution_count": null,
   "metadata": {},
   "outputs": [],
   "source": []
  },
  {
   "cell_type": "code",
   "execution_count": null,
   "metadata": {},
   "outputs": [],
   "source": []
  },
  {
   "cell_type": "code",
   "execution_count": null,
   "metadata": {},
   "outputs": [],
   "source": []
  },
  {
   "cell_type": "code",
   "execution_count": 78,
   "metadata": {},
   "outputs": [
    {
     "data": {
      "text/plain": [
       "[9, 11)     16518\n",
       "[11, 20)     9903\n",
       "[1, 9)       3741\n",
       "Name: education_num, dtype: int64"
      ]
     },
     "execution_count": 78,
     "metadata": {},
     "output_type": "execute_result"
    }
   ],
   "source": [
    "# education\n",
    "\n",
    "pd.cut(x=df_train.education_num, bins=[1, 9, 11, 20], right=False).value_counts()"
   ]
  },
  {
   "cell_type": "code",
   "execution_count": 79,
   "metadata": {},
   "outputs": [],
   "source": [
    "df_train.education_num = pd.cut(x=df_train.education_num, bins=[1, 9, 11, 20], right=False, labels=[1, 2, 3])\n",
    "df_train.education_num = df_train.education_num.astype(int)\n"
   ]
  },
  {
   "cell_type": "code",
   "execution_count": 80,
   "metadata": {},
   "outputs": [
    {
     "data": {
      "text/html": [
       "<div>\n",
       "<style scoped>\n",
       "    .dataframe tbody tr th:only-of-type {\n",
       "        vertical-align: middle;\n",
       "    }\n",
       "\n",
       "    .dataframe tbody tr th {\n",
       "        vertical-align: top;\n",
       "    }\n",
       "\n",
       "    .dataframe thead th {\n",
       "        text-align: right;\n",
       "    }\n",
       "</style>\n",
       "<table border=\"1\" class=\"dataframe\">\n",
       "  <thead>\n",
       "    <tr style=\"text-align: right;\">\n",
       "      <th></th>\n",
       "      <th>age</th>\n",
       "      <th>workclass</th>\n",
       "      <th>education</th>\n",
       "      <th>education_num</th>\n",
       "      <th>marital_status</th>\n",
       "      <th>occupation</th>\n",
       "      <th>relationship</th>\n",
       "      <th>race</th>\n",
       "      <th>sex</th>\n",
       "      <th>capital_gain</th>\n",
       "      <th>capital_loss</th>\n",
       "      <th>hours_per_week</th>\n",
       "      <th>native_country</th>\n",
       "      <th>wage_class</th>\n",
       "    </tr>\n",
       "  </thead>\n",
       "  <tbody>\n",
       "    <tr>\n",
       "      <th>0</th>\n",
       "      <td>2</td>\n",
       "      <td>State-gov</td>\n",
       "      <td>Bachelors</td>\n",
       "      <td>3</td>\n",
       "      <td>Never-married</td>\n",
       "      <td>Adm-clerical</td>\n",
       "      <td>Not-in-family</td>\n",
       "      <td>White</td>\n",
       "      <td>Male</td>\n",
       "      <td>2174</td>\n",
       "      <td>0</td>\n",
       "      <td>40</td>\n",
       "      <td>United-States</td>\n",
       "      <td>0</td>\n",
       "    </tr>\n",
       "    <tr>\n",
       "      <th>1</th>\n",
       "      <td>3</td>\n",
       "      <td>Self-emp-not-inc</td>\n",
       "      <td>Bachelors</td>\n",
       "      <td>3</td>\n",
       "      <td>Married-civ-spouse</td>\n",
       "      <td>Exec-managerial</td>\n",
       "      <td>Husband</td>\n",
       "      <td>White</td>\n",
       "      <td>Male</td>\n",
       "      <td>0</td>\n",
       "      <td>0</td>\n",
       "      <td>13</td>\n",
       "      <td>United-States</td>\n",
       "      <td>0</td>\n",
       "    </tr>\n",
       "    <tr>\n",
       "      <th>2</th>\n",
       "      <td>2</td>\n",
       "      <td>Private</td>\n",
       "      <td>HS-grad</td>\n",
       "      <td>2</td>\n",
       "      <td>Divorced</td>\n",
       "      <td>Handlers-cleaners</td>\n",
       "      <td>Not-in-family</td>\n",
       "      <td>White</td>\n",
       "      <td>Male</td>\n",
       "      <td>0</td>\n",
       "      <td>0</td>\n",
       "      <td>40</td>\n",
       "      <td>United-States</td>\n",
       "      <td>0</td>\n",
       "    </tr>\n",
       "    <tr>\n",
       "      <th>3</th>\n",
       "      <td>3</td>\n",
       "      <td>Private</td>\n",
       "      <td>11th</td>\n",
       "      <td>1</td>\n",
       "      <td>Married-civ-spouse</td>\n",
       "      <td>Handlers-cleaners</td>\n",
       "      <td>Husband</td>\n",
       "      <td>Black</td>\n",
       "      <td>Male</td>\n",
       "      <td>0</td>\n",
       "      <td>0</td>\n",
       "      <td>40</td>\n",
       "      <td>United-States</td>\n",
       "      <td>0</td>\n",
       "    </tr>\n",
       "    <tr>\n",
       "      <th>4</th>\n",
       "      <td>1</td>\n",
       "      <td>Private</td>\n",
       "      <td>Bachelors</td>\n",
       "      <td>3</td>\n",
       "      <td>Married-civ-spouse</td>\n",
       "      <td>Prof-specialty</td>\n",
       "      <td>Wife</td>\n",
       "      <td>Black</td>\n",
       "      <td>Female</td>\n",
       "      <td>0</td>\n",
       "      <td>0</td>\n",
       "      <td>40</td>\n",
       "      <td>Cuba</td>\n",
       "      <td>0</td>\n",
       "    </tr>\n",
       "  </tbody>\n",
       "</table>\n",
       "</div>"
      ],
      "text/plain": [
       "   age         workclass  education  education_num      marital_status  \\\n",
       "0    2         State-gov  Bachelors              3       Never-married   \n",
       "1    3  Self-emp-not-inc  Bachelors              3  Married-civ-spouse   \n",
       "2    2           Private    HS-grad              2            Divorced   \n",
       "3    3           Private       11th              1  Married-civ-spouse   \n",
       "4    1           Private  Bachelors              3  Married-civ-spouse   \n",
       "\n",
       "          occupation   relationship   race     sex  capital_gain  \\\n",
       "0       Adm-clerical  Not-in-family  White    Male          2174   \n",
       "1    Exec-managerial        Husband  White    Male             0   \n",
       "2  Handlers-cleaners  Not-in-family  White    Male             0   \n",
       "3  Handlers-cleaners        Husband  Black    Male             0   \n",
       "4     Prof-specialty           Wife  Black  Female             0   \n",
       "\n",
       "   capital_loss  hours_per_week native_country  wage_class  \n",
       "0             0              40  United-States           0  \n",
       "1             0              13  United-States           0  \n",
       "2             0              40  United-States           0  \n",
       "3             0              40  United-States           0  \n",
       "4             0              40           Cuba           0  "
      ]
     },
     "execution_count": 80,
     "metadata": {},
     "output_type": "execute_result"
    }
   ],
   "source": [
    "df_train.head()"
   ]
  },
  {
   "cell_type": "code",
   "execution_count": 81,
   "metadata": {},
   "outputs": [],
   "source": [
    "# education => remove\n",
    "df_train = df_train.drop('education', axis=1)"
   ]
  },
  {
   "cell_type": "code",
   "execution_count": 82,
   "metadata": {},
   "outputs": [
    {
     "data": {
      "text/html": [
       "<div>\n",
       "<style scoped>\n",
       "    .dataframe tbody tr th:only-of-type {\n",
       "        vertical-align: middle;\n",
       "    }\n",
       "\n",
       "    .dataframe tbody tr th {\n",
       "        vertical-align: top;\n",
       "    }\n",
       "\n",
       "    .dataframe thead th {\n",
       "        text-align: right;\n",
       "    }\n",
       "</style>\n",
       "<table border=\"1\" class=\"dataframe\">\n",
       "  <thead>\n",
       "    <tr style=\"text-align: right;\">\n",
       "      <th></th>\n",
       "      <th>age</th>\n",
       "      <th>workclass</th>\n",
       "      <th>education_num</th>\n",
       "      <th>marital_status</th>\n",
       "      <th>occupation</th>\n",
       "      <th>relationship</th>\n",
       "      <th>race</th>\n",
       "      <th>sex</th>\n",
       "      <th>capital_gain</th>\n",
       "      <th>capital_loss</th>\n",
       "      <th>hours_per_week</th>\n",
       "      <th>native_country</th>\n",
       "      <th>wage_class</th>\n",
       "    </tr>\n",
       "  </thead>\n",
       "  <tbody>\n",
       "    <tr>\n",
       "      <th>0</th>\n",
       "      <td>2</td>\n",
       "      <td>State-gov</td>\n",
       "      <td>3</td>\n",
       "      <td>Never-married</td>\n",
       "      <td>Adm-clerical</td>\n",
       "      <td>Not-in-family</td>\n",
       "      <td>White</td>\n",
       "      <td>Male</td>\n",
       "      <td>2174</td>\n",
       "      <td>0</td>\n",
       "      <td>40</td>\n",
       "      <td>United-States</td>\n",
       "      <td>0</td>\n",
       "    </tr>\n",
       "    <tr>\n",
       "      <th>1</th>\n",
       "      <td>3</td>\n",
       "      <td>Self-emp-not-inc</td>\n",
       "      <td>3</td>\n",
       "      <td>Married-civ-spouse</td>\n",
       "      <td>Exec-managerial</td>\n",
       "      <td>Husband</td>\n",
       "      <td>White</td>\n",
       "      <td>Male</td>\n",
       "      <td>0</td>\n",
       "      <td>0</td>\n",
       "      <td>13</td>\n",
       "      <td>United-States</td>\n",
       "      <td>0</td>\n",
       "    </tr>\n",
       "    <tr>\n",
       "      <th>2</th>\n",
       "      <td>2</td>\n",
       "      <td>Private</td>\n",
       "      <td>2</td>\n",
       "      <td>Divorced</td>\n",
       "      <td>Handlers-cleaners</td>\n",
       "      <td>Not-in-family</td>\n",
       "      <td>White</td>\n",
       "      <td>Male</td>\n",
       "      <td>0</td>\n",
       "      <td>0</td>\n",
       "      <td>40</td>\n",
       "      <td>United-States</td>\n",
       "      <td>0</td>\n",
       "    </tr>\n",
       "    <tr>\n",
       "      <th>3</th>\n",
       "      <td>3</td>\n",
       "      <td>Private</td>\n",
       "      <td>1</td>\n",
       "      <td>Married-civ-spouse</td>\n",
       "      <td>Handlers-cleaners</td>\n",
       "      <td>Husband</td>\n",
       "      <td>Black</td>\n",
       "      <td>Male</td>\n",
       "      <td>0</td>\n",
       "      <td>0</td>\n",
       "      <td>40</td>\n",
       "      <td>United-States</td>\n",
       "      <td>0</td>\n",
       "    </tr>\n",
       "    <tr>\n",
       "      <th>4</th>\n",
       "      <td>1</td>\n",
       "      <td>Private</td>\n",
       "      <td>3</td>\n",
       "      <td>Married-civ-spouse</td>\n",
       "      <td>Prof-specialty</td>\n",
       "      <td>Wife</td>\n",
       "      <td>Black</td>\n",
       "      <td>Female</td>\n",
       "      <td>0</td>\n",
       "      <td>0</td>\n",
       "      <td>40</td>\n",
       "      <td>Cuba</td>\n",
       "      <td>0</td>\n",
       "    </tr>\n",
       "  </tbody>\n",
       "</table>\n",
       "</div>"
      ],
      "text/plain": [
       "   age         workclass  education_num      marital_status  \\\n",
       "0    2         State-gov              3       Never-married   \n",
       "1    3  Self-emp-not-inc              3  Married-civ-spouse   \n",
       "2    2           Private              2            Divorced   \n",
       "3    3           Private              1  Married-civ-spouse   \n",
       "4    1           Private              3  Married-civ-spouse   \n",
       "\n",
       "          occupation   relationship   race     sex  capital_gain  \\\n",
       "0       Adm-clerical  Not-in-family  White    Male          2174   \n",
       "1    Exec-managerial        Husband  White    Male             0   \n",
       "2  Handlers-cleaners  Not-in-family  White    Male             0   \n",
       "3  Handlers-cleaners        Husband  Black    Male             0   \n",
       "4     Prof-specialty           Wife  Black  Female             0   \n",
       "\n",
       "   capital_loss  hours_per_week native_country  wage_class  \n",
       "0             0              40  United-States           0  \n",
       "1             0              13  United-States           0  \n",
       "2             0              40  United-States           0  \n",
       "3             0              40  United-States           0  \n",
       "4             0              40           Cuba           0  "
      ]
     },
     "execution_count": 82,
     "metadata": {},
     "output_type": "execute_result"
    }
   ],
   "source": [
    "df_train.head()"
   ]
  },
  {
   "cell_type": "markdown",
   "metadata": {},
   "source": [
    "## Zadanie \n",
    "* zrobić binarne enkodowanie kolumn __Capital Loss__ i __Capital Gain__ "
   ]
  },
  {
   "cell_type": "code",
   "execution_count": null,
   "metadata": {},
   "outputs": [],
   "source": []
  },
  {
   "cell_type": "code",
   "execution_count": null,
   "metadata": {},
   "outputs": [],
   "source": []
  },
  {
   "cell_type": "code",
   "execution_count": null,
   "metadata": {},
   "outputs": [],
   "source": []
  },
  {
   "cell_type": "code",
   "execution_count": 83,
   "metadata": {},
   "outputs": [],
   "source": [
    "# capital gain and loss\n",
    "\n",
    "df_train.capital_gain = df_train.capital_gain.apply(lambda x: 1 if x > 0 else 0)\n",
    "df_train.capital_loss = df_train.capital_loss.apply(lambda x: 1 if x > 0 else 0)"
   ]
  },
  {
   "cell_type": "code",
   "execution_count": 84,
   "metadata": {},
   "outputs": [
    {
     "data": {
      "text/html": [
       "<div>\n",
       "<style scoped>\n",
       "    .dataframe tbody tr th:only-of-type {\n",
       "        vertical-align: middle;\n",
       "    }\n",
       "\n",
       "    .dataframe tbody tr th {\n",
       "        vertical-align: top;\n",
       "    }\n",
       "\n",
       "    .dataframe thead th {\n",
       "        text-align: right;\n",
       "    }\n",
       "</style>\n",
       "<table border=\"1\" class=\"dataframe\">\n",
       "  <thead>\n",
       "    <tr style=\"text-align: right;\">\n",
       "      <th></th>\n",
       "      <th>age</th>\n",
       "      <th>workclass</th>\n",
       "      <th>education_num</th>\n",
       "      <th>marital_status</th>\n",
       "      <th>occupation</th>\n",
       "      <th>relationship</th>\n",
       "      <th>race</th>\n",
       "      <th>sex</th>\n",
       "      <th>capital_gain</th>\n",
       "      <th>capital_loss</th>\n",
       "      <th>hours_per_week</th>\n",
       "      <th>native_country</th>\n",
       "      <th>wage_class</th>\n",
       "    </tr>\n",
       "  </thead>\n",
       "  <tbody>\n",
       "    <tr>\n",
       "      <th>0</th>\n",
       "      <td>2</td>\n",
       "      <td>State-gov</td>\n",
       "      <td>3</td>\n",
       "      <td>Never-married</td>\n",
       "      <td>Adm-clerical</td>\n",
       "      <td>Not-in-family</td>\n",
       "      <td>White</td>\n",
       "      <td>Male</td>\n",
       "      <td>1</td>\n",
       "      <td>0</td>\n",
       "      <td>40</td>\n",
       "      <td>United-States</td>\n",
       "      <td>0</td>\n",
       "    </tr>\n",
       "    <tr>\n",
       "      <th>1</th>\n",
       "      <td>3</td>\n",
       "      <td>Self-emp-not-inc</td>\n",
       "      <td>3</td>\n",
       "      <td>Married-civ-spouse</td>\n",
       "      <td>Exec-managerial</td>\n",
       "      <td>Husband</td>\n",
       "      <td>White</td>\n",
       "      <td>Male</td>\n",
       "      <td>0</td>\n",
       "      <td>0</td>\n",
       "      <td>13</td>\n",
       "      <td>United-States</td>\n",
       "      <td>0</td>\n",
       "    </tr>\n",
       "    <tr>\n",
       "      <th>2</th>\n",
       "      <td>2</td>\n",
       "      <td>Private</td>\n",
       "      <td>2</td>\n",
       "      <td>Divorced</td>\n",
       "      <td>Handlers-cleaners</td>\n",
       "      <td>Not-in-family</td>\n",
       "      <td>White</td>\n",
       "      <td>Male</td>\n",
       "      <td>0</td>\n",
       "      <td>0</td>\n",
       "      <td>40</td>\n",
       "      <td>United-States</td>\n",
       "      <td>0</td>\n",
       "    </tr>\n",
       "    <tr>\n",
       "      <th>3</th>\n",
       "      <td>3</td>\n",
       "      <td>Private</td>\n",
       "      <td>1</td>\n",
       "      <td>Married-civ-spouse</td>\n",
       "      <td>Handlers-cleaners</td>\n",
       "      <td>Husband</td>\n",
       "      <td>Black</td>\n",
       "      <td>Male</td>\n",
       "      <td>0</td>\n",
       "      <td>0</td>\n",
       "      <td>40</td>\n",
       "      <td>United-States</td>\n",
       "      <td>0</td>\n",
       "    </tr>\n",
       "    <tr>\n",
       "      <th>4</th>\n",
       "      <td>1</td>\n",
       "      <td>Private</td>\n",
       "      <td>3</td>\n",
       "      <td>Married-civ-spouse</td>\n",
       "      <td>Prof-specialty</td>\n",
       "      <td>Wife</td>\n",
       "      <td>Black</td>\n",
       "      <td>Female</td>\n",
       "      <td>0</td>\n",
       "      <td>0</td>\n",
       "      <td>40</td>\n",
       "      <td>Cuba</td>\n",
       "      <td>0</td>\n",
       "    </tr>\n",
       "  </tbody>\n",
       "</table>\n",
       "</div>"
      ],
      "text/plain": [
       "   age         workclass  education_num      marital_status  \\\n",
       "0    2         State-gov              3       Never-married   \n",
       "1    3  Self-emp-not-inc              3  Married-civ-spouse   \n",
       "2    2           Private              2            Divorced   \n",
       "3    3           Private              1  Married-civ-spouse   \n",
       "4    1           Private              3  Married-civ-spouse   \n",
       "\n",
       "          occupation   relationship   race     sex  capital_gain  \\\n",
       "0       Adm-clerical  Not-in-family  White    Male             1   \n",
       "1    Exec-managerial        Husband  White    Male             0   \n",
       "2  Handlers-cleaners  Not-in-family  White    Male             0   \n",
       "3  Handlers-cleaners        Husband  Black    Male             0   \n",
       "4     Prof-specialty           Wife  Black  Female             0   \n",
       "\n",
       "   capital_loss  hours_per_week native_country  wage_class  \n",
       "0             0              40  United-States           0  \n",
       "1             0              13  United-States           0  \n",
       "2             0              40  United-States           0  \n",
       "3             0              40  United-States           0  \n",
       "4             0              40           Cuba           0  "
      ]
     },
     "execution_count": 84,
     "metadata": {},
     "output_type": "execute_result"
    }
   ],
   "source": [
    "df_train.head()"
   ]
  },
  {
   "cell_type": "markdown",
   "metadata": {},
   "source": [
    "## Zadanie \n",
    "* zrobić binning dla ilości godzin pracy\n",
    "* przedziały: <40; 40; >40\n",
    "* jak przedstawić jeden punkt (40), a nie przedział?"
   ]
  },
  {
   "cell_type": "code",
   "execution_count": null,
   "metadata": {},
   "outputs": [],
   "source": []
  },
  {
   "cell_type": "code",
   "execution_count": null,
   "metadata": {},
   "outputs": [],
   "source": []
  },
  {
   "cell_type": "code",
   "execution_count": null,
   "metadata": {},
   "outputs": [],
   "source": []
  },
  {
   "cell_type": "code",
   "execution_count": 85,
   "metadata": {},
   "outputs": [
    {
     "data": {
      "text/plain": [
       "[39.9, 40.1)     14251\n",
       "[40.1, 100.0)     9197\n",
       "[0.0, 39.9)       6714\n",
       "Name: hours_per_week, dtype: int64"
      ]
     },
     "execution_count": 85,
     "metadata": {},
     "output_type": "execute_result"
    }
   ],
   "source": [
    "# hours per week\n",
    "\n",
    "pd.cut(x=df_train.hours_per_week, bins=[0, 39.9, 40.1, 100], right=False).value_counts()"
   ]
  },
  {
   "cell_type": "code",
   "execution_count": 86,
   "metadata": {},
   "outputs": [],
   "source": [
    "df_train.hours_per_week = pd.cut(x=df_train.hours_per_week, bins=[0, 39.9, 40.1, 100], right=False, labels=[1, 2, 3])\n",
    "df_train.hours_per_week = df_train.hours_per_week.astype(int)"
   ]
  },
  {
   "cell_type": "code",
   "execution_count": 87,
   "metadata": {},
   "outputs": [
    {
     "data": {
      "text/html": [
       "<div>\n",
       "<style scoped>\n",
       "    .dataframe tbody tr th:only-of-type {\n",
       "        vertical-align: middle;\n",
       "    }\n",
       "\n",
       "    .dataframe tbody tr th {\n",
       "        vertical-align: top;\n",
       "    }\n",
       "\n",
       "    .dataframe thead th {\n",
       "        text-align: right;\n",
       "    }\n",
       "</style>\n",
       "<table border=\"1\" class=\"dataframe\">\n",
       "  <thead>\n",
       "    <tr style=\"text-align: right;\">\n",
       "      <th></th>\n",
       "      <th>0</th>\n",
       "      <th>1</th>\n",
       "      <th>2</th>\n",
       "      <th>3</th>\n",
       "      <th>4</th>\n",
       "      <th>5</th>\n",
       "      <th>6</th>\n",
       "      <th>7</th>\n",
       "      <th>8</th>\n",
       "    </tr>\n",
       "  </thead>\n",
       "  <tbody>\n",
       "    <tr>\n",
       "      <th>0</th>\n",
       "      <td>6</td>\n",
       "      <td>148</td>\n",
       "      <td>72</td>\n",
       "      <td>35</td>\n",
       "      <td>0</td>\n",
       "      <td>33.6</td>\n",
       "      <td>0.627</td>\n",
       "      <td>50</td>\n",
       "      <td>1</td>\n",
       "    </tr>\n",
       "    <tr>\n",
       "      <th>1</th>\n",
       "      <td>1</td>\n",
       "      <td>85</td>\n",
       "      <td>66</td>\n",
       "      <td>29</td>\n",
       "      <td>0</td>\n",
       "      <td>26.6</td>\n",
       "      <td>0.351</td>\n",
       "      <td>31</td>\n",
       "      <td>0</td>\n",
       "    </tr>\n",
       "    <tr>\n",
       "      <th>2</th>\n",
       "      <td>8</td>\n",
       "      <td>183</td>\n",
       "      <td>64</td>\n",
       "      <td>0</td>\n",
       "      <td>0</td>\n",
       "      <td>23.3</td>\n",
       "      <td>0.672</td>\n",
       "      <td>32</td>\n",
       "      <td>1</td>\n",
       "    </tr>\n",
       "    <tr>\n",
       "      <th>3</th>\n",
       "      <td>1</td>\n",
       "      <td>89</td>\n",
       "      <td>66</td>\n",
       "      <td>23</td>\n",
       "      <td>94</td>\n",
       "      <td>28.1</td>\n",
       "      <td>0.167</td>\n",
       "      <td>21</td>\n",
       "      <td>0</td>\n",
       "    </tr>\n",
       "    <tr>\n",
       "      <th>4</th>\n",
       "      <td>0</td>\n",
       "      <td>137</td>\n",
       "      <td>40</td>\n",
       "      <td>35</td>\n",
       "      <td>168</td>\n",
       "      <td>43.1</td>\n",
       "      <td>2.288</td>\n",
       "      <td>33</td>\n",
       "      <td>1</td>\n",
       "    </tr>\n",
       "  </tbody>\n",
       "</table>\n",
       "</div>"
      ],
      "text/plain": [
       "   0    1   2   3    4     5      6   7  8\n",
       "0  6  148  72  35    0  33.6  0.627  50  1\n",
       "1  1   85  66  29    0  26.6  0.351  31  0\n",
       "2  8  183  64   0    0  23.3  0.672  32  1\n",
       "3  1   89  66  23   94  28.1  0.167  21  0\n",
       "4  0  137  40  35  168  43.1  2.288  33  1"
      ]
     },
     "execution_count": 87,
     "metadata": {},
     "output_type": "execute_result"
    }
   ],
   "source": [
    "df.head()"
   ]
  },
  {
   "cell_type": "markdown",
   "metadata": {},
   "source": [
    "### Transform categorical columns\n",
    "* workclass => map using workclass_d\n",
    "* education => remove but number of years split into 3 groups (1-8, 9-10, 11-16)\n",
    "* marital_status => {married, never-married, other}\n",
    "* occupation => map using occupation_d\n",
    "* relationship => map to {has_child, no} or drop\n",
    "* race => make binary (white or not)\n",
    "* sex => binary (0=male, 1=female)\n",
    "* native_coutry => make binary (US or not)\n",
    "* wage class => target, to be predicted"
   ]
  },
  {
   "cell_type": "code",
   "execution_count": 88,
   "metadata": {},
   "outputs": [],
   "source": [
    "df_train.workclass = df_train.workclass.map(workclass_d)"
   ]
  },
  {
   "cell_type": "code",
   "execution_count": 89,
   "metadata": {},
   "outputs": [
    {
     "data": {
      "text/html": [
       "<div>\n",
       "<style scoped>\n",
       "    .dataframe tbody tr th:only-of-type {\n",
       "        vertical-align: middle;\n",
       "    }\n",
       "\n",
       "    .dataframe tbody tr th {\n",
       "        vertical-align: top;\n",
       "    }\n",
       "\n",
       "    .dataframe thead th {\n",
       "        text-align: right;\n",
       "    }\n",
       "</style>\n",
       "<table border=\"1\" class=\"dataframe\">\n",
       "  <thead>\n",
       "    <tr style=\"text-align: right;\">\n",
       "      <th></th>\n",
       "      <th>age</th>\n",
       "      <th>workclass</th>\n",
       "      <th>education_num</th>\n",
       "      <th>marital_status</th>\n",
       "      <th>occupation</th>\n",
       "      <th>relationship</th>\n",
       "      <th>race</th>\n",
       "      <th>sex</th>\n",
       "      <th>capital_gain</th>\n",
       "      <th>capital_loss</th>\n",
       "      <th>hours_per_week</th>\n",
       "      <th>native_country</th>\n",
       "      <th>wage_class</th>\n",
       "    </tr>\n",
       "  </thead>\n",
       "  <tbody>\n",
       "    <tr>\n",
       "      <th>0</th>\n",
       "      <td>2</td>\n",
       "      <td>3</td>\n",
       "      <td>3</td>\n",
       "      <td>Never-married</td>\n",
       "      <td>Adm-clerical</td>\n",
       "      <td>Not-in-family</td>\n",
       "      <td>White</td>\n",
       "      <td>Male</td>\n",
       "      <td>1</td>\n",
       "      <td>0</td>\n",
       "      <td>2</td>\n",
       "      <td>United-States</td>\n",
       "      <td>0</td>\n",
       "    </tr>\n",
       "    <tr>\n",
       "      <th>1</th>\n",
       "      <td>3</td>\n",
       "      <td>3</td>\n",
       "      <td>3</td>\n",
       "      <td>Married-civ-spouse</td>\n",
       "      <td>Exec-managerial</td>\n",
       "      <td>Husband</td>\n",
       "      <td>White</td>\n",
       "      <td>Male</td>\n",
       "      <td>0</td>\n",
       "      <td>0</td>\n",
       "      <td>1</td>\n",
       "      <td>United-States</td>\n",
       "      <td>0</td>\n",
       "    </tr>\n",
       "  </tbody>\n",
       "</table>\n",
       "</div>"
      ],
      "text/plain": [
       "   age  workclass  education_num      marital_status       occupation  \\\n",
       "0    2          3              3       Never-married     Adm-clerical   \n",
       "1    3          3              3  Married-civ-spouse  Exec-managerial   \n",
       "\n",
       "    relationship   race   sex  capital_gain  capital_loss  hours_per_week  \\\n",
       "0  Not-in-family  White  Male             1             0               2   \n",
       "1        Husband  White  Male             0             0               1   \n",
       "\n",
       "  native_country  wage_class  \n",
       "0  United-States           0  \n",
       "1  United-States           0  "
      ]
     },
     "execution_count": 89,
     "metadata": {},
     "output_type": "execute_result"
    }
   ],
   "source": [
    "df_train.head(2)"
   ]
  },
  {
   "cell_type": "code",
   "execution_count": 90,
   "metadata": {},
   "outputs": [],
   "source": [
    "def map_marital_status(x):\n",
    "    if x not in ['Married-civ-spouse', 'Never-married']:\n",
    "        return 'Other'\n",
    "    else:\n",
    "        return x"
   ]
  },
  {
   "cell_type": "code",
   "execution_count": 91,
   "metadata": {},
   "outputs": [],
   "source": [
    "df_train.marital_status = df_train.marital_status.apply(lambda x: map_marital_status(x))"
   ]
  },
  {
   "cell_type": "code",
   "execution_count": 92,
   "metadata": {},
   "outputs": [
    {
     "data": {
      "text/html": [
       "<div>\n",
       "<style scoped>\n",
       "    .dataframe tbody tr th:only-of-type {\n",
       "        vertical-align: middle;\n",
       "    }\n",
       "\n",
       "    .dataframe tbody tr th {\n",
       "        vertical-align: top;\n",
       "    }\n",
       "\n",
       "    .dataframe thead th {\n",
       "        text-align: right;\n",
       "    }\n",
       "</style>\n",
       "<table border=\"1\" class=\"dataframe\">\n",
       "  <thead>\n",
       "    <tr style=\"text-align: right;\">\n",
       "      <th></th>\n",
       "      <th>age</th>\n",
       "      <th>workclass</th>\n",
       "      <th>education_num</th>\n",
       "      <th>marital_status</th>\n",
       "      <th>occupation</th>\n",
       "      <th>relationship</th>\n",
       "      <th>race</th>\n",
       "      <th>sex</th>\n",
       "      <th>capital_gain</th>\n",
       "      <th>capital_loss</th>\n",
       "      <th>hours_per_week</th>\n",
       "      <th>native_country</th>\n",
       "      <th>wage_class</th>\n",
       "    </tr>\n",
       "  </thead>\n",
       "  <tbody>\n",
       "    <tr>\n",
       "      <th>0</th>\n",
       "      <td>2</td>\n",
       "      <td>3</td>\n",
       "      <td>3</td>\n",
       "      <td>Never-married</td>\n",
       "      <td>Adm-clerical</td>\n",
       "      <td>Not-in-family</td>\n",
       "      <td>White</td>\n",
       "      <td>Male</td>\n",
       "      <td>1</td>\n",
       "      <td>0</td>\n",
       "      <td>2</td>\n",
       "      <td>United-States</td>\n",
       "      <td>0</td>\n",
       "    </tr>\n",
       "    <tr>\n",
       "      <th>1</th>\n",
       "      <td>3</td>\n",
       "      <td>3</td>\n",
       "      <td>3</td>\n",
       "      <td>Married-civ-spouse</td>\n",
       "      <td>Exec-managerial</td>\n",
       "      <td>Husband</td>\n",
       "      <td>White</td>\n",
       "      <td>Male</td>\n",
       "      <td>0</td>\n",
       "      <td>0</td>\n",
       "      <td>1</td>\n",
       "      <td>United-States</td>\n",
       "      <td>0</td>\n",
       "    </tr>\n",
       "    <tr>\n",
       "      <th>2</th>\n",
       "      <td>2</td>\n",
       "      <td>2</td>\n",
       "      <td>2</td>\n",
       "      <td>Other</td>\n",
       "      <td>Handlers-cleaners</td>\n",
       "      <td>Not-in-family</td>\n",
       "      <td>White</td>\n",
       "      <td>Male</td>\n",
       "      <td>0</td>\n",
       "      <td>0</td>\n",
       "      <td>2</td>\n",
       "      <td>United-States</td>\n",
       "      <td>0</td>\n",
       "    </tr>\n",
       "    <tr>\n",
       "      <th>3</th>\n",
       "      <td>3</td>\n",
       "      <td>2</td>\n",
       "      <td>1</td>\n",
       "      <td>Married-civ-spouse</td>\n",
       "      <td>Handlers-cleaners</td>\n",
       "      <td>Husband</td>\n",
       "      <td>Black</td>\n",
       "      <td>Male</td>\n",
       "      <td>0</td>\n",
       "      <td>0</td>\n",
       "      <td>2</td>\n",
       "      <td>United-States</td>\n",
       "      <td>0</td>\n",
       "    </tr>\n",
       "    <tr>\n",
       "      <th>4</th>\n",
       "      <td>1</td>\n",
       "      <td>2</td>\n",
       "      <td>3</td>\n",
       "      <td>Married-civ-spouse</td>\n",
       "      <td>Prof-specialty</td>\n",
       "      <td>Wife</td>\n",
       "      <td>Black</td>\n",
       "      <td>Female</td>\n",
       "      <td>0</td>\n",
       "      <td>0</td>\n",
       "      <td>2</td>\n",
       "      <td>Cuba</td>\n",
       "      <td>0</td>\n",
       "    </tr>\n",
       "  </tbody>\n",
       "</table>\n",
       "</div>"
      ],
      "text/plain": [
       "   age  workclass  education_num      marital_status         occupation  \\\n",
       "0    2          3              3       Never-married       Adm-clerical   \n",
       "1    3          3              3  Married-civ-spouse    Exec-managerial   \n",
       "2    2          2              2               Other  Handlers-cleaners   \n",
       "3    3          2              1  Married-civ-spouse  Handlers-cleaners   \n",
       "4    1          2              3  Married-civ-spouse     Prof-specialty   \n",
       "\n",
       "    relationship   race     sex  capital_gain  capital_loss  hours_per_week  \\\n",
       "0  Not-in-family  White    Male             1             0               2   \n",
       "1        Husband  White    Male             0             0               1   \n",
       "2  Not-in-family  White    Male             0             0               2   \n",
       "3        Husband  Black    Male             0             0               2   \n",
       "4           Wife  Black  Female             0             0               2   \n",
       "\n",
       "  native_country  wage_class  \n",
       "0  United-States           0  \n",
       "1  United-States           0  \n",
       "2  United-States           0  \n",
       "3  United-States           0  \n",
       "4           Cuba           0  "
      ]
     },
     "execution_count": 92,
     "metadata": {},
     "output_type": "execute_result"
    }
   ],
   "source": [
    "df_train.head()"
   ]
  },
  {
   "cell_type": "markdown",
   "metadata": {},
   "source": [
    "## Zadanie\n",
    "* zrobić enkodowanie kolumny Occupation\n",
    "* zrobić kolumny do postaci binarnej -> Relationship, Sex, Race, Native Country "
   ]
  },
  {
   "cell_type": "code",
   "execution_count": null,
   "metadata": {},
   "outputs": [],
   "source": []
  },
  {
   "cell_type": "code",
   "execution_count": null,
   "metadata": {},
   "outputs": [],
   "source": []
  },
  {
   "cell_type": "code",
   "execution_count": null,
   "metadata": {},
   "outputs": [],
   "source": []
  },
  {
   "cell_type": "code",
   "execution_count": 93,
   "metadata": {},
   "outputs": [],
   "source": [
    "# occupation\n",
    "df_train.occupation = df_train.occupation.map(occupation_d)"
   ]
  },
  {
   "cell_type": "code",
   "execution_count": 94,
   "metadata": {},
   "outputs": [
    {
     "data": {
      "text/html": [
       "<div>\n",
       "<style scoped>\n",
       "    .dataframe tbody tr th:only-of-type {\n",
       "        vertical-align: middle;\n",
       "    }\n",
       "\n",
       "    .dataframe tbody tr th {\n",
       "        vertical-align: top;\n",
       "    }\n",
       "\n",
       "    .dataframe thead th {\n",
       "        text-align: right;\n",
       "    }\n",
       "</style>\n",
       "<table border=\"1\" class=\"dataframe\">\n",
       "  <thead>\n",
       "    <tr style=\"text-align: right;\">\n",
       "      <th></th>\n",
       "      <th>age</th>\n",
       "      <th>workclass</th>\n",
       "      <th>education_num</th>\n",
       "      <th>marital_status</th>\n",
       "      <th>occupation</th>\n",
       "      <th>relationship</th>\n",
       "      <th>race</th>\n",
       "      <th>sex</th>\n",
       "      <th>capital_gain</th>\n",
       "      <th>capital_loss</th>\n",
       "      <th>hours_per_week</th>\n",
       "      <th>native_country</th>\n",
       "      <th>wage_class</th>\n",
       "    </tr>\n",
       "  </thead>\n",
       "  <tbody>\n",
       "    <tr>\n",
       "      <th>0</th>\n",
       "      <td>2</td>\n",
       "      <td>3</td>\n",
       "      <td>3</td>\n",
       "      <td>Never-married</td>\n",
       "      <td>0</td>\n",
       "      <td>Not-in-family</td>\n",
       "      <td>White</td>\n",
       "      <td>Male</td>\n",
       "      <td>1</td>\n",
       "      <td>0</td>\n",
       "      <td>2</td>\n",
       "      <td>United-States</td>\n",
       "      <td>0</td>\n",
       "    </tr>\n",
       "    <tr>\n",
       "      <th>1</th>\n",
       "      <td>3</td>\n",
       "      <td>3</td>\n",
       "      <td>3</td>\n",
       "      <td>Married-civ-spouse</td>\n",
       "      <td>0</td>\n",
       "      <td>Husband</td>\n",
       "      <td>White</td>\n",
       "      <td>Male</td>\n",
       "      <td>0</td>\n",
       "      <td>0</td>\n",
       "      <td>1</td>\n",
       "      <td>United-States</td>\n",
       "      <td>0</td>\n",
       "    </tr>\n",
       "    <tr>\n",
       "      <th>2</th>\n",
       "      <td>2</td>\n",
       "      <td>2</td>\n",
       "      <td>2</td>\n",
       "      <td>Other</td>\n",
       "      <td>0</td>\n",
       "      <td>Not-in-family</td>\n",
       "      <td>White</td>\n",
       "      <td>Male</td>\n",
       "      <td>0</td>\n",
       "      <td>0</td>\n",
       "      <td>2</td>\n",
       "      <td>United-States</td>\n",
       "      <td>0</td>\n",
       "    </tr>\n",
       "    <tr>\n",
       "      <th>3</th>\n",
       "      <td>3</td>\n",
       "      <td>2</td>\n",
       "      <td>1</td>\n",
       "      <td>Married-civ-spouse</td>\n",
       "      <td>0</td>\n",
       "      <td>Husband</td>\n",
       "      <td>Black</td>\n",
       "      <td>Male</td>\n",
       "      <td>0</td>\n",
       "      <td>0</td>\n",
       "      <td>2</td>\n",
       "      <td>United-States</td>\n",
       "      <td>0</td>\n",
       "    </tr>\n",
       "    <tr>\n",
       "      <th>4</th>\n",
       "      <td>1</td>\n",
       "      <td>2</td>\n",
       "      <td>3</td>\n",
       "      <td>Married-civ-spouse</td>\n",
       "      <td>0</td>\n",
       "      <td>Wife</td>\n",
       "      <td>Black</td>\n",
       "      <td>Female</td>\n",
       "      <td>0</td>\n",
       "      <td>0</td>\n",
       "      <td>2</td>\n",
       "      <td>Cuba</td>\n",
       "      <td>0</td>\n",
       "    </tr>\n",
       "  </tbody>\n",
       "</table>\n",
       "</div>"
      ],
      "text/plain": [
       "   age  workclass  education_num      marital_status  occupation  \\\n",
       "0    2          3              3       Never-married           0   \n",
       "1    3          3              3  Married-civ-spouse           0   \n",
       "2    2          2              2               Other           0   \n",
       "3    3          2              1  Married-civ-spouse           0   \n",
       "4    1          2              3  Married-civ-spouse           0   \n",
       "\n",
       "    relationship   race     sex  capital_gain  capital_loss  hours_per_week  \\\n",
       "0  Not-in-family  White    Male             1             0               2   \n",
       "1        Husband  White    Male             0             0               1   \n",
       "2  Not-in-family  White    Male             0             0               2   \n",
       "3        Husband  Black    Male             0             0               2   \n",
       "4           Wife  Black  Female             0             0               2   \n",
       "\n",
       "  native_country  wage_class  \n",
       "0  United-States           0  \n",
       "1  United-States           0  \n",
       "2  United-States           0  \n",
       "3  United-States           0  \n",
       "4           Cuba           0  "
      ]
     },
     "execution_count": 94,
     "metadata": {},
     "output_type": "execute_result"
    }
   ],
   "source": [
    "df_train.head()"
   ]
  },
  {
   "cell_type": "code",
   "execution_count": 95,
   "metadata": {},
   "outputs": [
    {
     "data": {
      "text/plain": [
       "array(['Not-in-family', 'Husband', 'Wife', 'Own-child', 'Unmarried',\n",
       "       'Other-relative'], dtype=object)"
      ]
     },
     "execution_count": 95,
     "metadata": {},
     "output_type": "execute_result"
    }
   ],
   "source": [
    "df_train.relationship.unique()"
   ]
  },
  {
   "cell_type": "code",
   "execution_count": 96,
   "metadata": {},
   "outputs": [],
   "source": [
    "# relationship\n",
    "\n",
    "df_train.relationship = df_train.relationship.apply(lambda x: 1 if x=='Own-child' else 0)"
   ]
  },
  {
   "cell_type": "code",
   "execution_count": 97,
   "metadata": {},
   "outputs": [
    {
     "data": {
      "text/html": [
       "<div>\n",
       "<style scoped>\n",
       "    .dataframe tbody tr th:only-of-type {\n",
       "        vertical-align: middle;\n",
       "    }\n",
       "\n",
       "    .dataframe tbody tr th {\n",
       "        vertical-align: top;\n",
       "    }\n",
       "\n",
       "    .dataframe thead th {\n",
       "        text-align: right;\n",
       "    }\n",
       "</style>\n",
       "<table border=\"1\" class=\"dataframe\">\n",
       "  <thead>\n",
       "    <tr style=\"text-align: right;\">\n",
       "      <th></th>\n",
       "      <th>age</th>\n",
       "      <th>workclass</th>\n",
       "      <th>education_num</th>\n",
       "      <th>marital_status</th>\n",
       "      <th>occupation</th>\n",
       "      <th>relationship</th>\n",
       "      <th>race</th>\n",
       "      <th>sex</th>\n",
       "      <th>capital_gain</th>\n",
       "      <th>capital_loss</th>\n",
       "      <th>hours_per_week</th>\n",
       "      <th>native_country</th>\n",
       "      <th>wage_class</th>\n",
       "    </tr>\n",
       "  </thead>\n",
       "  <tbody>\n",
       "    <tr>\n",
       "      <th>0</th>\n",
       "      <td>2</td>\n",
       "      <td>3</td>\n",
       "      <td>3</td>\n",
       "      <td>Never-married</td>\n",
       "      <td>0</td>\n",
       "      <td>0</td>\n",
       "      <td>White</td>\n",
       "      <td>Male</td>\n",
       "      <td>1</td>\n",
       "      <td>0</td>\n",
       "      <td>2</td>\n",
       "      <td>United-States</td>\n",
       "      <td>0</td>\n",
       "    </tr>\n",
       "    <tr>\n",
       "      <th>1</th>\n",
       "      <td>3</td>\n",
       "      <td>3</td>\n",
       "      <td>3</td>\n",
       "      <td>Married-civ-spouse</td>\n",
       "      <td>0</td>\n",
       "      <td>0</td>\n",
       "      <td>White</td>\n",
       "      <td>Male</td>\n",
       "      <td>0</td>\n",
       "      <td>0</td>\n",
       "      <td>1</td>\n",
       "      <td>United-States</td>\n",
       "      <td>0</td>\n",
       "    </tr>\n",
       "    <tr>\n",
       "      <th>2</th>\n",
       "      <td>2</td>\n",
       "      <td>2</td>\n",
       "      <td>2</td>\n",
       "      <td>Other</td>\n",
       "      <td>0</td>\n",
       "      <td>0</td>\n",
       "      <td>White</td>\n",
       "      <td>Male</td>\n",
       "      <td>0</td>\n",
       "      <td>0</td>\n",
       "      <td>2</td>\n",
       "      <td>United-States</td>\n",
       "      <td>0</td>\n",
       "    </tr>\n",
       "    <tr>\n",
       "      <th>3</th>\n",
       "      <td>3</td>\n",
       "      <td>2</td>\n",
       "      <td>1</td>\n",
       "      <td>Married-civ-spouse</td>\n",
       "      <td>0</td>\n",
       "      <td>0</td>\n",
       "      <td>Black</td>\n",
       "      <td>Male</td>\n",
       "      <td>0</td>\n",
       "      <td>0</td>\n",
       "      <td>2</td>\n",
       "      <td>United-States</td>\n",
       "      <td>0</td>\n",
       "    </tr>\n",
       "    <tr>\n",
       "      <th>4</th>\n",
       "      <td>1</td>\n",
       "      <td>2</td>\n",
       "      <td>3</td>\n",
       "      <td>Married-civ-spouse</td>\n",
       "      <td>0</td>\n",
       "      <td>0</td>\n",
       "      <td>Black</td>\n",
       "      <td>Female</td>\n",
       "      <td>0</td>\n",
       "      <td>0</td>\n",
       "      <td>2</td>\n",
       "      <td>Cuba</td>\n",
       "      <td>0</td>\n",
       "    </tr>\n",
       "  </tbody>\n",
       "</table>\n",
       "</div>"
      ],
      "text/plain": [
       "   age  workclass  education_num      marital_status  occupation  \\\n",
       "0    2          3              3       Never-married           0   \n",
       "1    3          3              3  Married-civ-spouse           0   \n",
       "2    2          2              2               Other           0   \n",
       "3    3          2              1  Married-civ-spouse           0   \n",
       "4    1          2              3  Married-civ-spouse           0   \n",
       "\n",
       "   relationship   race     sex  capital_gain  capital_loss  hours_per_week  \\\n",
       "0             0  White    Male             1             0               2   \n",
       "1             0  White    Male             0             0               1   \n",
       "2             0  White    Male             0             0               2   \n",
       "3             0  Black    Male             0             0               2   \n",
       "4             0  Black  Female             0             0               2   \n",
       "\n",
       "  native_country  wage_class  \n",
       "0  United-States           0  \n",
       "1  United-States           0  \n",
       "2  United-States           0  \n",
       "3  United-States           0  \n",
       "4           Cuba           0  "
      ]
     },
     "execution_count": 97,
     "metadata": {},
     "output_type": "execute_result"
    }
   ],
   "source": [
    "df_train.head()"
   ]
  },
  {
   "cell_type": "code",
   "execution_count": 98,
   "metadata": {},
   "outputs": [],
   "source": [
    "df_train.race = df_train.race.apply(lambda x: 1 if x=='White' else 0)"
   ]
  },
  {
   "cell_type": "code",
   "execution_count": 99,
   "metadata": {},
   "outputs": [
    {
     "data": {
      "text/html": [
       "<div>\n",
       "<style scoped>\n",
       "    .dataframe tbody tr th:only-of-type {\n",
       "        vertical-align: middle;\n",
       "    }\n",
       "\n",
       "    .dataframe tbody tr th {\n",
       "        vertical-align: top;\n",
       "    }\n",
       "\n",
       "    .dataframe thead th {\n",
       "        text-align: right;\n",
       "    }\n",
       "</style>\n",
       "<table border=\"1\" class=\"dataframe\">\n",
       "  <thead>\n",
       "    <tr style=\"text-align: right;\">\n",
       "      <th></th>\n",
       "      <th>age</th>\n",
       "      <th>workclass</th>\n",
       "      <th>education_num</th>\n",
       "      <th>marital_status</th>\n",
       "      <th>occupation</th>\n",
       "      <th>relationship</th>\n",
       "      <th>race</th>\n",
       "      <th>sex</th>\n",
       "      <th>capital_gain</th>\n",
       "      <th>capital_loss</th>\n",
       "      <th>hours_per_week</th>\n",
       "      <th>native_country</th>\n",
       "      <th>wage_class</th>\n",
       "    </tr>\n",
       "  </thead>\n",
       "  <tbody>\n",
       "    <tr>\n",
       "      <th>0</th>\n",
       "      <td>2</td>\n",
       "      <td>3</td>\n",
       "      <td>3</td>\n",
       "      <td>Never-married</td>\n",
       "      <td>0</td>\n",
       "      <td>0</td>\n",
       "      <td>1</td>\n",
       "      <td>Male</td>\n",
       "      <td>1</td>\n",
       "      <td>0</td>\n",
       "      <td>2</td>\n",
       "      <td>United-States</td>\n",
       "      <td>0</td>\n",
       "    </tr>\n",
       "    <tr>\n",
       "      <th>1</th>\n",
       "      <td>3</td>\n",
       "      <td>3</td>\n",
       "      <td>3</td>\n",
       "      <td>Married-civ-spouse</td>\n",
       "      <td>0</td>\n",
       "      <td>0</td>\n",
       "      <td>1</td>\n",
       "      <td>Male</td>\n",
       "      <td>0</td>\n",
       "      <td>0</td>\n",
       "      <td>1</td>\n",
       "      <td>United-States</td>\n",
       "      <td>0</td>\n",
       "    </tr>\n",
       "    <tr>\n",
       "      <th>2</th>\n",
       "      <td>2</td>\n",
       "      <td>2</td>\n",
       "      <td>2</td>\n",
       "      <td>Other</td>\n",
       "      <td>0</td>\n",
       "      <td>0</td>\n",
       "      <td>1</td>\n",
       "      <td>Male</td>\n",
       "      <td>0</td>\n",
       "      <td>0</td>\n",
       "      <td>2</td>\n",
       "      <td>United-States</td>\n",
       "      <td>0</td>\n",
       "    </tr>\n",
       "    <tr>\n",
       "      <th>3</th>\n",
       "      <td>3</td>\n",
       "      <td>2</td>\n",
       "      <td>1</td>\n",
       "      <td>Married-civ-spouse</td>\n",
       "      <td>0</td>\n",
       "      <td>0</td>\n",
       "      <td>0</td>\n",
       "      <td>Male</td>\n",
       "      <td>0</td>\n",
       "      <td>0</td>\n",
       "      <td>2</td>\n",
       "      <td>United-States</td>\n",
       "      <td>0</td>\n",
       "    </tr>\n",
       "    <tr>\n",
       "      <th>4</th>\n",
       "      <td>1</td>\n",
       "      <td>2</td>\n",
       "      <td>3</td>\n",
       "      <td>Married-civ-spouse</td>\n",
       "      <td>0</td>\n",
       "      <td>0</td>\n",
       "      <td>0</td>\n",
       "      <td>Female</td>\n",
       "      <td>0</td>\n",
       "      <td>0</td>\n",
       "      <td>2</td>\n",
       "      <td>Cuba</td>\n",
       "      <td>0</td>\n",
       "    </tr>\n",
       "  </tbody>\n",
       "</table>\n",
       "</div>"
      ],
      "text/plain": [
       "   age  workclass  education_num      marital_status  occupation  \\\n",
       "0    2          3              3       Never-married           0   \n",
       "1    3          3              3  Married-civ-spouse           0   \n",
       "2    2          2              2               Other           0   \n",
       "3    3          2              1  Married-civ-spouse           0   \n",
       "4    1          2              3  Married-civ-spouse           0   \n",
       "\n",
       "   relationship  race     sex  capital_gain  capital_loss  hours_per_week  \\\n",
       "0             0     1    Male             1             0               2   \n",
       "1             0     1    Male             0             0               1   \n",
       "2             0     1    Male             0             0               2   \n",
       "3             0     0    Male             0             0               2   \n",
       "4             0     0  Female             0             0               2   \n",
       "\n",
       "  native_country  wage_class  \n",
       "0  United-States           0  \n",
       "1  United-States           0  \n",
       "2  United-States           0  \n",
       "3  United-States           0  \n",
       "4           Cuba           0  "
      ]
     },
     "execution_count": 99,
     "metadata": {},
     "output_type": "execute_result"
    }
   ],
   "source": [
    "df_train.head()"
   ]
  },
  {
   "cell_type": "code",
   "execution_count": 100,
   "metadata": {},
   "outputs": [],
   "source": [
    "df_train.sex = df_train.sex.apply(lambda x: 1 if x=='Female' else 0)"
   ]
  },
  {
   "cell_type": "code",
   "execution_count": 101,
   "metadata": {},
   "outputs": [
    {
     "data": {
      "text/html": [
       "<div>\n",
       "<style scoped>\n",
       "    .dataframe tbody tr th:only-of-type {\n",
       "        vertical-align: middle;\n",
       "    }\n",
       "\n",
       "    .dataframe tbody tr th {\n",
       "        vertical-align: top;\n",
       "    }\n",
       "\n",
       "    .dataframe thead th {\n",
       "        text-align: right;\n",
       "    }\n",
       "</style>\n",
       "<table border=\"1\" class=\"dataframe\">\n",
       "  <thead>\n",
       "    <tr style=\"text-align: right;\">\n",
       "      <th></th>\n",
       "      <th>age</th>\n",
       "      <th>workclass</th>\n",
       "      <th>education_num</th>\n",
       "      <th>marital_status</th>\n",
       "      <th>occupation</th>\n",
       "      <th>relationship</th>\n",
       "      <th>race</th>\n",
       "      <th>sex</th>\n",
       "      <th>capital_gain</th>\n",
       "      <th>capital_loss</th>\n",
       "      <th>hours_per_week</th>\n",
       "      <th>native_country</th>\n",
       "      <th>wage_class</th>\n",
       "    </tr>\n",
       "  </thead>\n",
       "  <tbody>\n",
       "    <tr>\n",
       "      <th>0</th>\n",
       "      <td>2</td>\n",
       "      <td>3</td>\n",
       "      <td>3</td>\n",
       "      <td>Never-married</td>\n",
       "      <td>0</td>\n",
       "      <td>0</td>\n",
       "      <td>1</td>\n",
       "      <td>0</td>\n",
       "      <td>1</td>\n",
       "      <td>0</td>\n",
       "      <td>2</td>\n",
       "      <td>United-States</td>\n",
       "      <td>0</td>\n",
       "    </tr>\n",
       "    <tr>\n",
       "      <th>1</th>\n",
       "      <td>3</td>\n",
       "      <td>3</td>\n",
       "      <td>3</td>\n",
       "      <td>Married-civ-spouse</td>\n",
       "      <td>0</td>\n",
       "      <td>0</td>\n",
       "      <td>1</td>\n",
       "      <td>0</td>\n",
       "      <td>0</td>\n",
       "      <td>0</td>\n",
       "      <td>1</td>\n",
       "      <td>United-States</td>\n",
       "      <td>0</td>\n",
       "    </tr>\n",
       "    <tr>\n",
       "      <th>2</th>\n",
       "      <td>2</td>\n",
       "      <td>2</td>\n",
       "      <td>2</td>\n",
       "      <td>Other</td>\n",
       "      <td>0</td>\n",
       "      <td>0</td>\n",
       "      <td>1</td>\n",
       "      <td>0</td>\n",
       "      <td>0</td>\n",
       "      <td>0</td>\n",
       "      <td>2</td>\n",
       "      <td>United-States</td>\n",
       "      <td>0</td>\n",
       "    </tr>\n",
       "    <tr>\n",
       "      <th>3</th>\n",
       "      <td>3</td>\n",
       "      <td>2</td>\n",
       "      <td>1</td>\n",
       "      <td>Married-civ-spouse</td>\n",
       "      <td>0</td>\n",
       "      <td>0</td>\n",
       "      <td>0</td>\n",
       "      <td>0</td>\n",
       "      <td>0</td>\n",
       "      <td>0</td>\n",
       "      <td>2</td>\n",
       "      <td>United-States</td>\n",
       "      <td>0</td>\n",
       "    </tr>\n",
       "    <tr>\n",
       "      <th>4</th>\n",
       "      <td>1</td>\n",
       "      <td>2</td>\n",
       "      <td>3</td>\n",
       "      <td>Married-civ-spouse</td>\n",
       "      <td>0</td>\n",
       "      <td>0</td>\n",
       "      <td>0</td>\n",
       "      <td>1</td>\n",
       "      <td>0</td>\n",
       "      <td>0</td>\n",
       "      <td>2</td>\n",
       "      <td>Cuba</td>\n",
       "      <td>0</td>\n",
       "    </tr>\n",
       "  </tbody>\n",
       "</table>\n",
       "</div>"
      ],
      "text/plain": [
       "   age  workclass  education_num      marital_status  occupation  \\\n",
       "0    2          3              3       Never-married           0   \n",
       "1    3          3              3  Married-civ-spouse           0   \n",
       "2    2          2              2               Other           0   \n",
       "3    3          2              1  Married-civ-spouse           0   \n",
       "4    1          2              3  Married-civ-spouse           0   \n",
       "\n",
       "   relationship  race  sex  capital_gain  capital_loss  hours_per_week  \\\n",
       "0             0     1    0             1             0               2   \n",
       "1             0     1    0             0             0               1   \n",
       "2             0     1    0             0             0               2   \n",
       "3             0     0    0             0             0               2   \n",
       "4             0     0    1             0             0               2   \n",
       "\n",
       "  native_country  wage_class  \n",
       "0  United-States           0  \n",
       "1  United-States           0  \n",
       "2  United-States           0  \n",
       "3  United-States           0  \n",
       "4           Cuba           0  "
      ]
     },
     "execution_count": 101,
     "metadata": {},
     "output_type": "execute_result"
    }
   ],
   "source": [
    "df_train.head()"
   ]
  },
  {
   "cell_type": "code",
   "execution_count": 102,
   "metadata": {},
   "outputs": [],
   "source": [
    "df_train.native_country = df_train.native_country.apply(lambda x: 1 if x=='United-States' else 0)"
   ]
  },
  {
   "cell_type": "code",
   "execution_count": 103,
   "metadata": {},
   "outputs": [
    {
     "data": {
      "text/html": [
       "<div>\n",
       "<style scoped>\n",
       "    .dataframe tbody tr th:only-of-type {\n",
       "        vertical-align: middle;\n",
       "    }\n",
       "\n",
       "    .dataframe tbody tr th {\n",
       "        vertical-align: top;\n",
       "    }\n",
       "\n",
       "    .dataframe thead th {\n",
       "        text-align: right;\n",
       "    }\n",
       "</style>\n",
       "<table border=\"1\" class=\"dataframe\">\n",
       "  <thead>\n",
       "    <tr style=\"text-align: right;\">\n",
       "      <th></th>\n",
       "      <th>age</th>\n",
       "      <th>workclass</th>\n",
       "      <th>education_num</th>\n",
       "      <th>marital_status</th>\n",
       "      <th>occupation</th>\n",
       "      <th>relationship</th>\n",
       "      <th>race</th>\n",
       "      <th>sex</th>\n",
       "      <th>capital_gain</th>\n",
       "      <th>capital_loss</th>\n",
       "      <th>hours_per_week</th>\n",
       "      <th>native_country</th>\n",
       "      <th>wage_class</th>\n",
       "    </tr>\n",
       "  </thead>\n",
       "  <tbody>\n",
       "    <tr>\n",
       "      <th>0</th>\n",
       "      <td>2</td>\n",
       "      <td>3</td>\n",
       "      <td>3</td>\n",
       "      <td>Never-married</td>\n",
       "      <td>0</td>\n",
       "      <td>0</td>\n",
       "      <td>1</td>\n",
       "      <td>0</td>\n",
       "      <td>1</td>\n",
       "      <td>0</td>\n",
       "      <td>2</td>\n",
       "      <td>1</td>\n",
       "      <td>0</td>\n",
       "    </tr>\n",
       "    <tr>\n",
       "      <th>1</th>\n",
       "      <td>3</td>\n",
       "      <td>3</td>\n",
       "      <td>3</td>\n",
       "      <td>Married-civ-spouse</td>\n",
       "      <td>0</td>\n",
       "      <td>0</td>\n",
       "      <td>1</td>\n",
       "      <td>0</td>\n",
       "      <td>0</td>\n",
       "      <td>0</td>\n",
       "      <td>1</td>\n",
       "      <td>1</td>\n",
       "      <td>0</td>\n",
       "    </tr>\n",
       "    <tr>\n",
       "      <th>2</th>\n",
       "      <td>2</td>\n",
       "      <td>2</td>\n",
       "      <td>2</td>\n",
       "      <td>Other</td>\n",
       "      <td>0</td>\n",
       "      <td>0</td>\n",
       "      <td>1</td>\n",
       "      <td>0</td>\n",
       "      <td>0</td>\n",
       "      <td>0</td>\n",
       "      <td>2</td>\n",
       "      <td>1</td>\n",
       "      <td>0</td>\n",
       "    </tr>\n",
       "    <tr>\n",
       "      <th>3</th>\n",
       "      <td>3</td>\n",
       "      <td>2</td>\n",
       "      <td>1</td>\n",
       "      <td>Married-civ-spouse</td>\n",
       "      <td>0</td>\n",
       "      <td>0</td>\n",
       "      <td>0</td>\n",
       "      <td>0</td>\n",
       "      <td>0</td>\n",
       "      <td>0</td>\n",
       "      <td>2</td>\n",
       "      <td>1</td>\n",
       "      <td>0</td>\n",
       "    </tr>\n",
       "    <tr>\n",
       "      <th>4</th>\n",
       "      <td>1</td>\n",
       "      <td>2</td>\n",
       "      <td>3</td>\n",
       "      <td>Married-civ-spouse</td>\n",
       "      <td>0</td>\n",
       "      <td>0</td>\n",
       "      <td>0</td>\n",
       "      <td>1</td>\n",
       "      <td>0</td>\n",
       "      <td>0</td>\n",
       "      <td>2</td>\n",
       "      <td>0</td>\n",
       "      <td>0</td>\n",
       "    </tr>\n",
       "  </tbody>\n",
       "</table>\n",
       "</div>"
      ],
      "text/plain": [
       "   age  workclass  education_num      marital_status  occupation  \\\n",
       "0    2          3              3       Never-married           0   \n",
       "1    3          3              3  Married-civ-spouse           0   \n",
       "2    2          2              2               Other           0   \n",
       "3    3          2              1  Married-civ-spouse           0   \n",
       "4    1          2              3  Married-civ-spouse           0   \n",
       "\n",
       "   relationship  race  sex  capital_gain  capital_loss  hours_per_week  \\\n",
       "0             0     1    0             1             0               2   \n",
       "1             0     1    0             0             0               1   \n",
       "2             0     1    0             0             0               2   \n",
       "3             0     0    0             0             0               2   \n",
       "4             0     0    1             0             0               2   \n",
       "\n",
       "   native_country  wage_class  \n",
       "0               1           0  \n",
       "1               1           0  \n",
       "2               1           0  \n",
       "3               1           0  \n",
       "4               0           0  "
      ]
     },
     "execution_count": 103,
     "metadata": {},
     "output_type": "execute_result"
    }
   ],
   "source": [
    "df_train.head()"
   ]
  },
  {
   "cell_type": "code",
   "execution_count": 104,
   "metadata": {},
   "outputs": [
    {
     "data": {
      "text/plain": [
       "array(['Never-married', 'Married-civ-spouse', 'Other'], dtype=object)"
      ]
     },
     "execution_count": 104,
     "metadata": {},
     "output_type": "execute_result"
    }
   ],
   "source": [
    "df_train.marital_status.unique()"
   ]
  },
  {
   "cell_type": "code",
   "execution_count": 105,
   "metadata": {},
   "outputs": [
    {
     "data": {
      "text/html": [
       "<div>\n",
       "<style scoped>\n",
       "    .dataframe tbody tr th:only-of-type {\n",
       "        vertical-align: middle;\n",
       "    }\n",
       "\n",
       "    .dataframe tbody tr th {\n",
       "        vertical-align: top;\n",
       "    }\n",
       "\n",
       "    .dataframe thead th {\n",
       "        text-align: right;\n",
       "    }\n",
       "</style>\n",
       "<table border=\"1\" class=\"dataframe\">\n",
       "  <thead>\n",
       "    <tr style=\"text-align: right;\">\n",
       "      <th></th>\n",
       "      <th>age</th>\n",
       "      <th>workclass</th>\n",
       "      <th>education_num</th>\n",
       "      <th>occupation</th>\n",
       "      <th>relationship</th>\n",
       "      <th>race</th>\n",
       "      <th>sex</th>\n",
       "      <th>capital_gain</th>\n",
       "      <th>capital_loss</th>\n",
       "      <th>hours_per_week</th>\n",
       "      <th>native_country</th>\n",
       "      <th>wage_class</th>\n",
       "      <th>marital_status_Never-married</th>\n",
       "      <th>marital_status_Other</th>\n",
       "    </tr>\n",
       "  </thead>\n",
       "  <tbody>\n",
       "    <tr>\n",
       "      <th>0</th>\n",
       "      <td>2</td>\n",
       "      <td>3</td>\n",
       "      <td>3</td>\n",
       "      <td>0</td>\n",
       "      <td>0</td>\n",
       "      <td>1</td>\n",
       "      <td>0</td>\n",
       "      <td>1</td>\n",
       "      <td>0</td>\n",
       "      <td>2</td>\n",
       "      <td>1</td>\n",
       "      <td>0</td>\n",
       "      <td>1</td>\n",
       "      <td>0</td>\n",
       "    </tr>\n",
       "    <tr>\n",
       "      <th>1</th>\n",
       "      <td>3</td>\n",
       "      <td>3</td>\n",
       "      <td>3</td>\n",
       "      <td>0</td>\n",
       "      <td>0</td>\n",
       "      <td>1</td>\n",
       "      <td>0</td>\n",
       "      <td>0</td>\n",
       "      <td>0</td>\n",
       "      <td>1</td>\n",
       "      <td>1</td>\n",
       "      <td>0</td>\n",
       "      <td>0</td>\n",
       "      <td>0</td>\n",
       "    </tr>\n",
       "    <tr>\n",
       "      <th>2</th>\n",
       "      <td>2</td>\n",
       "      <td>2</td>\n",
       "      <td>2</td>\n",
       "      <td>0</td>\n",
       "      <td>0</td>\n",
       "      <td>1</td>\n",
       "      <td>0</td>\n",
       "      <td>0</td>\n",
       "      <td>0</td>\n",
       "      <td>2</td>\n",
       "      <td>1</td>\n",
       "      <td>0</td>\n",
       "      <td>0</td>\n",
       "      <td>1</td>\n",
       "    </tr>\n",
       "    <tr>\n",
       "      <th>3</th>\n",
       "      <td>3</td>\n",
       "      <td>2</td>\n",
       "      <td>1</td>\n",
       "      <td>0</td>\n",
       "      <td>0</td>\n",
       "      <td>0</td>\n",
       "      <td>0</td>\n",
       "      <td>0</td>\n",
       "      <td>0</td>\n",
       "      <td>2</td>\n",
       "      <td>1</td>\n",
       "      <td>0</td>\n",
       "      <td>0</td>\n",
       "      <td>0</td>\n",
       "    </tr>\n",
       "    <tr>\n",
       "      <th>4</th>\n",
       "      <td>1</td>\n",
       "      <td>2</td>\n",
       "      <td>3</td>\n",
       "      <td>0</td>\n",
       "      <td>0</td>\n",
       "      <td>0</td>\n",
       "      <td>1</td>\n",
       "      <td>0</td>\n",
       "      <td>0</td>\n",
       "      <td>2</td>\n",
       "      <td>0</td>\n",
       "      <td>0</td>\n",
       "      <td>0</td>\n",
       "      <td>0</td>\n",
       "    </tr>\n",
       "    <tr>\n",
       "      <th>...</th>\n",
       "      <td>...</td>\n",
       "      <td>...</td>\n",
       "      <td>...</td>\n",
       "      <td>...</td>\n",
       "      <td>...</td>\n",
       "      <td>...</td>\n",
       "      <td>...</td>\n",
       "      <td>...</td>\n",
       "      <td>...</td>\n",
       "      <td>...</td>\n",
       "      <td>...</td>\n",
       "      <td>...</td>\n",
       "      <td>...</td>\n",
       "      <td>...</td>\n",
       "    </tr>\n",
       "    <tr>\n",
       "      <th>32556</th>\n",
       "      <td>1</td>\n",
       "      <td>2</td>\n",
       "      <td>3</td>\n",
       "      <td>0</td>\n",
       "      <td>0</td>\n",
       "      <td>1</td>\n",
       "      <td>1</td>\n",
       "      <td>0</td>\n",
       "      <td>0</td>\n",
       "      <td>1</td>\n",
       "      <td>1</td>\n",
       "      <td>0</td>\n",
       "      <td>0</td>\n",
       "      <td>0</td>\n",
       "    </tr>\n",
       "    <tr>\n",
       "      <th>32557</th>\n",
       "      <td>2</td>\n",
       "      <td>2</td>\n",
       "      <td>2</td>\n",
       "      <td>0</td>\n",
       "      <td>0</td>\n",
       "      <td>1</td>\n",
       "      <td>0</td>\n",
       "      <td>0</td>\n",
       "      <td>0</td>\n",
       "      <td>2</td>\n",
       "      <td>1</td>\n",
       "      <td>1</td>\n",
       "      <td>0</td>\n",
       "      <td>0</td>\n",
       "    </tr>\n",
       "    <tr>\n",
       "      <th>32558</th>\n",
       "      <td>3</td>\n",
       "      <td>2</td>\n",
       "      <td>2</td>\n",
       "      <td>0</td>\n",
       "      <td>0</td>\n",
       "      <td>1</td>\n",
       "      <td>1</td>\n",
       "      <td>0</td>\n",
       "      <td>0</td>\n",
       "      <td>2</td>\n",
       "      <td>1</td>\n",
       "      <td>0</td>\n",
       "      <td>0</td>\n",
       "      <td>1</td>\n",
       "    </tr>\n",
       "    <tr>\n",
       "      <th>32559</th>\n",
       "      <td>1</td>\n",
       "      <td>2</td>\n",
       "      <td>2</td>\n",
       "      <td>0</td>\n",
       "      <td>1</td>\n",
       "      <td>1</td>\n",
       "      <td>0</td>\n",
       "      <td>0</td>\n",
       "      <td>0</td>\n",
       "      <td>1</td>\n",
       "      <td>1</td>\n",
       "      <td>0</td>\n",
       "      <td>1</td>\n",
       "      <td>0</td>\n",
       "    </tr>\n",
       "    <tr>\n",
       "      <th>32560</th>\n",
       "      <td>3</td>\n",
       "      <td>6</td>\n",
       "      <td>2</td>\n",
       "      <td>0</td>\n",
       "      <td>0</td>\n",
       "      <td>1</td>\n",
       "      <td>1</td>\n",
       "      <td>1</td>\n",
       "      <td>0</td>\n",
       "      <td>2</td>\n",
       "      <td>1</td>\n",
       "      <td>1</td>\n",
       "      <td>0</td>\n",
       "      <td>0</td>\n",
       "    </tr>\n",
       "  </tbody>\n",
       "</table>\n",
       "<p>30162 rows × 14 columns</p>\n",
       "</div>"
      ],
      "text/plain": [
       "       age  workclass  education_num  occupation  relationship  race  sex  \\\n",
       "0        2          3              3           0             0     1    0   \n",
       "1        3          3              3           0             0     1    0   \n",
       "2        2          2              2           0             0     1    0   \n",
       "3        3          2              1           0             0     0    0   \n",
       "4        1          2              3           0             0     0    1   \n",
       "...    ...        ...            ...         ...           ...   ...  ...   \n",
       "32556    1          2              3           0             0     1    1   \n",
       "32557    2          2              2           0             0     1    0   \n",
       "32558    3          2              2           0             0     1    1   \n",
       "32559    1          2              2           0             1     1    0   \n",
       "32560    3          6              2           0             0     1    1   \n",
       "\n",
       "       capital_gain  capital_loss  hours_per_week  native_country  wage_class  \\\n",
       "0                 1             0               2               1           0   \n",
       "1                 0             0               1               1           0   \n",
       "2                 0             0               2               1           0   \n",
       "3                 0             0               2               1           0   \n",
       "4                 0             0               2               0           0   \n",
       "...             ...           ...             ...             ...         ...   \n",
       "32556             0             0               1               1           0   \n",
       "32557             0             0               2               1           1   \n",
       "32558             0             0               2               1           0   \n",
       "32559             0             0               1               1           0   \n",
       "32560             1             0               2               1           1   \n",
       "\n",
       "       marital_status_Never-married  marital_status_Other  \n",
       "0                                 1                     0  \n",
       "1                                 0                     0  \n",
       "2                                 0                     1  \n",
       "3                                 0                     0  \n",
       "4                                 0                     0  \n",
       "...                             ...                   ...  \n",
       "32556                             0                     0  \n",
       "32557                             0                     0  \n",
       "32558                             0                     1  \n",
       "32559                             1                     0  \n",
       "32560                             0                     0  \n",
       "\n",
       "[30162 rows x 14 columns]"
      ]
     },
     "execution_count": 105,
     "metadata": {},
     "output_type": "execute_result"
    }
   ],
   "source": [
    "pd.get_dummies(df_train, drop_first=True)"
   ]
  },
  {
   "cell_type": "code",
   "execution_count": 106,
   "metadata": {},
   "outputs": [],
   "source": [
    "pd.get_dummies?"
   ]
  },
  {
   "cell_type": "markdown",
   "metadata": {},
   "source": [
    "## Zadanie\n",
    "1. przygotować funkcję, który krok po kroku przeprowadza transformację datasetu od postaci surowej do postaci pożądanej:\n",
    "    * usuwanie wartości brakujących\n",
    "    * enkodowanie targetu\n",
    "    * usuwanie \"zbędnych\" kolumn\n",
    "    * transformowanie kolumn numerycznych\n",
    "    * trnasformowanie kolumn kategorycznych\n",
    "2. Wczytać ponownie dane surowe  \n",
    "3. Zrobić transformację części treningowej oraz testowej\n"
   ]
  },
  {
   "cell_type": "code",
   "execution_count": null,
   "metadata": {},
   "outputs": [],
   "source": []
  },
  {
   "cell_type": "code",
   "execution_count": null,
   "metadata": {},
   "outputs": [],
   "source": []
  },
  {
   "cell_type": "code",
   "execution_count": null,
   "metadata": {},
   "outputs": [],
   "source": []
  },
  {
   "cell_type": "code",
   "execution_count": 107,
   "metadata": {},
   "outputs": [],
   "source": [
    "def prepare_dataset(df):\n",
    "    # missing values\n",
    "    df = df.replace('?', np.nan).dropna() \n",
    "    \n",
    "    # target\n",
    "    df['wage_class'] = df.wage_class.replace({'<=50K': 0, '<=50K.': 0, '>50K': 1, '>50K.': 1})\n",
    "    \n",
    "    # numerical columns\n",
    "    df['age'] = pd.cut(x=df['age'], bins=[0, 35, 50, 100], right=False, labels=[1, 2, 3])\n",
    "    df['age'] = df['age'].astype(int)\n",
    "    \n",
    "    df = df.drop('fnlwgt', axis=1)\n",
    "    df.education_num = pd.cut(x=df.education_num, bins=[1, 9, 11, 20], right=False, labels=[1, 2, 3])\n",
    "    df.education_num = df.education_num.astype(int)\n",
    "    \n",
    "    df.capital_gain = df.capital_gain.apply(lambda x: 1 if x > 0 else 0)\n",
    "    df.capital_loss = df.capital_loss.apply(lambda x: 1 if x > 0 else 0)\n",
    "\n",
    "    df.hours_per_week = pd.cut(x=df.hours_per_week, bins=[0, 39.9, 40.1, 100], right=False, labels=[1, 2, 3])\n",
    "    df.hours_per_week = df.hours_per_week.astype(int)\n",
    "\n",
    "    # categorical columns\n",
    "    df = df.drop('education', axis=1)\n",
    "    df.workclass = df.workclass.map(workclass_d)\n",
    "    df.marital_status = df.marital_status.apply(lambda x: map_marital_status(x))\n",
    "    df.occupation = df.occupation.map(occupation_d)\n",
    "    df.relationship = df.relationship.apply(lambda x: 1 if x=='Own-child' else 0)\n",
    "    df.race = df.race.apply(lambda x: 1 if x=='White' else 0)\n",
    "    df.sex = df.sex.apply(lambda x: 1 if x=='Female' else 0)\n",
    "    df.native_country = df.native_country.apply(lambda x: 1 if x=='United-States' else 0)\n",
    "    return pd.get_dummies(df, drop_first=True)\n"
   ]
  },
  {
   "cell_type": "code",
   "execution_count": 109,
   "metadata": {},
   "outputs": [],
   "source": [
    "train = pd.read_csv('Dane/adult.data', sep = \",\",skipinitialspace=True,  header = None)\n",
    "test = pd.read_csv('Dane/adult.test', sep = \",\" ,skiprows = [0], skipinitialspace=True, header = None) # Make sure to skip a row for the test set\n",
    "\n",
    "col_labels = ['age', 'workclass', 'fnlwgt', 'education', 'education_num', 'marital_status', 'occupation', \n",
    "              'relationship', 'race', 'sex', 'capital_gain', 'capital_loss', 'hours_per_week', 'native_country',\n",
    "             'wage_class']\n",
    "train.columns = col_labels\n",
    "test.columns = col_labels"
   ]
  },
  {
   "cell_type": "code",
   "execution_count": 110,
   "metadata": {},
   "outputs": [
    {
     "data": {
      "text/html": [
       "<div>\n",
       "<style scoped>\n",
       "    .dataframe tbody tr th:only-of-type {\n",
       "        vertical-align: middle;\n",
       "    }\n",
       "\n",
       "    .dataframe tbody tr th {\n",
       "        vertical-align: top;\n",
       "    }\n",
       "\n",
       "    .dataframe thead th {\n",
       "        text-align: right;\n",
       "    }\n",
       "</style>\n",
       "<table border=\"1\" class=\"dataframe\">\n",
       "  <thead>\n",
       "    <tr style=\"text-align: right;\">\n",
       "      <th></th>\n",
       "      <th>age</th>\n",
       "      <th>workclass</th>\n",
       "      <th>education_num</th>\n",
       "      <th>occupation</th>\n",
       "      <th>relationship</th>\n",
       "      <th>race</th>\n",
       "      <th>sex</th>\n",
       "      <th>capital_gain</th>\n",
       "      <th>capital_loss</th>\n",
       "      <th>hours_per_week</th>\n",
       "      <th>native_country</th>\n",
       "      <th>wage_class</th>\n",
       "      <th>marital_status_Never-married</th>\n",
       "      <th>marital_status_Other</th>\n",
       "    </tr>\n",
       "  </thead>\n",
       "  <tbody>\n",
       "    <tr>\n",
       "      <th>0</th>\n",
       "      <td>2</td>\n",
       "      <td>3</td>\n",
       "      <td>3</td>\n",
       "      <td>0</td>\n",
       "      <td>0</td>\n",
       "      <td>1</td>\n",
       "      <td>0</td>\n",
       "      <td>1</td>\n",
       "      <td>0</td>\n",
       "      <td>2</td>\n",
       "      <td>1</td>\n",
       "      <td>0</td>\n",
       "      <td>1</td>\n",
       "      <td>0</td>\n",
       "    </tr>\n",
       "    <tr>\n",
       "      <th>1</th>\n",
       "      <td>3</td>\n",
       "      <td>3</td>\n",
       "      <td>3</td>\n",
       "      <td>0</td>\n",
       "      <td>0</td>\n",
       "      <td>1</td>\n",
       "      <td>0</td>\n",
       "      <td>0</td>\n",
       "      <td>0</td>\n",
       "      <td>1</td>\n",
       "      <td>1</td>\n",
       "      <td>0</td>\n",
       "      <td>0</td>\n",
       "      <td>0</td>\n",
       "    </tr>\n",
       "    <tr>\n",
       "      <th>2</th>\n",
       "      <td>2</td>\n",
       "      <td>2</td>\n",
       "      <td>2</td>\n",
       "      <td>0</td>\n",
       "      <td>0</td>\n",
       "      <td>1</td>\n",
       "      <td>0</td>\n",
       "      <td>0</td>\n",
       "      <td>0</td>\n",
       "      <td>2</td>\n",
       "      <td>1</td>\n",
       "      <td>0</td>\n",
       "      <td>0</td>\n",
       "      <td>1</td>\n",
       "    </tr>\n",
       "    <tr>\n",
       "      <th>3</th>\n",
       "      <td>3</td>\n",
       "      <td>2</td>\n",
       "      <td>1</td>\n",
       "      <td>0</td>\n",
       "      <td>0</td>\n",
       "      <td>0</td>\n",
       "      <td>0</td>\n",
       "      <td>0</td>\n",
       "      <td>0</td>\n",
       "      <td>2</td>\n",
       "      <td>1</td>\n",
       "      <td>0</td>\n",
       "      <td>0</td>\n",
       "      <td>0</td>\n",
       "    </tr>\n",
       "    <tr>\n",
       "      <th>4</th>\n",
       "      <td>1</td>\n",
       "      <td>2</td>\n",
       "      <td>3</td>\n",
       "      <td>0</td>\n",
       "      <td>0</td>\n",
       "      <td>0</td>\n",
       "      <td>1</td>\n",
       "      <td>0</td>\n",
       "      <td>0</td>\n",
       "      <td>2</td>\n",
       "      <td>0</td>\n",
       "      <td>0</td>\n",
       "      <td>0</td>\n",
       "      <td>0</td>\n",
       "    </tr>\n",
       "  </tbody>\n",
       "</table>\n",
       "</div>"
      ],
      "text/plain": [
       "   age  workclass  education_num  occupation  relationship  race  sex  \\\n",
       "0    2          3              3           0             0     1    0   \n",
       "1    3          3              3           0             0     1    0   \n",
       "2    2          2              2           0             0     1    0   \n",
       "3    3          2              1           0             0     0    0   \n",
       "4    1          2              3           0             0     0    1   \n",
       "\n",
       "   capital_gain  capital_loss  hours_per_week  native_country  wage_class  \\\n",
       "0             1             0               2               1           0   \n",
       "1             0             0               1               1           0   \n",
       "2             0             0               2               1           0   \n",
       "3             0             0               2               1           0   \n",
       "4             0             0               2               0           0   \n",
       "\n",
       "   marital_status_Never-married  marital_status_Other  \n",
       "0                             1                     0  \n",
       "1                             0                     0  \n",
       "2                             0                     1  \n",
       "3                             0                     0  \n",
       "4                             0                     0  "
      ]
     },
     "execution_count": 110,
     "metadata": {},
     "output_type": "execute_result"
    }
   ],
   "source": [
    "train_df = prepare_dataset(train)\n",
    "train_df.head()"
   ]
  },
  {
   "cell_type": "code",
   "execution_count": 111,
   "metadata": {},
   "outputs": [
    {
     "data": {
      "text/plain": [
       "(30162, 14)"
      ]
     },
     "execution_count": 111,
     "metadata": {},
     "output_type": "execute_result"
    }
   ],
   "source": [
    "train_df.shape"
   ]
  },
  {
   "cell_type": "code",
   "execution_count": 112,
   "metadata": {},
   "outputs": [
    {
     "data": {
      "text/html": [
       "<div>\n",
       "<style scoped>\n",
       "    .dataframe tbody tr th:only-of-type {\n",
       "        vertical-align: middle;\n",
       "    }\n",
       "\n",
       "    .dataframe tbody tr th {\n",
       "        vertical-align: top;\n",
       "    }\n",
       "\n",
       "    .dataframe thead th {\n",
       "        text-align: right;\n",
       "    }\n",
       "</style>\n",
       "<table border=\"1\" class=\"dataframe\">\n",
       "  <thead>\n",
       "    <tr style=\"text-align: right;\">\n",
       "      <th></th>\n",
       "      <th>age</th>\n",
       "      <th>workclass</th>\n",
       "      <th>education_num</th>\n",
       "      <th>occupation</th>\n",
       "      <th>relationship</th>\n",
       "      <th>race</th>\n",
       "      <th>sex</th>\n",
       "      <th>capital_gain</th>\n",
       "      <th>capital_loss</th>\n",
       "      <th>hours_per_week</th>\n",
       "      <th>native_country</th>\n",
       "      <th>wage_class</th>\n",
       "      <th>marital_status_Never-married</th>\n",
       "      <th>marital_status_Other</th>\n",
       "    </tr>\n",
       "  </thead>\n",
       "  <tbody>\n",
       "    <tr>\n",
       "      <th>0</th>\n",
       "      <td>1</td>\n",
       "      <td>2</td>\n",
       "      <td>1</td>\n",
       "      <td>0</td>\n",
       "      <td>1</td>\n",
       "      <td>0</td>\n",
       "      <td>0</td>\n",
       "      <td>0</td>\n",
       "      <td>0</td>\n",
       "      <td>2</td>\n",
       "      <td>1</td>\n",
       "      <td>0</td>\n",
       "      <td>1</td>\n",
       "      <td>0</td>\n",
       "    </tr>\n",
       "    <tr>\n",
       "      <th>1</th>\n",
       "      <td>2</td>\n",
       "      <td>2</td>\n",
       "      <td>2</td>\n",
       "      <td>0</td>\n",
       "      <td>0</td>\n",
       "      <td>1</td>\n",
       "      <td>0</td>\n",
       "      <td>0</td>\n",
       "      <td>0</td>\n",
       "      <td>3</td>\n",
       "      <td>1</td>\n",
       "      <td>0</td>\n",
       "      <td>0</td>\n",
       "      <td>0</td>\n",
       "    </tr>\n",
       "    <tr>\n",
       "      <th>2</th>\n",
       "      <td>1</td>\n",
       "      <td>3</td>\n",
       "      <td>3</td>\n",
       "      <td>0</td>\n",
       "      <td>0</td>\n",
       "      <td>1</td>\n",
       "      <td>0</td>\n",
       "      <td>0</td>\n",
       "      <td>0</td>\n",
       "      <td>2</td>\n",
       "      <td>1</td>\n",
       "      <td>1</td>\n",
       "      <td>0</td>\n",
       "      <td>0</td>\n",
       "    </tr>\n",
       "    <tr>\n",
       "      <th>3</th>\n",
       "      <td>2</td>\n",
       "      <td>2</td>\n",
       "      <td>2</td>\n",
       "      <td>0</td>\n",
       "      <td>0</td>\n",
       "      <td>0</td>\n",
       "      <td>0</td>\n",
       "      <td>1</td>\n",
       "      <td>0</td>\n",
       "      <td>2</td>\n",
       "      <td>1</td>\n",
       "      <td>1</td>\n",
       "      <td>0</td>\n",
       "      <td>0</td>\n",
       "    </tr>\n",
       "    <tr>\n",
       "      <th>5</th>\n",
       "      <td>1</td>\n",
       "      <td>2</td>\n",
       "      <td>1</td>\n",
       "      <td>0</td>\n",
       "      <td>0</td>\n",
       "      <td>1</td>\n",
       "      <td>0</td>\n",
       "      <td>0</td>\n",
       "      <td>0</td>\n",
       "      <td>1</td>\n",
       "      <td>1</td>\n",
       "      <td>0</td>\n",
       "      <td>1</td>\n",
       "      <td>0</td>\n",
       "    </tr>\n",
       "  </tbody>\n",
       "</table>\n",
       "</div>"
      ],
      "text/plain": [
       "   age  workclass  education_num  occupation  relationship  race  sex  \\\n",
       "0    1          2              1           0             1     0    0   \n",
       "1    2          2              2           0             0     1    0   \n",
       "2    1          3              3           0             0     1    0   \n",
       "3    2          2              2           0             0     0    0   \n",
       "5    1          2              1           0             0     1    0   \n",
       "\n",
       "   capital_gain  capital_loss  hours_per_week  native_country  wage_class  \\\n",
       "0             0             0               2               1           0   \n",
       "1             0             0               3               1           0   \n",
       "2             0             0               2               1           1   \n",
       "3             1             0               2               1           1   \n",
       "5             0             0               1               1           0   \n",
       "\n",
       "   marital_status_Never-married  marital_status_Other  \n",
       "0                             1                     0  \n",
       "1                             0                     0  \n",
       "2                             0                     0  \n",
       "3                             0                     0  \n",
       "5                             1                     0  "
      ]
     },
     "execution_count": 112,
     "metadata": {},
     "output_type": "execute_result"
    }
   ],
   "source": [
    "test_df = prepare_dataset(test)\n",
    "test_df.head()"
   ]
  },
  {
   "cell_type": "code",
   "execution_count": 113,
   "metadata": {},
   "outputs": [
    {
     "data": {
      "text/plain": [
       "age                             0\n",
       "workclass                       0\n",
       "education_num                   0\n",
       "occupation                      0\n",
       "relationship                    0\n",
       "race                            0\n",
       "sex                             0\n",
       "capital_gain                    0\n",
       "capital_loss                    0\n",
       "hours_per_week                  0\n",
       "native_country                  0\n",
       "wage_class                      0\n",
       "marital_status_Never-married    0\n",
       "marital_status_Other            0\n",
       "dtype: int64"
      ]
     },
     "execution_count": 113,
     "metadata": {},
     "output_type": "execute_result"
    }
   ],
   "source": [
    "test_df.isna().sum()"
   ]
  },
  {
   "cell_type": "code",
   "execution_count": 114,
   "metadata": {},
   "outputs": [],
   "source": [
    "target_col = 'wage_class'\n",
    "X_train, y_train = train_df.drop(target_col, axis=1), train_df[target_col]\n",
    "X_test, y_test = test_df.drop(target_col, axis=1), test_df[target_col]"
   ]
  },
  {
   "cell_type": "code",
   "execution_count": 115,
   "metadata": {},
   "outputs": [
    {
     "data": {
      "text/plain": [
       "0.8337981407702523"
      ]
     },
     "execution_count": 115,
     "metadata": {},
     "output_type": "execute_result"
    }
   ],
   "source": [
    "xgb_model = XGBClassifier()\n",
    "xgb_model.fit(X_train, y_train)\n",
    "xgb_model.score(X_test, y_test)"
   ]
  },
  {
   "cell_type": "markdown",
   "metadata": {},
   "source": [
    "## Zadanie\n",
    "* zrobić tuningowanie parametrów z użyciem Randomized Search"
   ]
  },
  {
   "cell_type": "code",
   "execution_count": null,
   "metadata": {},
   "outputs": [],
   "source": [
    "xgb = XGBClassifier()\n",
    "params = {\"n_estimators\":[10,100,200],\n",
    "         \"learning_rate\":ss.uniform(0.01,0.3),\n",
    "          \"max_depth\": ss.randint(5,30),\n",
    "         \"min_child_weight\":ss.randint(5,50),\n",
    "         \"reg_lambda\":ss.uniform(0.1,3)}\n",
    "\n",
    "cv = RandomizedSearchCV(cv=3, \n",
    "                        estimator=xgb,\n",
    "                        param_distributions=params,\n",
    "                        n_iter=10,\n",
    "                        verbose=100)\n",
    "cv.fit(X_train,y_train)"
   ]
  },
  {
   "cell_type": "code",
   "execution_count": null,
   "metadata": {},
   "outputs": [],
   "source": [
    "cv.score(X_test, y_test)"
   ]
  },
  {
   "cell_type": "markdown",
   "metadata": {},
   "source": [
    "## Bonus: Hyperopt"
   ]
  },
  {
   "cell_type": "code",
   "execution_count": null,
   "metadata": {},
   "outputs": [],
   "source": [
    "from hyperopt import hp, tpe, Trials, space_eval\n",
    "from hyperopt.fmin import fmin\n",
    "from hyperopt.plotting import main_plot_history\n",
    "from sklearn.model_selection import cross_val_score\n",
    "\n",
    "def objective(space):\n",
    "    clf = XGBClassifier(n_estimators = space['n_estimators'],\n",
    "                           max_depth = space['max_depth'],\n",
    "                           learning_rate = space['learning_rate'],\n",
    "                           reg_alpha = space['reg_alpha'],\n",
    "                           reg_lambda = space['reg_lambda']\n",
    "                           )\n",
    "    print('XGB is configured ...')\n",
    "    print(space)\n",
    "    \n",
    "    score = cross_val_score(clf, X_train, y_train, cv=3, verbose=1)\n",
    "    # score -> list of validation scores \n",
    "    \n",
    "    return -np.mean(score) # because function is minimizing only\n",
    "\n",
    "# search space\n",
    "space = {'max_depth': hp.choice('max_depth', np.arange(2, 20, 1,  dtype=int)),\n",
    "         'n_estimators': hp.choice('n_estimators', np.arange(100, 1000, 50,  dtype=int)),\n",
    "         'learning_rate': hp.loguniform('learning_rate', np.log(0.001), np.log(1)),\n",
    "         'reg_alpha': hp.uniform('reg_alpha', 0.0, 1.0),\n",
    "         'reg_lambda': hp.uniform('reg_lambda', 0.0, 1.0)\n",
    "        }\n",
    "\n",
    "# object for keeping the optimization information\n",
    "trials = Trials()\n",
    "\n",
    "# optimization process \n",
    "fmin(fn=objective,      # objective function\n",
    "     space=space,       # search space\n",
    "     algo=tpe.suggest,  # algorithm for optimization\n",
    "     max_evals=10,     # how many different combinations we try\n",
    "     trials=trials)     # object to keep the optimization process\n",
    "     \n",
    "params = space_eval(space, trials.argmin)\n",
    "params"
   ]
  },
  {
   "cell_type": "code",
   "execution_count": null,
   "metadata": {},
   "outputs": [],
   "source": [
    "y_test.mean()"
   ]
  }
 ],
 "metadata": {
  "kernelspec": {
   "display_name": "Python 3 (ipykernel)",
   "language": "python",
   "name": "python3"
  },
  "language_info": {
   "codemirror_mode": {
    "name": "ipython",
    "version": 3
   },
   "file_extension": ".py",
   "mimetype": "text/x-python",
   "name": "python",
   "nbconvert_exporter": "python",
   "pygments_lexer": "ipython3",
   "version": "3.9.10"
  }
 },
 "nbformat": 4,
 "nbformat_minor": 2
}
